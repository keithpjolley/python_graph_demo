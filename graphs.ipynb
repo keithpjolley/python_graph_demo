{
 "cells": [
  {
   "cell_type": "markdown",
   "metadata": {
    "editable": true,
    "slideshow": {
     "slide_type": "skip"
    },
    "tags": []
   },
   "source": [
    "# Preramble\n",
    "\n",
    "Note - this notebook was intended to be a slide deck for a presentation at the December 2018 San Diego Python Users group. It relies on a number of python packages, [d3](https://d3js.org/) (a javascript visualization library), and, optionally, [rise](https://github.com/jupyterlab-contrib/rise), which is a jupyter slideshow add-on. RISE is great but it also doesn't do a great job of using the available space, pushing things off the bottom of the screen. This means there some info that should be on a single slide are split into multiple slides.\n",
    "\n",
    "One of the questions that was asked was \"Where can I get data to play with this on my own?\" The Enron header file is included but here are some other ideas:\n",
    "- [Hillary Clinton's email](https://www.kaggle.com/kaggle/hillary-clinton-emails)\n",
    "- [Shopping Data](https://www.kaggle.com/c/walmart-recruiting-trip-type-classification/data)\n",
    "- [IMDB Data](https://www.imdb.com/interfaces/)\n",
    "- [Flight Data](https://openflights.org/data.html) - not current but still very cool.\n",
    "\n",
    "The \"[Specialized Tools](http://127.0.0.1:8888/notebooks/graphs.ipynb#Specialized-tools) will also likely have links to datasets. For instance, [NetworkX](https://networkx.org/) has some small networks built in, like [Karate Club](https://networkx.org/documentation/stable/reference/generated/networkx.generators.social.karate_club_graph.html). Great for testing.\n",
    "\n",
    "[This notebook](https://github.com/keithpjolley/python_graph_demo) is available on GitHub <s>and as a static web-page (disconnected from Python) [here](https://www.jamulheavyindustries.com/presentations/pythonsd_graph/).</s>"
   ]
  },
  {
   "cell_type": "code",
   "execution_count": null,
   "metadata": {
    "editable": true,
    "slideshow": {
     "slide_type": "skip"
    },
    "tags": []
   },
   "outputs": [],
   "source": [
    "import pandas as pd\n",
    "import numpy as np\n",
    "import scipy\n",
    "import networkx as nx\n",
    "import matplotlib.pyplot as plt\n",
    "import heapq\n",
    "import colorsys\n",
    "from sklearn.preprocessing import minmax_scale\n",
    "import json\n",
    "from IPython.display import display, HTML\n",
    "from operator import add\n",
    "import graphviz\n",
    "from copy import deepcopy\n",
    "from matrepr import mprint\n",
    "\n",
    "%matplotlib inline\n",
    "\n",
    "min_s, max_s = 10, 100  # for plotly - moon units?\n",
    "min_r, max_r = 6, 25  # for d3 - node radius in pixels\n",
    "\n",
    "\n",
    "def color(object_number, total_objects):\n",
    "    \"\"\"! Use colorsys to find an RGB color.\n",
    "    Returns a color on the edge of the hsv color wheel, starting at the top of the\n",
    "    color wheel and rotating c*360/(total_objects+1) degrees where \"c\" is index of\n",
    "    this particular object.\n",
    "\n",
    "    @param  object_number  Index of this object.\n",
    "    @param  total_objects  Number of objects.\n",
    "    @return  RGB color (A string like #ff00ff).\n",
    "    \"\"\"\n",
    "    return \"#\" + \"\".join(\n",
    "        f\"{int(255 * x):02x}\"\n",
    "        for x in colorsys.hsv_to_rgb(object_number / (total_objects + 1), 1, 1)\n",
    "    )\n",
    "\n",
    "\n",
    "def plt2x2(G, picture):\n",
    "    \"\"\"! Plots graph G using the networkx kamada_kawai algorithm. Also plots\n",
    "    `picture` next to it.\n",
    "\n",
    "    @param G  networkx plot (with attributes `color` and `radius` set.\n",
    "    @param  picture  A picture to plot next to G.\n",
    "    @return  a figure suitable for framing.\n",
    "    \"\"\"\n",
    "    fig, (ax1, ax2) = plt.subplots(\n",
    "        1, 2, num=None, figsize=(14, 8), dpi=72, facecolor=\"w\", edgecolor=\"k\"\n",
    "    )\n",
    "    _ = nx.draw_kamada_kawai(\n",
    "        G,\n",
    "        ax=ax1,\n",
    "        node_color=list(nx.get_node_attributes(G, \"color\").values()),\n",
    "        node_size=[4 * s for s in nx.get_node_attributes(G, \"size\").values()],\n",
    "    )\n",
    "    pic = plt.imread(picture)\n",
    "    ax2.imshow(pic)\n",
    "    ax2.set_title(\"What if this is as good as it gets?\")\n",
    "    return fig\n",
    "\n",
    "\n",
    "# https://stackoverflow.com/a/53779330/2624770\n",
    "def javascript(*st, file=None):\n",
    "    if len(st) == 1 and file is None:\n",
    "        s = st[0]\n",
    "    elif len(st) == 0 and file is not None:\n",
    "        s = open(file).read()\n",
    "    else:\n",
    "        raise ValueError(\"Pass either a string or file=.\")\n",
    "    display(HTML(\"<script type='text/javascript'>\" + s + \"</script>\"))\n",
    "\n",
    "\n",
    "# Same logic as `javascript()`\n",
    "def css(file):\n",
    "    s = open(file).read()\n",
    "    display(HTML(f\"<style>{s}</style>\"))\n",
    "\n",
    "\n",
    "def style_graph(g):\n",
    "    g.attr(rankdir=\"LR\")\n",
    "    g.attr(bgcolor=\"#00000000\")\n",
    "    g.body.append(\n",
    "        'node[style=invis]\\n0->1->2->3->4[style=invis]\\nnode[style=\"\"]\\n'\n",
    "    )\n",
    "    g.attr(\"edge\", color=\"red\")\n",
    "    g.attr(\"node\", color=\"grey\")\n",
    "    g.attr(\"node\", shape=\"oval\")\n",
    "    g.attr(\"node\", style=\"filled\")\n",
    "    g.attr(\"node\", fillcolor=\"white\")\n",
    "    g.body.append(\"{rank=same; 0; Alice;}\")\n",
    "    g.body.append(\"{rank=same; 2; Carol; Bob; Doug;}\")"
   ]
  },
  {
   "cell_type": "code",
   "execution_count": null,
   "metadata": {
    "editable": true,
    "slideshow": {
     "slide_type": "skip"
    },
    "tags": []
   },
   "outputs": [],
   "source": [
    "css(\"include/css/style.css\")\n",
    "javascript(file=\"include/js/d3@7\")\n",
    "javascript(file=\"include/js/forcedirected.js\");  # Script for d3 plot.\n",
    "# javascript(file=\"include/js/bg.js\");  # Save this for another day."
   ]
  },
  {
   "cell_type": "markdown",
   "metadata": {
    "editable": true,
    "slideshow": {
     "slide_type": "slide"
    },
    "tags": []
   },
   "source": [
    "# Python & Graphs\n",
    "### Keith P Jolley"
   ]
  },
  {
   "cell_type": "markdown",
   "metadata": {
    "editable": true,
    "slideshow": {
     "slide_type": "slide"
    },
    "tags": []
   },
   "source": [
    "# What's This Talk About?\n",
    "\n",
    "### 1. What is a graph?\n",
    "### 2. What can graphs be used for?\n",
    "### 3. A couple things to keep in mind when working with graphs.\n",
    "### 4. How to create graph in a handful of different python packages.\n",
    "### 5. A simple analysis using `networkx`.\n",
    "### 6. Visualizing the graphs."
   ]
  },
  {
   "cell_type": "markdown",
   "metadata": {
    "editable": true,
    "slideshow": {
     "slide_type": "slide"
    },
    "tags": []
   },
   "source": [
    "## Keith P Jolley\n",
    "\n",
    "### Experience:\n",
    "- Technical Account Manager, NetApp\n",
    "- Senior Director, IT - Qualcomm\n",
    "- Analyst, Naval Health Research Center\n",
    "\n",
    "### Education:\n",
    "- BS Aerospace Engineering, 1992, SDSU\n",
    "- MS Computational Science, 2013, SDSU\n",
    "- MS Data Analytics, To be completed 2019, Georgia Tech"
   ]
  },
  {
   "cell_type": "markdown",
   "metadata": {
    "editable": true,
    "slideshow": {
     "slide_type": "slide"
    },
    "tags": []
   },
   "source": [
    "# What's a Graph or Network?\n",
    "\n",
    "A visual or mathematical representation of **Nodes** and **Edges** based on how nodes are **connected**.\n",
    "\n",
    "**Nodes**, also called **vertices**, are the \"things\" in the network.\n",
    "\n",
    "**Edges**, also called **arcs**, are the \"connections\" in the network. They represent the relationship between nodes.\n",
    "\n",
    "Edges may have **weight**. An edge with weight shows the relative magnitude of the connectivity between two nodes. Edges can have multiple parameters or attributes.\n",
    "\n",
    "Edges may have **direction**.\n",
    "\n",
    "Some networks may have edges with the same \"source\" and \"target.\"\n",
    "\n",
    "Graph and network are two words for the same thing:\n",
    "[Wolfram Alpha Oct 2024](https://www.wolfram.com/language/elementary-introduction/2nd-ed/21-graphs-and-networks.html)."
   ]
  },
  {
   "cell_type": "markdown",
   "metadata": {
    "editable": true,
    "slideshow": {
     "slide_type": "slide"
    },
    "tags": []
   },
   "source": [
    "# Types of Graphs\n",
    "\n",
    "- A network is either \"directed\" or \"undirected.\"\n",
    "  - A directed graph implies a direction of edges.\n",
    "  - Friends on a social network would be undirected because if A is a friend with B then B is also a friend with A.\n",
    "  - Travel times between cities A to B maybe different than B to A and call for a directed graph.\n",
    "- Networks are \"weighted\" or \"unweighted.\"\n",
    "  - In a \"weighted\" graph the edges have a numeric value, usually called \"weight.\"\n",
    "  - The total number of bytes sent from A to B could be a weight you are interested in.\n",
    "  - In an unweighted graph an edge between nodes either exist or doesn't."
   ]
  },
  {
   "cell_type": "markdown",
   "metadata": {
    "editable": true,
    "slideshow": {
     "slide_type": "slide"
    },
    "tags": []
   },
   "source": [
    "# Graph Examples\n",
    "\n",
    "- Social Network (LinkedIn: People, Companies, Jobs are nodes, edges are the connections)\n",
    "- Email Networks (Google Mail: People, Emails are nodes, sending/receiving emails are the edges)\n",
    "- Websites (Google: Pages are nodes, hyperlinks are the edges)\n",
    "- Roads (Waze: Intersections are vertices, roads are the edges, \"traffic\" is the weight)\n",
    "- [Oracle of Bacon](https://oracleofbacon.org/movielinks.php) (Actors are the nodes, \"credits\" are the edges)"
   ]
  },
  {
   "cell_type": "markdown",
   "metadata": {
    "editable": true,
    "slideshow": {
     "slide_type": "slide"
    },
    "tags": []
   },
   "source": [
    "# You Should Know\n",
    "\n",
    "## Graphs become large quickly\n",
    "\n",
    "Worst case: $N^2$ where N is the number of nodes.\n",
    "\n",
    "A social network of all 2.1M Walmart employees is big.\n",
    "\n",
    "The graph of all ~3B Facebook users is really big.\n",
    "\n",
    "Google's graph \"every page google knows about\" is huge.\n",
    "\n",
    "If your graph has tens of millions or billions of nodes then `numpy` or `networkx`, may not be a good fit."
   ]
  },
  {
   "cell_type": "markdown",
   "metadata": {
    "editable": true,
    "slideshow": {
     "slide_type": "slide"
    },
    "tags": []
   },
   "source": [
    "# You Should Know...\n",
    "\n",
    "## Specialized tools\n",
    "\n",
    "There are tools that are made for graphs that may be more appropriate as your graphs increase in size. For example:\n",
    "\n",
    "- [Graphviz](https://graphviz.org/about/) - Simple graph plotter (dot). Examples inline.\n",
    "- [Neo4j](https://neo4j.com/) - Graph database\n",
    "- [Gephi](https://gephi.org/)\n",
    "- [Cytoscape](https://cytoscape.org/)\n",
    "- [R](https://www.r-project.org) and [igraph](https://r.igraph.org) - Fine for smallish graphs\n",
    "- [Linkurious](https://linkurio.us/) - Commercial solution\n",
    "\n",
    "FYI: Relational databases are a terrible choice for managing relationships!"
   ]
  },
  {
   "cell_type": "markdown",
   "metadata": {
    "editable": true,
    "slideshow": {
     "slide_type": "slide"
    },
    "tags": []
   },
   "source": [
    "# You Should Know...\n",
    "\n",
    "## Visualization...\n",
    "\n",
    "Visualizing large graphs is hard. There are no good network visualization tools in Python as of late 2018 (still true in 2024). From the [authors](https://networkx.github.io/documentation/latest/reference/drawing.html) of `networkx`:\n",
    "\n",
    "> ## Drawing\n",
    "> In the future, graph visualization functionality may be removed from NetworkX or only available as an add-on package.\n",
    ">\n",
    "> Proper graph visualization is hard, and we highly recommend that people visualize their graphs with tools dedicated to that task.\n",
    ">"
   ]
  },
  {
   "cell_type": "markdown",
   "metadata": {
    "editable": true,
    "slideshow": {
     "slide_type": "slide"
    },
    "tags": []
   },
   "source": [
    "# Visualization...\n",
    "\n",
    "Hairball. Please don't do this.\n",
    "![terrible graph visualization that looks like a hairball](include/images/hairball.png)\n",
    "\n",
    "\n",
    "<sub><sup>This is the best I could do using one of the tools listed prior.</sup></sub>"
   ]
  },
  {
   "cell_type": "markdown",
   "metadata": {
    "editable": true,
    "slideshow": {
     "slide_type": "slide"
    },
    "tags": []
   },
   "source": [
    "# Let's Build A (directed, weighted) Network Already!"
   ]
  },
  {
   "cell_type": "markdown",
   "metadata": {
    "editable": true,
    "slideshow": {
     "slide_type": "slide"
    },
    "tags": []
   },
   "source": [
    "## 0. Alice sends an email\n",
    "\n",
    "*Edge Notation:* Alice -> (Bob, Carol, Dan)"
   ]
  },
  {
   "cell_type": "code",
   "execution_count": null,
   "metadata": {
    "editable": true,
    "slideshow": {
     "slide_type": ""
    },
    "tags": []
   },
   "outputs": [],
   "source": [
    "g = graphviz.Digraph()\n",
    "style_graph(g)\n",
    "# Add edges from Alice to Bob, Carol, and Doug.\n",
    "g.edges((\"Alice\", n) for n in [\"Bob\", \"Carol\", \"Doug\"])\n",
    "display(g)"
   ]
  },
  {
   "cell_type": "markdown",
   "metadata": {
    "editable": true,
    "slideshow": {
     "slide_type": ""
    },
    "tags": []
   },
   "source": [
    "**Matrix Notation:**\n",
    "\n",
    "Read this as \"rows\" are the senders while \"columns\" are the receivers.\n",
    "\n",
    "<div class=\"box matrix\">\n",
    "$\\left[ \\begin{array}{cccc}\n",
    "      & A & B & C & D & E & F \\\\\n",
    "    A & {\\color{grey}0} & {\\color{red}1}  & {\\color{red}1}  & {\\color{red}1}  & {\\color{grey}0} & {\\color{grey}0} \\\\\n",
    "    B & {\\color{grey}0} & {\\color{grey}0} & {\\color{grey}0} & {\\color{grey}0} & {\\color{grey}0} & {\\color{grey}0} \\\\\n",
    "    C & {\\color{grey}0} & {\\color{grey}0} & {\\color{grey}0} & {\\color{grey}0} & {\\color{grey}0} & {\\color{grey}0} \\\\\n",
    "    D & {\\color{grey}0} & {\\color{grey}0} & {\\color{grey}0} & {\\color{grey}0} & {\\color{grey}0} & {\\color{grey}0} \\\\\n",
    "    E & {\\color{grey}0} & {\\color{grey}0} & {\\color{grey}0} & {\\color{grey}0} & {\\color{grey}0} & {\\color{grey}0} \\\\\n",
    "    F & {\\color{grey}0} & {\\color{grey}0} & {\\color{grey}0} & {\\color{grey}0} & {\\color{grey}0} & {\\color{grey}0} \\\\\n",
    "  \\end{array}\n",
    "\\right] $\n",
    "</div>"
   ]
  },
  {
   "cell_type": "code",
   "execution_count": null,
   "metadata": {
    "editable": true,
    "slideshow": {
     "slide_type": "skip"
    },
    "tags": []
   },
   "outputs": [],
   "source": [
    "# This is the equivalent numpy array:\n",
    "Gnp = np.array(\n",
    "    [\n",
    "        [0, 1, 1, 1, 0, 0],\n",
    "        [0, 0, 0, 0, 0, 0],\n",
    "        [0, 0, 0, 0, 0, 0],\n",
    "        [0, 0, 0, 0, 0, 0],\n",
    "        [0, 0, 0, 0, 0, 0],\n",
    "        [0, 0, 0, 0, 0, 0],\n",
    "    ]\n",
    ")"
   ]
  },
  {
   "cell_type": "markdown",
   "metadata": {
    "editable": true,
    "slideshow": {
     "slide_type": "slide"
    },
    "tags": []
   },
   "source": [
    "### 1. Carol replies all.\n",
    "\n",
    "*Edge Notatation:* Carol -> (Alice, Bob, Dan)  "
   ]
  },
  {
   "cell_type": "code",
   "execution_count": null,
   "metadata": {
    "editable": true,
    "slideshow": {
     "slide_type": ""
    },
    "tags": []
   },
   "outputs": [],
   "source": [
    "# Add edges from Alice to Bob, Carol, and Doug.\n",
    "g1 = deepcopy(g)\n",
    "[g1.edge(\"Carol\", node, color=\"blue\") for node in [\"Alice\", \"Bob\", \"Doug\"]]\n",
    "display(g1)"
   ]
  },
  {
   "cell_type": "markdown",
   "metadata": {
    "editable": true,
    "slideshow": {
     "slide_type": ""
    },
    "tags": []
   },
   "source": [
    "*Matrix Notation:*  \n",
    "\n",
    "<div class=\"box matrix\">\n",
    "$\\left[ \\begin{array}{cccc}\n",
    "      & A & B & C & D & E & F \\\\\n",
    "    A & {\\color{grey}0} & {\\color{red}1}  & {\\color{red}1}  & {\\color{red}1}  & {\\color{grey}0} & {\\color{grey}0} \\\\\n",
    "    B & {\\color{grey}0} & {\\color{grey}0} & {\\color{grey}0} & {\\color{grey}0} & {\\color{grey}0} & {\\color{grey}0} \\\\\n",
    "    C & {\\color{blue} 1} & {\\color{blue} 1} & {\\color{grey}0} & {\\color{blue} 1} & {\\color{grey}0} & {\\color{grey}0} \\\\\n",
    "    D & {\\color{grey}0} & {\\color{grey}0} & {\\color{grey}0} & {\\color{grey}0} & {\\color{grey}0} & {\\color{grey}0} \\\\\n",
    "    E & {\\color{grey}0} & {\\color{grey}0} & {\\color{grey}0} & {\\color{grey}0} & {\\color{grey}0} & {\\color{grey}0} \\\\\n",
    "    F & {\\color{grey}0} & {\\color{grey}0} & {\\color{grey}0} & {\\color{grey}0} & {\\color{grey}0} & {\\color{grey}0} \\\\\n",
    "  \\end{array}\n",
    "\\right] $\n",
    "</div>"
   ]
  },
  {
   "cell_type": "code",
   "execution_count": null,
   "metadata": {
    "editable": true,
    "slideshow": {
     "slide_type": "skip"
    },
    "tags": []
   },
   "outputs": [],
   "source": [
    "# This is the equivalent numpy array:\n",
    "Gnp += np.array(\n",
    "    [\n",
    "        [0, 0, 0, 0, 0, 0],\n",
    "        [0, 0, 0, 0, 0, 0],\n",
    "        [1, 1, 0, 1, 0, 0],\n",
    "        [0, 0, 0, 0, 0, 0],\n",
    "        [0, 0, 0, 0, 0, 0],\n",
    "        [0, 0, 0, 0, 0, 0],\n",
    "    ]\n",
    ")"
   ]
  },
  {
   "cell_type": "markdown",
   "metadata": {
    "editable": true,
    "slideshow": {
     "slide_type": "slide"
    },
    "tags": []
   },
   "source": [
    "### 2. Carol sends another email\n",
    "\n",
    "*Edge Notation:* Carol -> (Erin, Frank)  "
   ]
  },
  {
   "cell_type": "code",
   "execution_count": null,
   "metadata": {
    "editable": true,
    "slideshow": {
     "slide_type": ""
    },
    "tags": []
   },
   "outputs": [],
   "source": [
    "# Note that more can be done to make the plots look nicer but that's\n",
    "# outside the scope of this notebook.\n",
    "g2 = deepcopy(g1)\n",
    "targets = [\"Erin\", \"Frank\"]\n",
    "[g2.edge(\"Carol\", node, color=\"green\") for node in targets]\n",
    "display(g2)"
   ]
  },
  {
   "cell_type": "markdown",
   "metadata": {
    "editable": true,
    "slideshow": {
     "slide_type": ""
    },
    "tags": []
   },
   "source": [
    "**Matrix Notation:**\n",
    "\n",
    "<div class=\"box matrix\">\n",
    "$\\left[ \\begin{array}{cccc}\n",
    "    A & {\\color{grey}0} & {\\color{red}1}  & {\\color{red}1}  & {\\color{red}1}  & {\\color{grey}0} & {\\color{grey}0} \\\\\n",
    "    B & {\\color{grey}0} & {\\color{grey}0} & {\\color{grey}0} & {\\color{grey}0} & {\\color{grey}0} & {\\color{grey}0} \\\\\n",
    "    C & {\\color{blue}1} & {\\color{blue}1} & {\\color{grey}0} & {\\color{blue}1} & {\\color{green}1} & {\\color{green}1} \\\\\n",
    "    D & {\\color{grey}0} & {\\color{grey}0} & {\\color{grey}0} & {\\color{grey}0} & {\\color{grey}0} & {\\color{grey}0} \\\\\n",
    "    E & {\\color{grey}0} & {\\color{grey}0} & {\\color{grey}0} & {\\color{grey}0} & {\\color{grey}0} & {\\color{grey}0} \\\\\n",
    "    F & {\\color{grey}0} & {\\color{grey}0} & {\\color{grey}0} & {\\color{grey}0} & {\\color{grey}0} & {\\color{grey}0} \\\\\n",
    "  \\end{array}\n",
    "\\right] $\n",
    "</div>"
   ]
  },
  {
   "cell_type": "code",
   "execution_count": null,
   "metadata": {
    "editable": true,
    "slideshow": {
     "slide_type": "skip"
    },
    "tags": []
   },
   "outputs": [],
   "source": [
    "# This is the equivalent numpy array:\n",
    "Gnp += np.array(\n",
    "    [\n",
    "        [0, 0, 0, 0, 0, 0],\n",
    "        [0, 0, 0, 0, 0, 0],\n",
    "        [0, 0, 0, 0, 1, 1],\n",
    "        [0, 0, 0, 0, 0, 0],\n",
    "        [0, 0, 0, 0, 0, 0],\n",
    "        [0, 0, 0, 0, 0, 0],\n",
    "    ]\n",
    ")"
   ]
  },
  {
   "cell_type": "markdown",
   "metadata": {
    "editable": true,
    "slideshow": {
     "slide_type": "slide"
    },
    "tags": []
   },
   "source": [
    "## With Sparse Matrix\n",
    "### 0. Alice sends an email\n",
    "\n",
    "*Edge notation:* Alice -> (Bob, Carol, Dan)"
   ]
  },
  {
   "cell_type": "code",
   "execution_count": null,
   "metadata": {
    "editable": true,
    "slideshow": {
     "slide_type": ""
    },
    "tags": []
   },
   "outputs": [],
   "source": [
    "display(g)"
   ]
  },
  {
   "cell_type": "code",
   "execution_count": null,
   "metadata": {
    "editable": true,
    "slideshow": {
     "slide_type": ""
    },
    "tags": []
   },
   "outputs": [],
   "source": [
    "i2n = [\"Alice\", \"Bob\", \"Carol\", \"Dan\", \"Erin\", \"Frank\"]\n",
    "n2i = {n: i for i, n in enumerate(i2n)}\n",
    "weight = [1, 1, 1]\n",
    "frm = [n2i[\"Alice\"], n2i[\"Alice\"], n2i[\"Alice\"]]\n",
    "to_ = [n2i[\"Bob\"], n2i[\"Carol\"], n2i[\"Dan\"]]\n",
    "Gsm = scipy.sparse.coo_matrix((weight, (frm, to_)), shape=(6, 6))\n",
    "mprint(Gsm, title=None, indices=False)"
   ]
  },
  {
   "cell_type": "markdown",
   "metadata": {
    "editable": true,
    "slideshow": {
     "slide_type": "slide"
    },
    "tags": []
   },
   "source": [
    "### 1. Carol replies all\n",
    "\n",
    "*Edge Notatation:* Carol -> (Alice, Bob, Dan)  "
   ]
  },
  {
   "cell_type": "code",
   "execution_count": null,
   "metadata": {
    "editable": true,
    "slideshow": {
     "slide_type": ""
    },
    "tags": []
   },
   "outputs": [],
   "source": [
    "display(g1)"
   ]
  },
  {
   "cell_type": "code",
   "execution_count": null,
   "metadata": {
    "editable": true,
    "slideshow": {
     "slide_type": ""
    },
    "tags": []
   },
   "outputs": [],
   "source": [
    "Gsm += scipy.sparse.coo_matrix(\n",
    "    ([1, 1, 1], ([2, 2, 2], [0, 1, 3])), shape=(6, 6)\n",
    ")  # no broadcasting w/ sparse matrix\n",
    "mprint(Gsm, title=None, indices=False)"
   ]
  },
  {
   "cell_type": "markdown",
   "metadata": {
    "editable": true,
    "slideshow": {
     "slide_type": "slide"
    },
    "tags": []
   },
   "source": [
    "### 2. Carol sends another email\n",
    "\n",
    "*Edge Notation:* Carol -> (Erin, Frank)"
   ]
  },
  {
   "cell_type": "code",
   "execution_count": null,
   "metadata": {
    "editable": true,
    "slideshow": {
     "slide_type": ""
    },
    "tags": []
   },
   "outputs": [],
   "source": [
    "display(g2)"
   ]
  },
  {
   "cell_type": "code",
   "execution_count": null,
   "metadata": {
    "editable": true,
    "slideshow": {
     "slide_type": ""
    },
    "tags": []
   },
   "outputs": [],
   "source": [
    "Gsm += scipy.sparse.coo_matrix(([1, 1], ([2, 2], [4, 5])), shape=(6, 6))\n",
    "mprint(Gsm, title=None, indices=False)"
   ]
  },
  {
   "cell_type": "markdown",
   "metadata": {
    "editable": true,
    "slideshow": {
     "slide_type": "slide"
    },
    "tags": []
   },
   "source": [
    "# With networkx"
   ]
  },
  {
   "cell_type": "code",
   "execution_count": null,
   "metadata": {
    "editable": true,
    "slideshow": {
     "slide_type": ""
    },
    "tags": []
   },
   "outputs": [],
   "source": [
    "Gnx = nx.DiGraph()\n",
    "# Alice -> Bob, Carol, Dan\n",
    "Gnx.add_edge(\"Alice\", \"Bob\", weight=1)\n",
    "Gnx.add_edge(\"Alice\", \"Carol\", weight=1)\n",
    "Gnx.add_edge(\"Alice\", \"Dan\", weight=1)\n",
    "# Carol -> Alice, Bob, Dan\n",
    "Gnx.add_edge(\"Carol\", \"Alice\", weight=1)\n",
    "Gnx.add_edge(\"Carol\", \"Bob\", weight=1)\n",
    "Gnx.add_edge(\"Carol\", \"Dan\", weight=1)\n",
    "# Carol -> Erin, Frank\n",
    "Gnx.add_edge(\"Carol\", \"Erin\", weight=1)\n",
    "Gnx.add_edge(\"Carol\", \"Frank\", weight=1)\n",
    "\n",
    "display(Gnx.edges(data=True))"
   ]
  },
  {
   "cell_type": "markdown",
   "metadata": {
    "editable": true,
    "slideshow": {
     "slide_type": "slide"
    },
    "tags": []
   },
   "source": [
    "# Equivalence"
   ]
  },
  {
   "cell_type": "code",
   "execution_count": null,
   "metadata": {
    "editable": true,
    "slideshow": {
     "slide_type": "skip"
    },
    "tags": []
   },
   "outputs": [],
   "source": [
    "print(\"Sparse Matrix:\")\n",
    "print(Gsm)\n",
    "display(Gsm.toarray())"
   ]
  },
  {
   "cell_type": "markdown",
   "metadata": {
    "slideshow": {
     "slide_type": "skip"
    }
   },
   "source": [
    "# Equivalence (cont...)"
   ]
  },
  {
   "cell_type": "code",
   "execution_count": null,
   "metadata": {
    "editable": true,
    "slideshow": {
     "slide_type": ""
    },
    "tags": []
   },
   "outputs": [],
   "source": [
    "GnpEqGsm = (Gnp == Gsm.toarray()).all()\n",
    "GnpEqGnx = (Gnp == np.int64(nx.to_numpy_array(Gnx))).all()\n",
    "print(f\"Is the numpy graph equal to the sparse matrix graph: {GnpEqGsm}\")\n",
    "print(f\"Is the numpy graph equal to the networkx graph: {GnpEqGnx}\")"
   ]
  },
  {
   "cell_type": "markdown",
   "metadata": {
    "editable": true,
    "slideshow": {
     "slide_type": "fragment"
    },
    "tags": []
   },
   "source": [
    "## The point is...\n",
    "There are different ways of approaching graph problems. Choose what works best for your situation."
   ]
  },
  {
   "cell_type": "markdown",
   "metadata": {
    "editable": true,
    "slideshow": {
     "slide_type": "slide"
    },
    "tags": []
   },
   "source": [
    "# Show me something practical!\n",
    "## Hands-on with `networkx`"
   ]
  },
  {
   "cell_type": "markdown",
   "metadata": {
    "editable": true,
    "slideshow": {
     "slide_type": "slide"
    },
    "tags": []
   },
   "source": [
    "# Enron Email Database\n",
    "- Available online.\n",
    "- Has complete text and headers of 3715057 emails.\n",
    "- I've parsed the database into a csv file.\n",
    "- Also dumped into `elasticsearch` but not used for this demo."
   ]
  },
  {
   "cell_type": "code",
   "execution_count": null,
   "metadata": {
    "editable": true,
    "slideshow": {
     "slide_type": "slide"
    },
    "tags": []
   },
   "outputs": [],
   "source": [
    "# NOTE: I compressed this csv file to be nice w/ github. You may want to\n",
    "# uncompress it for better performance at the cost of ~200MB of disk space.\n",
    "# (Or not using a csv at all!)\n",
    "df = pd.read_csv(\n",
    "    \"./data/enronmails.csv.bz2\", sep=\"\\t\"\n",
    ")  # there are better ways of doing this!\n",
    "print(\n",
    "    f\"total number of nodes: {len(pd.unique(df[['to', 'from']].values.ravel('F')))}\"\n",
    ")\n",
    "print(f\"total number of edges: {df.shape[0]}\")\n",
    "print(\"sample data:\")\n",
    "display(df.head(n=5))"
   ]
  },
  {
   "cell_type": "markdown",
   "metadata": {
    "editable": true,
    "slideshow": {
     "slide_type": "slide"
    },
    "tags": []
   },
   "source": [
    "## Create a directed, weighted Graph\n",
    "- **to:/from:** will be the nodes.\n",
    "- An edge represents an **email** was received.\n",
    "- ~40k **self loops**, e.g. (alice -> alice). These would show up on a matrix diagonal.\n",
    "- Create a 'weight' of `1` for each email received.\n",
    "- A handful of nodes do all the work."
   ]
  },
  {
   "cell_type": "code",
   "execution_count": null,
   "metadata": {
    "editable": true,
    "slideshow": {
     "slide_type": "slide"
    },
    "tags": []
   },
   "outputs": [],
   "source": [
    "# df_all is the complete network. Create edge weights in pandas.\n",
    "df_all = (\n",
    "    df.groupby([\"from\", \"to\"], as_index=False)\n",
    "    .size()\n",
    "    .reset_index()\n",
    "    .rename(columns={\"size\": \"weight\"})\n",
    ")\n",
    "G = nx.from_pandas_edgelist(df_all, \"to\", \"from\", [\"weight\"])\n",
    "del df_all\n",
    "# Multiple ways of finding the most 'connected' nodes,\n",
    "# like 'pagerank'.  The different algorithms are out of\n",
    "# scope of this presentation.  They are presentation unto\n",
    "# themselves.\n",
    "pr = nx.pagerank(G, weight=\"weight\").values()\n",
    "print(\"Pagerank summary statistics:\")\n",
    "display(pd.Series(pr).describe())\n",
    "print(f\"\\nSum of all pagerank values: {sum(pr):0.7f}\")"
   ]
  },
  {
   "cell_type": "code",
   "execution_count": null,
   "metadata": {
    "editable": true,
    "slideshow": {
     "slide_type": "slide"
    },
    "tags": []
   },
   "outputs": [],
   "source": [
    "plt.plot(sorted(pr, key=lambda v: -v))\n",
    "plt.title(\"Pagerank of Enron Email Nodes\")\n",
    "plt.ylabel(\"pagerank\")\n",
    "plt.xlabel(\"nodes\");"
   ]
  },
  {
   "cell_type": "markdown",
   "metadata": {
    "editable": true,
    "slideshow": {
     "slide_type": "-"
    },
    "tags": []
   },
   "source": [
    "The point is: typically only a few nodes do all the heavy lifting and the rest take up space."
   ]
  },
  {
   "cell_type": "markdown",
   "metadata": {
    "editable": true,
    "slideshow": {
     "slide_type": "slide"
    },
    "tags": []
   },
   "source": [
    "# Find the graph of something interesting\n",
    "- Search for \"California\" in the *'subject:'* line.  \n",
    "> \"For most popular subjects, a simple text matching search that is restricted to web page titles performs admirably when PageRank prioritizes the results.\"  \n",
    "> – *Sergey Brin and Lawrence Page*, Stanford University\n",
    "- Warning - lots of code about to come at you.\n",
    "- Remember - much of the heavy lifting is done by only a few nodes\n",
    "- Interesting things happen when you combine graphs/searches.\n",
    "- Plot with `networkx`."
   ]
  },
  {
   "cell_type": "code",
   "execution_count": null,
   "metadata": {
    "editable": true,
    "slideshow": {
     "slide_type": "slide"
    },
    "tags": []
   },
   "outputs": [],
   "source": [
    "# Create a df of just the 'california' rows (elasticsearch is your friend!)\n",
    "df_cal = df[df.subject.str.contains(r\"california\", case=False)]\n",
    "df_cal = (\n",
    "    df_cal.groupby([\"from\", \"to\"], as_index=False)\n",
    "    .size()\n",
    "    .reset_index()\n",
    "    .rename(columns={\"size\": \"weight\"})\n",
    ")\n",
    "G = nx.from_pandas_edgelist(df_cal, \"to\", \"from\", [\"weight\"])\n",
    "# Show there are disconnected subgraphs - these need to be removed.\n",
    "nx.draw(G)"
   ]
  },
  {
   "cell_type": "markdown",
   "metadata": {
    "editable": true,
    "slideshow": {
     "slide_type": "slide"
    },
    "tags": []
   },
   "source": [
    "# Remove all but the largest subgraph\n",
    "\n",
    "## What's left is:"
   ]
  },
  {
   "cell_type": "code",
   "execution_count": null,
   "metadata": {
    "editable": true,
    "slideshow": {
     "slide_type": "skip"
    },
    "tags": []
   },
   "outputs": [],
   "source": [
    "# We have multiple disconnected graphs. Let's keep only the largest of them.\n",
    "# This is a list of nodes in the largest subgraph of G\n",
    "largestSubG = list(nx.connected_components(G))[\n",
    "    max(\n",
    "        enumerate(len(_) for _ in nx.connected_components(G)),\n",
    "        key=lambda x: x[1],\n",
    "    )[0]\n",
    "]\n",
    "# Need to create a list of nodes to remove as a separate step.\n",
    "nodesNotInLargestSubG = [n for n in G.nodes() if n not in largestSubG]\n",
    "G.remove_nodes_from(nodesNotInLargestSubG)\n",
    "\n",
    "# Even with only the connected nodes the graph may be too big. Keep only the top N most connected nodes.\n",
    "# Compute \"connected\" with pagerank. Not great but good enough.\n",
    "pagerank = nx.pagerank(G, weight=\"weight\")\n",
    "max_num_nodes_to_keep = 150  # Adjust this number to your preferences.\n",
    "num_nodes_to_discard = max([len(G) - max_num_nodes_to_keep, 0])\n",
    "smalls = heapq.nsmallest(num_nodes_to_discard, pagerank, key=pagerank.get)\n",
    "for k in smalls:\n",
    "    G.remove_node(k)  # remove nodes (and edges) from graph\n",
    "# This can lead to nodes no longer connected to the main graph. Keep only largest graph.\n",
    "# Same as above...\n",
    "largestSubG = list(nx.connected_components(G))[\n",
    "    max(\n",
    "        enumerate(len(_) for _ in nx.connected_components(G)),\n",
    "        key=lambda x: x[1],\n",
    "    )[0]\n",
    "]\n",
    "# Need to create a list of nodes to remove as a separate step.\n",
    "nodesNotInLargestSubG = [n for n in G.nodes() if n not in largestSubG]\n",
    "G.remove_nodes_from(nodesNotInLargestSubG)\n",
    "\n",
    "# Recalculate pagerank of new graph. And eigenvector centrality.\n",
    "pagerank = nx.pagerank(G, weight=\"weight\")\n",
    "eicentrality = nx.eigenvector_centrality_numpy(G)\n",
    "\n",
    "# Compute the communities within the graph.\n",
    "communities = nx.community.louvain_communities(G, seed=1)\n",
    "# Transform to dict of {member: community}\n",
    "communities = {\n",
    "    member: community\n",
    "    for community, members in enumerate(communities)\n",
    "    for member in members\n",
    "}\n",
    "\n",
    "# dict of dicts: attributes for each node. Node size ~ 'pagerank + centrality',\n",
    "# color on 'community.'  These can just as easily be computed by javascript/d3\n",
    "# but do here because this is about python, not js.\n",
    "nx.set_node_attributes(G, pagerank, \"pagerank\")\n",
    "nx.set_node_attributes(G, communities, \"community\")\n",
    "nx.set_node_attributes(G, eicentrality, \"eicentrality\")\n",
    "nx.set_node_attributes(\n",
    "    G,\n",
    "    {k: color(v, max(communities.values())) for k, v in communities.items()},\n",
    "    \"color\",\n",
    ")\n",
    "nx.set_node_attributes(\n",
    "    G,\n",
    "    dict(\n",
    "        zip(\n",
    "            G.nodes(),\n",
    "            minmax_scale(\n",
    "                list(map(add, eicentrality.values(), pagerank.values())),\n",
    "                feature_range=(min_r, max_r),\n",
    "            ),\n",
    "        )\n",
    "    ),\n",
    "    \"radius\",\n",
    ")\n",
    "nx.set_node_attributes(\n",
    "    G,\n",
    "    dict(\n",
    "        zip(\n",
    "            G.nodes(),\n",
    "            minmax_scale(\n",
    "                list(map(add, eicentrality.values(), pagerank.values())),\n",
    "                feature_range=(min_s, max_s),\n",
    "            ),\n",
    "        )\n",
    "    ),\n",
    "    \"size\",\n",
    ")"
   ]
  },
  {
   "cell_type": "code",
   "execution_count": null,
   "metadata": {
    "editable": true,
    "slideshow": {
     "slide_type": ""
    },
    "tags": []
   },
   "outputs": [],
   "source": [
    "node_count = len(G.nodes())\n",
    "edge_count = len(G.edges())\n",
    "print(f\"Number of nodes: {node_count}\")\n",
    "print(f\"Number of edges: {edge_count}\")\n",
    "nx.draw(G)"
   ]
  },
  {
   "cell_type": "markdown",
   "metadata": {
    "editable": true,
    "slideshow": {
     "slide_type": "slide"
    },
    "tags": []
   },
   "source": [
    "# Using `matplotlib`"
   ]
  },
  {
   "cell_type": "code",
   "execution_count": null,
   "metadata": {
    "editable": true,
    "slideshow": {
     "slide_type": ""
    },
    "tags": []
   },
   "outputs": [],
   "source": [
    "_ = plt2x2(G, \"include/images/agaig.jpg\")"
   ]
  },
  {
   "cell_type": "markdown",
   "metadata": {
    "editable": true,
    "slideshow": {
     "slide_type": ""
    },
    "tags": []
   },
   "source": [
    "It's not as good as it gets. We can do better."
   ]
  },
  {
   "cell_type": "markdown",
   "metadata": {
    "editable": true,
    "slideshow": {
     "slide_type": "slide"
    },
    "tags": []
   },
   "source": [
    "# Using `plotly`\n",
    "This looks a bit nicer but still not great. My opinion is all Python plotting is at best adequate."
   ]
  },
  {
   "cell_type": "code",
   "execution_count": null,
   "metadata": {
    "editable": true,
    "slideshow": {
     "slide_type": "skip"
    },
    "tags": []
   },
   "outputs": [],
   "source": [
    "# plotly -> chart_studio.\n",
    "import chart_studio.plotly as py\n",
    "import plotly.graph_objs as go"
   ]
  },
  {
   "cell_type": "code",
   "execution_count": null,
   "metadata": {
    "editable": true,
    "slideshow": {
     "slide_type": "skip"
    },
    "tags": []
   },
   "outputs": [],
   "source": [
    "# Create a plot with the Kamada Kawai algo.  Need to create the nodes and edges.\n",
    "pos = nx.kamada_kawai_layout(G)\n",
    "edge_trace = go.Scatter(\n",
    "    x=[],\n",
    "    y=[],\n",
    "    line=dict(width=0.5, color=\"#888\"),\n",
    "    hoverinfo=\"none\",\n",
    "    mode=\"lines\",\n",
    ")\n",
    "\n",
    "# This takes a bit of time.  Not sure why, yet.\n",
    "for edge in G.edges():\n",
    "    x0, y0 = pos[edge[0]]\n",
    "    x1, y1 = pos[edge[1]]\n",
    "    edge_trace[\"x\"] += tuple([x0, x1, None])\n",
    "    edge_trace[\"y\"] += tuple([y0, y1, None])"
   ]
  },
  {
   "cell_type": "code",
   "execution_count": null,
   "metadata": {
    "editable": true,
    "slideshow": {
     "slide_type": "skip"
    },
    "tags": []
   },
   "outputs": [],
   "source": [
    "node_trace = go.Scatter(\n",
    "    x=[],\n",
    "    y=[],\n",
    "    text=[],\n",
    "    mode=\"markers\",\n",
    "    hoverinfo=\"text\",\n",
    "    marker=dict(color=[], size=[]),\n",
    ")\n",
    "\n",
    "\n",
    "def htext(node):\n",
    "    ret = \"<b>\" + node + \"</b><br>\"\n",
    "    ret += \"    pagerank: \" + str(G.nodes()[node][\"pagerank\"]) + \"<br>\"\n",
    "    ret += \"eicentrality: \" + str(G.nodes()[node][\"eicentrality\"]) + \"<br>\"\n",
    "    ret += \"   community: \" + str(G.nodes()[node][\"community\"])\n",
    "    return ret\n",
    "\n",
    "\n",
    "for node in G.nodes():\n",
    "    x, y = pos[node]\n",
    "    node_trace[\"x\"] += tuple([x])\n",
    "    node_trace[\"y\"] += tuple([y])\n",
    "    node_trace[\"marker\"][\"color\"] += tuple([G.nodes()[node][\"color\"]])\n",
    "    node_trace[\"marker\"][\"size\"] += tuple([G.nodes()[node][\"size\"]])\n",
    "    node_trace[\"text\"] += tuple([htext(node)])\n",
    "\n",
    "fig = go.Figure(\n",
    "    data=[edge_trace, node_trace],\n",
    "    layout=go.Layout(\n",
    "        title=\"Network graph made with Python/plotly\",\n",
    "        titlefont=dict(size=16),\n",
    "        showlegend=False,\n",
    "        hovermode=\"closest\",\n",
    "        margin=dict(b=20, l=5, r=5, t=40),\n",
    "        annotations=[\n",
    "            dict(\n",
    "                showarrow=False, xref=\"paper\", yref=\"paper\", x=0.005, y=-0.002\n",
    "            )\n",
    "        ],\n",
    "        xaxis=dict(showgrid=False, zeroline=False, showticklabels=False),\n",
    "        yaxis=dict(showgrid=False, zeroline=False, showticklabels=False),\n",
    "    ),\n",
    ")"
   ]
  },
  {
   "cell_type": "code",
   "execution_count": null,
   "metadata": {
    "editable": true,
    "slideshow": {
     "slide_type": ""
    },
    "tags": []
   },
   "outputs": [],
   "source": [
    "py.iplot(fig)"
   ]
  },
  {
   "cell_type": "markdown",
   "metadata": {
    "editable": true,
    "slideshow": {
     "slide_type": ""
    },
    "tags": []
   },
   "source": [
    "Better, no?  But we can still improve upon this."
   ]
  },
  {
   "cell_type": "markdown",
   "metadata": {
    "editable": true,
    "slideshow": {
     "slide_type": "slide"
    },
    "tags": []
   },
   "source": [
    "# Using `d3`"
   ]
  },
  {
   "cell_type": "code",
   "execution_count": null,
   "metadata": {
    "editable": true,
    "slideshow": {
     "slide_type": ""
    },
    "tags": []
   },
   "outputs": [],
   "source": [
    "HTML('<div id=\"d3target\"></div>')"
   ]
  },
  {
   "cell_type": "code",
   "execution_count": null,
   "metadata": {
    "editable": true,
    "slideshow": {
     "slide_type": "skip"
    },
    "tags": []
   },
   "outputs": [],
   "source": [
    "javascript(\n",
    "    f'drawgraph(\"#d3target\", {json.dumps(nx.node_link_data(G, edges=\"edges\"))}, 1000, 600)'\n",
    ");"
   ]
  },
  {
   "cell_type": "markdown",
   "metadata": {
    "editable": true,
    "slideshow": {
     "slide_type": "slide"
    },
    "tags": []
   },
   "source": [
    "# Take-aways\n",
    "\n",
    "- Graph operations show up in quite a few areas.\n",
    "- Python has a number of tools to help you out.\n",
    "- As your graph grows you need to be more judicious in your tool selection.\n",
    "- Understand your data.\n",
    "- Visualizing large graphs is difficult. Zelously edit.\n",
    "- Graphs are a dessert topping and a floor wax."
   ]
  },
  {
   "cell_type": "markdown",
   "metadata": {
    "editable": true,
    "slideshow": {
     "slide_type": "fragment"
    },
    "tags": []
   },
   "source": [
    "# Fin"
   ]
  }
 ],
 "metadata": {
  "celltoolbar": "Slideshow",
  "kernelspec": {
   "display_name": "Python 3 (ipykernel)",
   "language": "python",
   "name": "python3"
  },
  "language_info": {
   "codemirror_mode": {
    "name": "ipython",
    "version": 3
   },
   "file_extension": ".py",
   "mimetype": "text/x-python",
   "name": "python",
   "nbconvert_exporter": "python",
   "pygments_lexer": "ipython3",
   "version": "3.13.0"
  },
  "livereveal": {
   "overlay": "<div class='myheader'></div>"
  }
 },
 "nbformat": 4,
 "nbformat_minor": 4
}
