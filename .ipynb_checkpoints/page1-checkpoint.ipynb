{
 "cells": [
  {
   "cell_type": "code",
   "execution_count": 1,
   "metadata": {
    "slideshow": {
     "slide_type": "skip"
    }
   },
   "outputs": [
    {
     "data": {
      "text/html": [
       "<link rel=\"stylesheet\" type=\"text/css\" href=\"include/style.css\">\n"
      ],
      "text/plain": [
       "<IPython.core.display.HTML object>"
      ]
     },
     "metadata": {},
     "output_type": "display_data"
    }
   ],
   "source": [
    "%%HTML\n",
    "<link rel=\"stylesheet\" type=\"text/css\" href=\"include/style.css\">"
   ]
  },
  {
   "cell_type": "code",
   "execution_count": 55,
   "metadata": {
    "slideshow": {
     "slide_type": "skip"
    }
   },
   "outputs": [],
   "source": [
    "import pandas as pd\n",
    "import numpy as np\n",
    "import matplotlib.pyplot as plt\n",
    "import heapq\n",
    "import colorsys\n",
    "from sklearn.preprocessing import minmax_scale\n",
    "%matplotlib inline\n",
    "c2c = lambda c,n : \"#%02x%02x%02x\" % tuple(int(255*c) for c in colorsys.hsv_to_rgb(c/(n+1),1,1))\n",
    "updt = lambda d1,attr,d2 : [d1[k].update({attr:v}) for k,v in d2.items()]\n",
    "min_s, max_s = 100,700 # don't ask me what they were thinking here...\n",
    "min_r, max_r = 6,20    # radius in pixels"
   ]
  },
  {
   "cell_type": "code",
   "execution_count": 54,
   "metadata": {},
   "outputs": [
    {
     "name": "stdout",
     "output_type": "stream",
     "text": [
      "True\n",
      "False\n"
     ]
    },
    {
     "data": {
      "image/png": "[encoded data removed]",
      "text/plain": [
       "<Figure size 432x288 with 1 Axes>"
      ]
     },
     "metadata": {},
     "output_type": "display_data"
    }
   ],
   "source": [
    "H = nx.generators.classic.barbell_graph(10,10)\n",
    "#nx.draw(H)\n",
    "print(nx.is_simple_path(H, H.nodes()))\n",
    "H.remove_edge(12,13)\n",
    "nx.draw(H, with_labels=True)\n",
    "print(nx.is_simple_path(H, H.nodes()))\n",
    "\n",
    "#pos = nx.spring_layout(H)  # positions for all nodes#\n",
    "#nx.draw_networkx_nodes(H, pos, with_labels=True)\n",
    "#nx.draw_networkx_edges(H, pos)\n",
    "#edgelablels = nx.draw_networkx_edge_labels(H, pos, H.edges())"
   ]
  },
  {
   "cell_type": "markdown",
   "metadata": {
    "slideshow": {
     "slide_type": "slide"
    }
   },
   "source": [
    "# Python & Graphs\n",
    "### Keith P Jolley"
   ]
  },
  {
   "cell_type": "markdown",
   "metadata": {
    "slideshow": {
     "slide_type": "slide"
    }
   },
   "source": [
    "# Who Am I?\n",
    "\n",
    "\n",
    "## Keith P Jolley\n",
    "### Experience:\n",
    "- Available To Hire\n",
    "- Jamul Heavy Industries - Owner\n",
    "- Technical Account Manager - NetApp\n",
    "- Senior Director, IT - Qualcomm\n",
    "- Analyst - Navy\n",
    "- Crew Chief - USAF\n",
    "\n",
    "### Education:\n",
    "- MS Analytics, Enrolled, Georgia Tech\n",
    "- MS Computational Science, 2013, SDSU\n",
    "- BS Aerospace Engineering, 1992, SDSU"
   ]
  },
  {
   "cell_type": "markdown",
   "metadata": {
    "slideshow": {
     "slide_type": "slide"
    }
   },
   "source": [
    "# What's A Graph?\n",
    "\n",
    "## Also called a \"Network\" \n",
    "\n",
    "A visual representation of **Nodes** and **Edges** that show how things are **connected**.\n",
    "\n",
    "**Nodes**, also called **vertices**, are the \"things\" in the network, such as people, computers, routers, cities, intersections, and so on.\n",
    "\n",
    "**Edges**, also called **arcs**, are the \"connections\" in the network.\n",
    "\n",
    "Edges can have **weight**. An edge with weight shows the magnitude of the connectivity between two nodes. Think bandwidth or number of interactions. \n",
    "\n",
    "Edges can also have **direction**. If I send you an email and you send me an email back there are two unique edges in a directed graph but only a single edge in an undirected graph. Some algorithms don't work on directed graphs."
   ]
  },
  {
   "cell_type": "markdown",
   "metadata": {
    "slideshow": {
     "slide_type": "slide"
    }
   },
   "source": [
    "# Graph Examples\n",
    "\n",
    "- Social Network (LinkedIn: People, Companies, Jobs are nodes, edges are the connections)\n",
    "- Email Networks (Google Mail: People, Emails are nodes, sending/receiving emails are the edges)\n",
    "- Websites (Google: Pages are nodes, hyperlinks are the edges)\n",
    "- Air Transportation (Airports are nodes, connecting flights are the edges)\n",
    "- Roads (Waze: Intersections are vertices, roads are the edges)\n",
    "- Computer Networks (Devices are nodes, the \"wiring\" are the edges)\n",
    "- Sports (Teams are nodes, the games are the edges)\n",
    "- [Oracle of Bacon](https://oracleofbacon.org/movielinks.php) (Actors are the nodes, \"credits\" are the edges)\n",
    "- Entertainment (Characters are the nodes, interactions are the edges)"
   ]
  },
  {
   "cell_type": "markdown",
   "metadata": {
    "slideshow": {
     "slide_type": "slide"
    }
   },
   "source": [
    "# You Should Know\n",
    "\n",
    "## Graphs can become *very* large very quickly\n",
    "Generally \"NxN\" where N is the number of nodes. Google's graph is a square matrix that is \"every page google knows about\" by \"every page google knows about\". They regularly solve their \"[PageRank](http://infolab.stanford.edu/~backrub/google.html)\" algorithm for that matrix."
   ]
  },
  {
   "cell_type": "markdown",
   "metadata": {
    "slideshow": {
     "slide_type": "slide"
    }
   },
   "source": [
    "# You Should Know\n",
    "\n",
    "## Specialized tools\n",
    "\n",
    "There are tools that are made for graphs that may be more appropriate as your graphs increase in size - for instance [Neo4j](https://neo4j.com/) is a graph database.\n",
    "\n",
    "Relational databases are a terrible choice for managing relationships!\n",
    "\n",
    "- [Gephi](https://gephi.org/)\n",
    "- [Cytoscape](https://cytoscape.org/)\n",
    "- R (igraph - still supported?)\n",
    "- [Linkurious](https://linkurio.us/)\n",
    "- Python - [networkx package](https://networkx.github.io/)\n"
   ]
  },
  {
   "cell_type": "markdown",
   "metadata": {
    "slideshow": {
     "slide_type": "slide"
    }
   },
   "source": [
    "# You Should Know\n",
    "\n",
    "## Visualization\n",
    "\n",
    "Visualizing large graphs is problematic. My two favorite resources are [University of Maryland's Human Computer Interaction Lab](http://www.cs.umd.edu/hcil/graphvis/) and [Mike Bostock's D3](https://d3js.org/). There are plenty more tools out there and some are good.\n",
    "\n",
    "Please avoid the hairball:\n",
    "![terrible graph visualization that looks like a hairball](images/hairball.png)"
   ]
  },
  {
   "cell_type": "markdown",
   "metadata": {
    "slideshow": {
     "slide_type": "slide"
    }
   },
   "source": [
    "# Let's Build A (directed, weighted) Network Already!"
   ]
  },
  {
   "cell_type": "markdown",
   "metadata": {
    "slideshow": {
     "slide_type": "slide"
    }
   },
   "source": [
    "### 0. Alice sends an email\n",
    "\n",
    "*Edge notation:* Alice -> (Bob, Carol, Dan)  \n",
    "*Matrix notation:*  \n",
    "<p></p>\n",
    "<div class=\"box\">\n",
    "    <div class=\"matrix\">\n",
    "$\\left[ \\begin{array}{cccc}\n",
    "      & A & B & C & D & E & F \\\\\n",
    "    A & 0 & 1 & 1 & 1 & 0 & 0 \\\\\n",
    "    B & 0 & 0 & 0 & 0 & 0 & 0 \\\\\n",
    "    C & 0 & 0 & 0 & 0 & 0 & 0 \\\\\n",
    "    D & 0 & 0 & 0 & 0 & 0 & 0 \\\\\n",
    "    E & 0 & 0 & 0 & 0 & 0 & 0 \\\\\n",
    "    F & 0 & 0 & 0 & 0 & 0 & 0 \\\\\n",
    "  \\end{array}\n",
    "\\right] $\n",
    "    </div>\n",
    "    <div class=\"graph\">\n",
    "\n",
    "![step 1 graph](images/graphs.000.png)\n",
    "    </div>\n",
    "</div>\n",
    "\n",
    "*numpy:*"
   ]
  },
  {
   "cell_type": "code",
   "execution_count": 3,
   "metadata": {
    "slideshow": {
     "slide_type": "fragment"
    }
   },
   "outputs": [],
   "source": [
    "Gnp = np.array([[0,1,1,1,0,0],\n",
    "                [0,0,0,0,0,0],\n",
    "                [0,0,0,0,0,0],\n",
    "                [0,0,0,0,0,0],\n",
    "                [0,0,0,0,0,0],\n",
    "                [0,0,0,0,0,0]])"
   ]
  },
  {
   "cell_type": "markdown",
   "metadata": {
    "slideshow": {
     "slide_type": "slide"
    }
   },
   "source": [
    "### 1. Carol sends an email\n",
    "\n",
    "*Edge Notatation:* Carol -> (Alice, Bob, Dan)  \n",
    "*Matrix notation:*  \n",
    "<p></p>\n",
    "<div class=\"box\">\n",
    "    <div class=\"matrix\">\n",
    "$\\left[ \\begin{array}{cccc}\n",
    "      & A & B & C & D & E & F \\\\\n",
    "    A & 0 & 1 & 1 & 1 & 0 & 0 \\\\\n",
    "    B & 0 & 0 & 0 & 0 & 0 & 0 \\\\\n",
    "    C & 1 & 1 & 0 & 1 & 0 & 0 \\\\\n",
    "    D & 0 & 0 & 0 & 0 & 0 & 0 \\\\\n",
    "    E & 0 & 0 & 0 & 0 & 0 & 0 \\\\\n",
    "    F & 0 & 0 & 0 & 0 & 0 & 0 \\\\\n",
    "  \\end{array}\n",
    "\\right] $\n",
    "    </div>\n",
    "    <div class=\"graph\">\n",
    "\n",
    "![step 1 graph](images/graphs.001.png)\n",
    "    </div>\n",
    "</div>\n",
    "\n",
    "*numpy:*"
   ]
  },
  {
   "cell_type": "code",
   "execution_count": 4,
   "metadata": {
    "slideshow": {
     "slide_type": "fragment"
    }
   },
   "outputs": [],
   "source": [
    "Gnp += np.array([[0,0,0,0,0,0],\n",
    "                 [0,0,0,0,0,0],\n",
    "                 [1,1,0,1,0,0],\n",
    "                 [0,0,0,0,0,0],\n",
    "                 [0,0,0,0,0,0],\n",
    "                 [0,0,0,0,0,0]])"
   ]
  },
  {
   "cell_type": "markdown",
   "metadata": {
    "slideshow": {
     "slide_type": "slide"
    }
   },
   "source": [
    "### 2. Carol sends another email\n",
    "\n",
    "*Edge Notation:* Carol -> (Erin, Frank)  \n",
    "*Matrix notation:*  \n",
    "<p></p>\n",
    "<div class=\"box\">\n",
    "    <div class=\"matrix\">\n",
    "$\\left[ \\begin{array}{cccc}\n",
    "      & A & B & C & D & E & F \\\\\n",
    "    A & 0 & 1 & 1 & 1 & 0 & 0 \\\\\n",
    "    B & 0 & 0 & 0 & 0 & 0 & 0 \\\\\n",
    "    C & 1 & 1 & 0 & 1 & 1 & 1 \\\\\n",
    "    D & 0 & 0 & 0 & 0 & 0 & 0 \\\\\n",
    "    E & 0 & 0 & 0 & 0 & 0 & 0 \\\\\n",
    "    F & 0 & 0 & 0 & 0 & 0 & 0 \\\\\n",
    "  \\end{array}\n",
    "\\right]\n",
    "$\n",
    "    </div>\n",
    "    <div class=\"graph\">\n",
    "        \n",
    "![step 2 graph](images/graphs.002.png)\n",
    "    </div>\n",
    "</div>\n",
    "\n",
    "*numpy:*"
   ]
  },
  {
   "cell_type": "code",
   "execution_count": 5,
   "metadata": {
    "slideshow": {
     "slide_type": "fragment"
    }
   },
   "outputs": [],
   "source": [
    "Gnp += np.array([[0,0,0,0,0,0], \n",
    "                 [0,0,0,0,0,0],\n",
    "                 [0,0,0,0,1,1],\n",
    "                 [0,0,0,0,0,0],\n",
    "                 [0,0,0,0,0,0],\n",
    "                 [0,0,0,0,0,0]])"
   ]
  },
  {
   "cell_type": "markdown",
   "metadata": {
    "slideshow": {
     "slide_type": "slide"
    }
   },
   "source": [
    "## With Sparse Matrix\n",
    "### 0. Alice sends an email\n",
    "\n",
    "*Edge notation:* Alice -> (Bob, Carol, Dan)  \n",
    "\n",
    "![step 1 graph](images/graphs.000.png)"
   ]
  },
  {
   "cell_type": "code",
   "execution_count": 6,
   "metadata": {
    "slideshow": {
     "slide_type": "fragment"
    }
   },
   "outputs": [],
   "source": [
    "from scipy.sparse import coo_matrix\n",
    "i2n = [\"Alice\", \"Bob\", \"Carol\", \"Dan\", \"Erin\", \"Frank\"]\n",
    "n2i = { n:i for i,n in enumerate(i2n) }\n",
    "weight = [1,1,1]\n",
    "frm = [n2i[\"Alice\"], n2i[\"Alice\"], n2i[\"Alice\"]]\n",
    "to_ = [n2i[\"Bob\"],   n2i[\"Carol\"], n2i[\"Dan\"]]\n",
    "Gsm = coo_matrix((weight, (frm, to_)), shape=(6,6))"
   ]
  },
  {
   "cell_type": "markdown",
   "metadata": {
    "slideshow": {
     "slide_type": "slide"
    }
   },
   "source": [
    "### 1. Carol sends an email\n",
    "\n",
    "*Edge Notatation:* Carol -> (Alice, Bob, Dan)  \n",
    "\n",
    "![step 1 graph](images/graphs.001.png)"
   ]
  },
  {
   "cell_type": "code",
   "execution_count": 7,
   "metadata": {
    "slideshow": {
     "slide_type": "fragment"
    }
   },
   "outputs": [],
   "source": [
    "Gsm += coo_matrix(([1,1,1], ([2,2,2], [0,1,3])), shape=(6,6))  # no broadcasting w/ sparse matrix"
   ]
  },
  {
   "cell_type": "markdown",
   "metadata": {
    "slideshow": {
     "slide_type": "slide"
    }
   },
   "source": [
    "### 2. Carol sends another email\n",
    "\n",
    "*Edge Notation:* Carol -> (Erin, Frank)  \n",
    "        \n",
    "![step 2 graph](images/graphs.002.png)"
   ]
  },
  {
   "cell_type": "code",
   "execution_count": 8,
   "metadata": {
    "slideshow": {
     "slide_type": "fragment"
    }
   },
   "outputs": [
    {
     "data": {
      "text/plain": [
       "array([[0, 1, 1, 1, 0, 0],\n",
       "       [0, 0, 0, 0, 0, 0],\n",
       "       [1, 1, 0, 1, 1, 1],\n",
       "       [0, 0, 0, 0, 0, 0],\n",
       "       [0, 0, 0, 0, 0, 0],\n",
       "       [0, 0, 0, 0, 0, 0]], dtype=int64)"
      ]
     },
     "execution_count": 8,
     "metadata": {},
     "output_type": "execute_result"
    }
   ],
   "source": [
    "Gsm += coo_matrix(([1,1], ([2,2], [4,5])), shape=(6,6))\n",
    "Gsm.toarray()"
   ]
  },
  {
   "cell_type": "markdown",
   "metadata": {
    "slideshow": {
     "slide_type": "slide"
    }
   },
   "source": [
    "# With networkx"
   ]
  },
  {
   "cell_type": "code",
   "execution_count": 9,
   "metadata": {
    "slideshow": {
     "slide_type": "fragment"
    }
   },
   "outputs": [
    {
     "name": "stdout",
     "output_type": "stream",
     "text": [
      "[('Alice', 'Bob', {'weight': 1}), ('Alice', 'Carol', {'weight': 1}), ('Alice', 'Dan', {'weight': 1}), ('Carol', 'Alice', {'weight': 1}), ('Carol', 'Bob', {'weight': 1}), ('Carol', 'Dan', {'weight': 1}), ('Carol', 'Erin', {'weight': 1}), ('Carol', 'Frank', {'weight': 1})]\n"
     ]
    }
   ],
   "source": [
    "import networkx as nx\n",
    "Gnx = nx.DiGraph()\n",
    "# Alice -> Bob, Carol, Dan\n",
    "Gnx.add_edge(\"Alice\", \"Bob\",   weight=1)\n",
    "Gnx.add_edge(\"Alice\", \"Carol\", weight=1)\n",
    "Gnx.add_edge(\"Alice\", \"Dan\",   weight=1)\n",
    "# Carol -> Alice, Bob, Dan\n",
    "Gnx.add_edge(\"Carol\", \"Alice\", weight=1)\n",
    "Gnx.add_edge(\"Carol\", \"Bob\",   weight=1)\n",
    "Gnx.add_edge(\"Carol\", \"Dan\",   weight=1)\n",
    "# Carol -> Erin, Frank\n",
    "Gnx.add_edge(\"Carol\", \"Erin\",  weight=1)\n",
    "Gnx.add_edge(\"Carol\", \"Frank\", weight=1)\n",
    "\n",
    "print(Gnx.edges(data=True))"
   ]
  },
  {
   "cell_type": "markdown",
   "metadata": {
    "slideshow": {
     "slide_type": "slide"
    }
   },
   "source": [
    "# Equivalence"
   ]
  },
  {
   "cell_type": "code",
   "execution_count": 10,
   "metadata": {
    "slideshow": {
     "slide_type": "fragment"
    }
   },
   "outputs": [
    {
     "name": "stdout",
     "output_type": "stream",
     "text": [
      "numpy:\n",
      "[[0 1 1 1 0 0]\n",
      " [0 0 0 0 0 0]\n",
      " [1 1 0 1 1 1]\n",
      " [0 0 0 0 0 0]\n",
      " [0 0 0 0 0 0]\n",
      " [0 0 0 0 0 0]]\n"
     ]
    }
   ],
   "source": [
    "print('numpy:')\n",
    "print(Gnp)"
   ]
  },
  {
   "cell_type": "code",
   "execution_count": 11,
   "metadata": {
    "slideshow": {
     "slide_type": "fragment"
    }
   },
   "outputs": [
    {
     "name": "stdout",
     "output_type": "stream",
     "text": [
      "Sparse Matrix:\n",
      "  (0, 1)\t1\n",
      "  (0, 2)\t1\n",
      "  (0, 3)\t1\n",
      "  (2, 0)\t1\n",
      "  (2, 1)\t1\n",
      "  (2, 3)\t1\n",
      "  (2, 4)\t1\n",
      "  (2, 5)\t1\n",
      "[[0 1 1 1 0 0]\n",
      " [0 0 0 0 0 0]\n",
      " [1 1 0 1 1 1]\n",
      " [0 0 0 0 0 0]\n",
      " [0 0 0 0 0 0]\n",
      " [0 0 0 0 0 0]]\n"
     ]
    }
   ],
   "source": [
    "print('Sparse Matrix:')\n",
    "print(Gsm)\n",
    "print(Gsm.toarray())"
   ]
  },
  {
   "cell_type": "markdown",
   "metadata": {
    "slideshow": {
     "slide_type": "slide"
    }
   },
   "source": [
    "# Equivalence (cont...)"
   ]
  },
  {
   "cell_type": "code",
   "execution_count": 12,
   "metadata": {
    "slideshow": {
     "slide_type": "fragment"
    }
   },
   "outputs": [
    {
     "name": "stdout",
     "output_type": "stream",
     "text": [
      "networkx\n",
      "[[0 1 1 1 0 0]\n",
      " [0 0 0 0 0 0]\n",
      " [1 1 0 1 1 1]\n",
      " [0 0 0 0 0 0]\n",
      " [0 0 0 0 0 0]\n",
      " [0 0 0 0 0 0]]\n",
      "True\n",
      "True\n"
     ]
    }
   ],
   "source": [
    "print('networkx')\n",
    "print(np.int64(nx.to_numpy_array(Gnx)))\n",
    "print((Gnp == np.int64(nx.to_numpy_array(Gnx))).all())\n",
    "print((Gnp == Gsm.toarray()).all())"
   ]
  },
  {
   "cell_type": "markdown",
   "metadata": {
    "slideshow": {
     "slide_type": "fragment"
    }
   },
   "source": [
    "## The point is...\n",
    "There are different ways of approaching graph problems. Choose what works best for your situation."
   ]
  },
  {
   "cell_type": "markdown",
   "metadata": {
    "slideshow": {
     "slide_type": "slide"
    }
   },
   "source": [
    "# Show me something practical!\n",
    "## Hands-on with `networkx`"
   ]
  },
  {
   "cell_type": "markdown",
   "metadata": {
    "slideshow": {
     "slide_type": "slide"
    }
   },
   "source": [
    "# Enron Email Database\n",
    "- Available online.\n",
    "- Has complete text and headers of 3715057 emails.\n",
    "- I've parsed the database into a csv file.\n",
    "- Also dumped into `elasticsearch` but not used for this demo."
   ]
  },
  {
   "cell_type": "code",
   "execution_count": 29,
   "metadata": {
    "slideshow": {
     "slide_type": "fragment"
    }
   },
   "outputs": [
    {
     "name": "stdout",
     "output_type": "stream",
     "text": [
      "total edges:  3712732\n",
      "nodes:  89993 (This number squared is large!)\n",
      "sample data:\n",
      "      from                   to     mbox                          subject  \\\n",
      "0  rob_tom        calxa@aol.com  allen-p  re: history of  lime and cement   \n",
      "1  rob_tom  strawbale@crest.org  allen-p  re: history of  lime and cement   \n",
      "\n",
      "        size  \n",
      "0  950801820  \n",
      "1  950801820  \n"
     ]
    }
   ],
   "source": [
    "df = pd.read_csv(\"./data/enronmails.csv\", sep=\"\\t\")  # there are better ways of doing this!\n",
    "print(\"total edges: \", df.shape[0])\n",
    "print(\"nodes: \", len(pd.unique(df[['to', 'from']].values.ravel('F'))), \"(This number squared is large!)\")\n",
    "print(\"sample data:\")\n",
    "print(df.head(n=2))"
   ]
  },
  {
   "cell_type": "markdown",
   "metadata": {
    "slideshow": {
     "slide_type": "slide"
    }
   },
   "source": [
    "## Create a directed, weighted Graph\n",
    "- **to:/from:** will be the nodes.\n",
    "- An edge represents an **email** was received.\n",
    "- ~40k **self loops**, e.g. (alice -> alice). These would show up on a matrix diagonal.\n",
    "- Create a 'weight' of `1` for each email received.\n",
    "- A handful of nodes do all the work."
   ]
  },
  {
   "cell_type": "code",
   "execution_count": 30,
   "metadata": {
    "slideshow": {
     "slide_type": "-"
    }
   },
   "outputs": [
    {
     "data": {
      "image/png": "[encoded data removed]",
      "text/plain": [
       "<Figure size 432x288 with 1 Axes>"
      ]
     },
     "metadata": {
      "needs_background": "light"
     },
     "output_type": "display_data"
    }
   ],
   "source": [
    "# df_all is the complete network. Create edge weights in pandas. #\n",
    "df_all = df.groupby(['from','to'], as_index=False).size().reset_index().rename(columns={0:'weight'})\n",
    "G = nx.from_pandas_edgelist(df_all, 'to', 'from', ['weight'])\n",
    "# multiple ways of finding the most 'connected' nodes\n",
    "# use 'pagerank'...\n",
    "pr = sorted(nx.pagerank_scipy(G, weight='weight').values(), key=lambda v: -v)\n",
    "plt.plot(pr)\n",
    "plt.title(\"Enron\")\n",
    "plt.ylabel(\"pagerank\")\n",
    "del df_all"
   ]
  },
  {
   "cell_type": "markdown",
   "metadata": {
    "slideshow": {
     "slide_type": "-"
    }
   },
   "source": [
    "The point is: typically only a few nodes do all the heavy lifting and the rest take up space."
   ]
  },
  {
   "cell_type": "markdown",
   "metadata": {
    "slideshow": {
     "slide_type": "slide"
    }
   },
   "source": [
    "# Find the graph of something interesting\n",
    "- Search for \"California\" in the *'subject:'* line.  \n",
    "> \"For most popular subjects, a simple text matching search that is restricted to web page titles performs admirably when PageRank prioritizes the results.\"  \n",
    "> – *Sergey Brin and Lawrence Page*  \n",
    "> – Stanford University\n",
    "- Warning - lots of code about to come at you.\n",
    "- Remember - much of the heavy lifting is done by only a few nodes"
   ]
  },
  {
   "cell_type": "code",
   "execution_count": 56,
   "metadata": {
    "slideshow": {
     "slide_type": "slide"
    }
   },
   "outputs": [],
   "source": [
    "import community\n",
    "# create a df of just the 'california' rows (elasticsearch is your friend!)\n",
    "df_cal = df[df.subject.str.contains(r'california', case=False)]\n",
    "df_cal = df_cal.groupby(['from','to'], as_index=False).size().reset_index().rename(columns={0:'weight'})\n",
    "G = nx.from_pandas_edgelist(df_cal, 'to', 'from', ['weight'])\n",
    "\n",
    "# create a 'pagerank' dict and delete all but the 5% most relevant nodes.\n",
    "pr = nx.pagerank_scipy(G, weight='weight')\n",
    "smalls = heapq.nsmallest(round(len(pr)*0.95), pr, key=pr.get)\n",
    "for k in smalls:\n",
    "    pr.pop(k, None)  # remove from the pagerank list\n",
    "    G.remove_node(k) # remove nodes (and edges) from graph\n",
    "\n",
    "# louvain algorithm^H heuristic for community detection\n",
    "communities = community.best_partition(G)\n",
    "\n",
    "# dict of dicts: attributes for each node. Node size on 'pagerank', color on 'community'\n",
    "attrs = {k:{'pr':v} for k,v in pr.items()}\n",
    "updt(attrs, 'community', communities)\n",
    "updt(attrs, 'color', {k:c2c(v,max(communities.values())) for k,v in communities.items()})\n",
    "updt(attrs, 'size',   dict(zip(pr.keys(), minmax_scale(list(pr.values()),feature_range=(min_s,max_s)))))\n",
    "updt(attrs, 'radius', dict(zip(pr.keys(), minmax_scale(list(pr.values()),feature_range=(min_r,max_r)))))\n",
    "\n",
    "nx.set_node_attributes(G, attrs)"
   ]
  },
  {
   "cell_type": "code",
   "execution_count": 57,
   "metadata": {
    "slideshow": {
     "slide_type": "skip"
    }
   },
   "outputs": [],
   "source": [
    "del attrs, pr, communities, smalls, df_cal"
   ]
  },
  {
   "cell_type": "markdown",
   "metadata": {
    "slideshow": {
     "slide_type": "slide"
    }
   },
   "source": [
    "# Drawing graphs in python is doomed to misery\n",
    "Don't even bother for anything but the most trivial of graphs. And don't just take my word for it. Here's from the authors of `networkx`:\n",
    "\n",
    "> ## Drawing\n",
    "> NetworkX provides basic functionality for visualizing graphs, but its main goal is to enable graph analysis rather than perform graph visualization. In the future, graph visualization functionality may be removed from NetworkX or only available as an add-on package.\n",
    ">\n",
    "> Proper graph visualization is hard, and we highly recommend that people visualize their graphs with tools dedicated to that task.\n",
    ">\n",
    "https://networkx.github.io/documentation/latest/reference/drawing.html"
   ]
  },
  {
   "cell_type": "markdown",
   "metadata": {
    "slideshow": {
     "slide_type": "slide"
    }
   },
   "source": [
    "# Using `matplotlib`"
   ]
  },
  {
   "cell_type": "code",
   "execution_count": 60,
   "metadata": {
    "scrolled": true,
    "slideshow": {
     "slide_type": "-"
    }
   },
   "outputs": [
    {
     "data": {
      "image/png": "[encoded data removed]",
      "text/plain": [
       "<Figure size 720x360 with 1 Axes>"
      ]
     },
     "metadata": {},
     "output_type": "display_data"
    }
   ],
   "source": [
    "fig = plt.figure(figsize=(10, 5))\n",
    "nx.draw_kamada_kawai(G,\n",
    "    node_color=list(nx.get_node_attributes(G, 'color').values()),\n",
    "    node_size=list(nx.get_node_attributes(G, 'size').values()),\n",
    "    edge_color='lightgrey')"
   ]
  },
  {
   "cell_type": "markdown",
   "metadata": {
    "slideshow": {
     "slide_type": "-"
    }
   },
   "source": [
    "This is useless."
   ]
  },
  {
   "cell_type": "markdown",
   "metadata": {
    "slideshow": {
     "slide_type": "slide"
    }
   },
   "source": [
    "# Using `d3`\n"
   ]
  },
  {
   "cell_type": "code",
   "execution_count": null,
   "metadata": {
    "slideshow": {
     "slide_type": "-"
    }
   },
   "outputs": [],
   "source": []
  }
 ],
 "metadata": {
  "celltoolbar": "Slideshow",
  "kernelspec": {
   "display_name": "Python 3",
   "language": "python",
   "name": "python3"
  },
  "language_info": {
   "codemirror_mode": {
    "name": "ipython",
    "version": 3
   },
   "file_extension": ".py",
   "mimetype": "text/x-python",
   "name": "python",
   "nbconvert_exporter": "python",
   "pygments_lexer": "ipython3",
   "version": "3.6.6"
  }
 },
 "nbformat": 4,
 "nbformat_minor": 2
}
