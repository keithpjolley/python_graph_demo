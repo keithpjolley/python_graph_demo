{
 "cells": [
  {
   "cell_type": "markdown",
   "metadata": {
    "slideshow": {
     "slide_type": "skip"
    }
   },
   "source": [
    "Note - this notebook was intended to be a slide deck for a presentation at the December San Diego Python Users group. It relies on a number of python packages, [d3](https://d3js.org/) (a javascript visualization library), and, optionally, [rise](https://damianavila.github.io/RISE/), which is a jupyter slideshow add-on.  \n",
    "\n",
    "One of the questions that was asked was \"Where can I get data to play with this on my own?\" The Enron header file is included but here are some other ideas:\n",
    "- [Hillary Clinton's email](https://www.kaggle.com/kaggle/hillary-clinton-emails)\n",
    "- [Shopping Data](https://www.kaggle.com/c/walmart-recruiting-trip-type-classification/data)\n",
    "- [IMDB Data](https://www.imdb.com/interfaces/)\n",
    "- [Flight Data](https://openflights.org/data.html) - not current but still very cool\n",
    "\n",
    "[This notebook](https://github.com/keithpjolley/python_graph_demo) is available on GitHub."
   ]
  },
  {
   "cell_type": "code",
   "execution_count": 1,
   "metadata": {
    "slideshow": {
     "slide_type": "skip"
    }
   },
   "outputs": [],
   "source": [
    "import pandas as pd\n",
    "import numpy as np\n",
    "import scipy\n",
    "import networkx as nx\n",
    "import matplotlib.pyplot as plt\n",
    "import heapq\n",
    "import colorsys\n",
    "from sklearn.preprocessing import minmax_scale\n",
    "import json\n",
    "import sys\n",
    "from IPython.display import display, Javascript, HTML\n",
    "\n",
    "%matplotlib inline\n",
    "\n",
    "color = lambda c,n : \"#%02x%02x%02x\" % tuple(int(255*c) for c in colorsys.hsv_to_rgb(c/(n+1),1,1))\n",
    "updt = lambda d1,attr,d2 : [d1[k].update({attr:v}) for k,v in d2.items()]\n",
    "min_s, max_s = 100,700 # moon units?\n",
    "min_r, max_r = 6,20    # radius in pixels\n",
    "plt.ioff()             # have to use 'plt.show()'\n",
    "\n",
    "def plt2x2(G, beta):\n",
    "    f, (ax1, ax2) = plt.subplots(1, 2, num=None, figsize=(14, 8), dpi=72, facecolor='w', edgecolor='k')\n",
    "    Gplt = nx.draw_kamada_kawai(G, ax=ax1,\n",
    "        node_color=list(nx.get_node_attributes(G, 'color').values()),\n",
    "        node_size=list(nx.get_node_attributes(G, 'size').values()))\n",
    "    agaig = plt.imread(beta)\n",
    "    ax2.imshow(agaig)\n",
    "    ax2.set_title(\"What if this is as good as it gets?\")\n",
    "    return f\n",
    "\n",
    "def get_size(obj, seen=None):\n",
    "    \"\"\"Recursively finds size of objects\"\"\"\n",
    "    size = sys.getsizeof(obj)\n",
    "    if seen is None:\n",
    "        seen = set()\n",
    "    obj_id = id(obj)\n",
    "    if obj_id in seen:\n",
    "        return 0\n",
    "    # Important mark as seen *before* entering recursion to gracefully handle\n",
    "    # self-referential objects\n",
    "    seen.add(obj_id)\n",
    "    if isinstance(obj, dict):\n",
    "        size += sum([get_size(v, seen) for v in obj.values()])\n",
    "        size += sum([get_size(k, seen) for k in obj.keys()])\n",
    "    elif hasattr(obj, '__dict__'):\n",
    "        size += get_size(obj.__dict__, seen)\n",
    "    elif hasattr(obj, '__iter__') and not isinstance(obj, (str, bytes, bytearray)):\n",
    "        size += sum([get_size(i, seen) for i in obj])\n",
    "    return size"
   ]
  },
  {
   "cell_type": "code",
   "execution_count": 2,
   "metadata": {
    "slideshow": {
     "slide_type": "skip"
    }
   },
   "outputs": [
    {
     "data": {
      "text/html": [
       "<link rel=\"stylesheet\" href=\"/notebooks/include/css/style.css\" type=\"text/css\">\n"
      ],
      "text/plain": [
       "<IPython.core.display.HTML object>"
      ]
     },
     "metadata": {},
     "output_type": "display_data"
    }
   ],
   "source": [
    "%%html\n",
    "<link rel=\"stylesheet\" href=\"/notebooks/include/css/style.css\" type=\"text/css\">"
   ]
  },
  {
   "cell_type": "code",
   "execution_count": 3,
   "metadata": {},
   "outputs": [
    {
     "data": {
      "application/javascript": [
       "require.config({paths: {d3: '/notebooks/include/js/d3.v4.min'}});"
      ],
      "text/plain": [
       "<IPython.core.display.Javascript object>"
      ]
     },
     "metadata": {},
     "output_type": "display_data"
    },
    {
     "data": {
      "application/javascript": [
       "require.undef('bg');\n",
       "define('bg', ['d3'], function (d3) {\n",
       "  \n",
       "  function dobg() {\n",
       "  \n",
       "    var graph, kahuna, t, chartDiv, svg, oktodraw = false;\n",
       "  \n",
       "    function doinit(){\n",
       "  \n",
       "      graph = {\n",
       "        \"directed\": false,\n",
       "        \"multigraph\": false,\n",
       "        \"graph\": {\n",
       "          \"name\": \"Zachary's Karate Club\"\n",
       "        },\n",
       "        \"nodes\": [\n",
       "          {\n",
       "            \"club\": \"Mr. Hi\",\n",
       "            \"pr\": 0.09700181758983706,\n",
       "            \"community\": 0,\n",
       "            \"ei\": 0.35549144452456666,\n",
       "            \"color\": \"#ff0000\",\n",
       "            \"size\": 674.2793395041389,\n",
       "            \"radius\": 9.699925627548286,\n",
       "            \"id\": 0\n",
       "          },\n",
       "          {\n",
       "            \"club\": \"Mr. Hi\",\n",
       "            \"pr\": 0.052878391037427,\n",
       "            \"community\": 0,\n",
       "            \"ei\": 0.2659599195524917,\n",
       "            \"color\": \"#ff0000\",\n",
       "            \"size\": 384.4798149704916,\n",
       "            \"radius\": 6.318931174655735,\n",
       "            \"id\": 1\n",
       "          },\n",
       "          {\n",
       "            \"club\": \"Mr. Hi\",\n",
       "            \"pr\": 0.05707842304763673,\n",
       "            \"community\": 0,\n",
       "            \"ei\": 0.3171925044864318,\n",
       "            \"color\": \"#ff0000\",\n",
       "            \"size\": 412.0653262212808,\n",
       "            \"radius\": 6.640762139248276,\n",
       "            \"id\": 2\n",
       "          },\n",
       "          {\n",
       "            \"club\": \"Mr. Hi\",\n",
       "            \"pr\": 0.035860643223064786,\n",
       "            \"community\": 0,\n",
       "            \"ei\": 0.2111797203778902,\n",
       "            \"color\": \"#ff0000\",\n",
       "            \"size\": 272.70845878677045,\n",
       "            \"radius\": 5.014932019178989,\n",
       "            \"id\": 3\n",
       "          },\n",
       "          {\n",
       "            \"club\": \"Mr. Hi\",\n",
       "            \"pr\": 0.021979406974834498,\n",
       "            \"community\": 1,\n",
       "            \"ei\": 0.07596881818306882,\n",
       "            \"color\": \"#7fff00\",\n",
       "            \"size\": 181.5374872871275,\n",
       "            \"radius\": 3.951270685016487,\n",
       "            \"id\": 4\n",
       "          },\n",
       "          {\n",
       "            \"club\": \"Mr. Hi\",\n",
       "            \"pr\": 0.02911334166344221,\n",
       "            \"community\": 1,\n",
       "            \"ei\": 0.07948304511709929,\n",
       "            \"color\": \"#7fff00\",\n",
       "            \"size\": 228.39266247069864,\n",
       "            \"radius\": 4.497914395491484,\n",
       "            \"id\": 5\n",
       "          },\n",
       "          {\n",
       "            \"club\": \"Mr. Hi\",\n",
       "            \"pr\": 0.029113341663442205,\n",
       "            \"community\": 1,\n",
       "            \"ei\": 0.0794830451170993,\n",
       "            \"color\": \"#7fff00\",\n",
       "            \"size\": 228.3926624706986,\n",
       "            \"radius\": 4.497914395491483,\n",
       "            \"id\": 6\n",
       "          },\n",
       "          {\n",
       "            \"club\": \"Mr. Hi\",\n",
       "            \"pr\": 0.02449075803950918,\n",
       "            \"community\": 0,\n",
       "            \"ei\": 0.17095974804479624,\n",
       "            \"color\": \"#ff0000\",\n",
       "            \"size\": 198.03186230161828,\n",
       "            \"radius\": 4.143705060185546,\n",
       "            \"id\": 7\n",
       "          },\n",
       "          {\n",
       "            \"club\": \"Mr. Hi\",\n",
       "            \"pr\": 0.029765339186167028,\n",
       "            \"community\": 2,\n",
       "            \"ei\": 0.22740390712539998,\n",
       "            \"color\": \"#00ffff\",\n",
       "            \"size\": 232.6749357854951,\n",
       "            \"radius\": 4.547874250830777,\n",
       "            \"id\": 8\n",
       "          },\n",
       "          {\n",
       "            \"club\": \"Officer\",\n",
       "            \"pr\": 0.014308950284462798,\n",
       "            \"community\": 0,\n",
       "            \"ei\": 0.10267425072358632,\n",
       "            \"color\": \"#ff0000\",\n",
       "            \"size\": 131.1584737899485,\n",
       "            \"radius\": 3.363515527549399,\n",
       "            \"id\": 9\n",
       "          },\n",
       "          {\n",
       "            \"club\": \"Mr. Hi\",\n",
       "            \"pr\": 0.021979406974834494,\n",
       "            \"community\": 1,\n",
       "            \"ei\": 0.07596881818306876,\n",
       "            \"color\": \"#7fff00\",\n",
       "            \"size\": 181.53748728712748,\n",
       "            \"radius\": 3.951270685016487,\n",
       "            \"id\": 10\n",
       "          },\n",
       "          {\n",
       "            \"club\": \"Mr. Hi\",\n",
       "            \"pr\": 0.009564916863537146,\n",
       "            \"community\": 0,\n",
       "            \"ei\": 0.05285569749352128,\n",
       "            \"color\": \"#ff0000\",\n",
       "            \"size\": 100,\n",
       "            \"radius\": 3,\n",
       "            \"id\": 11\n",
       "          },\n",
       "          {\n",
       "            \"club\": \"Mr. Hi\",\n",
       "            \"pr\": 0.014645186487916188,\n",
       "            \"community\": 0,\n",
       "            \"ei\": 0.08425462871671362,\n",
       "            \"color\": \"#ff0000\",\n",
       "            \"size\": 133.3668492382163,\n",
       "            \"radius\": 3.38927990777919,\n",
       "            \"id\": 12\n",
       "          },\n",
       "          {\n",
       "            \"club\": \"Mr. Hi\",\n",
       "            \"pr\": 0.02953631497720298,\n",
       "            \"community\": 0,\n",
       "            \"ei\": 0.22647272014248113,\n",
       "            \"color\": \"#ff0000\",\n",
       "            \"size\": 231.17072108481588,\n",
       "            \"radius\": 4.530325079322852,\n",
       "            \"id\": 13\n",
       "          },\n",
       "          {\n",
       "            \"club\": \"Officer\",\n",
       "            \"pr\": 0.014535161524273824,\n",
       "            \"community\": 2,\n",
       "            \"ei\": 0.10140326218952467,\n",
       "            \"color\": \"#00ffff\",\n",
       "            \"size\": 132.64421310948057,\n",
       "            \"radius\": 3.3808491529439397,\n",
       "            \"id\": 14\n",
       "          },\n",
       "          {\n",
       "            \"club\": \"Officer\",\n",
       "            \"pr\": 0.014535161524273824,\n",
       "            \"community\": 2,\n",
       "            \"ei\": 0.10140326218952464,\n",
       "            \"color\": \"#00ffff\",\n",
       "            \"size\": 132.64421310948057,\n",
       "            \"radius\": 3.3808491529439397,\n",
       "            \"id\": 15\n",
       "          },\n",
       "          {\n",
       "            \"club\": \"Mr.  Hi\",\n",
       "            \"pr\": 0.016785378110253487,\n",
       "            \"community\": 1,\n",
       "            \"ei\": 0.02363562810459121,\n",
       "            \"color\": \"#7fff00\",\n",
       "            \"size\": 147.42347545756797,\n",
       "            \"radius\": 3.553273880338293,\n",
       "            \"id\": 16\n",
       "          },\n",
       "          {\n",
       "            \"club\": \"Mr. Hi\",\n",
       "            \"pr\": 0.01455885977424349,\n",
       "            \"community\": 0,\n",
       "            \"ei\": 0.09239953819570244,\n",
       "            \"color\": \"#ff0000\",\n",
       "            \"size\": 132.79986152824813,\n",
       "            \"radius\": 3.3826650511628946,\n",
       "            \"id\": 17\n",
       "          },\n",
       "          {\n",
       "            \"club\": \"Officer\",\n",
       "            \"pr\": 0.014535161524273824,\n",
       "            \"community\": 2,\n",
       "            \"ei\": 0.10140326218952464,\n",
       "            \"color\": \"#00ffff\",\n",
       "            \"size\": 132.64421310948057,\n",
       "            \"radius\": 3.3808491529439397,\n",
       "            \"id\": 18\n",
       "          },\n",
       "          {\n",
       "            \"club\": \"Mr. Hi\",\n",
       "            \"pr\": 0.01960441671193729,\n",
       "            \"community\": 0,\n",
       "            \"ei\": 0.14791251029338742,\n",
       "            \"color\": \"#ff0000\",\n",
       "            \"size\": 165.93872031144576,\n",
       "            \"radius\": 3.7692850703002003,\n",
       "            \"id\": 19\n",
       "          },\n",
       "          {\n",
       "            \"club\": \"Officer\",\n",
       "            \"pr\": 0.014535161524273824,\n",
       "            \"community\": 2,\n",
       "            \"ei\": 0.1014032621895247,\n",
       "            \"color\": \"#00ffff\",\n",
       "            \"size\": 132.64421310948057,\n",
       "            \"radius\": 3.3808491529439397,\n",
       "            \"id\": 20\n",
       "          },\n",
       "          {\n",
       "            \"club\": \"Mr. Hi\",\n",
       "            \"pr\": 0.01455885977424349,\n",
       "            \"community\": 0,\n",
       "            \"ei\": 0.09239953819570249,\n",
       "            \"color\": \"#ff0000\",\n",
       "            \"size\": 132.79986152824813,\n",
       "            \"radius\": 3.3826650511628946,\n",
       "            \"id\": 21\n",
       "          },\n",
       "          {\n",
       "            \"club\": \"Officer\",\n",
       "            \"pr\": 0.014535161524273824,\n",
       "            \"community\": 2,\n",
       "            \"ei\": 0.10140326218952472,\n",
       "            \"color\": \"#00ffff\",\n",
       "            \"size\": 132.64421310948057,\n",
       "            \"radius\": 3.3808491529439397,\n",
       "            \"id\": 22\n",
       "          },\n",
       "          {\n",
       "            \"club\": \"Officer\",\n",
       "            \"pr\": 0.03152091531163227,\n",
       "            \"community\": 3,\n",
       "            \"ei\": 0.15011857186115285,\n",
       "            \"color\": \"#7f00ff\",\n",
       "            \"size\": 244.2054348014348,\n",
       "            \"radius\": 4.682396739350072,\n",
       "            \"id\": 23\n",
       "          },\n",
       "          {\n",
       "            \"club\": \"Officer\",\n",
       "            \"pr\": 0.021075455001162945,\n",
       "            \"community\": 3,\n",
       "            \"ei\": 0.057052440541165664,\n",
       "            \"color\": \"#7f00ff\",\n",
       "            \"size\": 175.60039507466968,\n",
       "            \"radius\": 3.882004609204479,\n",
       "            \"id\": 24\n",
       "          },\n",
       "          {\n",
       "            \"club\": \"Officer\",\n",
       "            \"pr\": 0.02100562817474579,\n",
       "            \"community\": 3,\n",
       "            \"ei\": 0.05920647491677848,\n",
       "            \"color\": \"#7f00ff\",\n",
       "            \"size\": 175.1417774496004,\n",
       "            \"radius\": 3.876654070245338,\n",
       "            \"id\": 25\n",
       "          },\n",
       "          {\n",
       "            \"club\": \"Officer\",\n",
       "            \"pr\": 0.015043395360629753,\n",
       "            \"community\": 2,\n",
       "            \"ei\": 0.07557941348827214,\n",
       "            \"color\": \"#00ffff\",\n",
       "            \"size\": 135.98225676646885,\n",
       "            \"radius\": 3.419792995608803,\n",
       "            \"id\": 26\n",
       "          },\n",
       "          {\n",
       "            \"club\": \"Officer\",\n",
       "            \"pr\": 0.025638803528350497,\n",
       "            \"community\": 3,\n",
       "            \"ei\": 0.13347715338024002,\n",
       "            \"color\": \"#7f00ff\",\n",
       "            \"size\": 205.5721433451593,\n",
       "            \"radius\": 4.231675005693525,\n",
       "            \"id\": 27\n",
       "          },\n",
       "          {\n",
       "            \"club\": \"Officer\",\n",
       "            \"pr\": 0.019572960509438537,\n",
       "            \"community\": 3,\n",
       "            \"ei\": 0.13107782298371082,\n",
       "            \"color\": \"#7f00ff\",\n",
       "            \"size\": 165.732118212741,\n",
       "            \"radius\": 3.766874712481978,\n",
       "            \"id\": 28\n",
       "          },\n",
       "          {\n",
       "            \"club\": \"Officer\",\n",
       "            \"pr\": 0.026287262837112076,\n",
       "            \"community\": 2,\n",
       "            \"ei\": 0.13496081926232778,\n",
       "            \"color\": \"#00ffff\",\n",
       "            \"size\": 209.83117792252395,\n",
       "            \"radius\": 4.281363742429446,\n",
       "            \"id\": 29\n",
       "          },\n",
       "          {\n",
       "            \"club\": \"Officer\",\n",
       "            \"pr\": 0.024589336534292478,\n",
       "            \"community\": 2,\n",
       "            \"ei\": 0.17475830231435294,\n",
       "            \"color\": \"#00ffff\",\n",
       "            \"size\": 198.67931883773994,\n",
       "            \"radius\": 4.151258719773633,\n",
       "            \"id\": 30\n",
       "          },\n",
       "          {\n",
       "            \"club\": \"Officer\",\n",
       "            \"pr\": 0.037156635922679405,\n",
       "            \"community\": 3,\n",
       "            \"ei\": 0.19103384140654378,\n",
       "            \"color\": \"#7f00ff\",\n",
       "            \"size\": 281.2204465785908,\n",
       "            \"radius\": 5.114238543416892,\n",
       "            \"id\": 31\n",
       "          },\n",
       "          {\n",
       "            \"club\": \"Officer\",\n",
       "            \"pr\": 0.07169213006588289,\n",
       "            \"community\": 2,\n",
       "            \"ei\": 0.3086442197910475,\n",
       "            \"color\": \"#00ffff\",\n",
       "            \"size\": 508.04711359519086,\n",
       "            \"radius\": 7.76054965861056,\n",
       "            \"id\": 32\n",
       "          },\n",
       "          {\n",
       "            \"club\": \"Officer\",\n",
       "            \"pr\": 0.1009179167487121,\n",
       "            \"community\": 2,\n",
       "            \"ei\": 0.37336347029148326,\n",
       "            \"color\": \"#00ffff\",\n",
       "            \"size\": 700.0000000000001,\n",
       "            \"radius\": 10,\n",
       "            \"id\": 33\n",
       "          }\n",
       "        ],\n",
       "        \"links\": [\n",
       "          {\n",
       "            \"source\": 0,\n",
       "            \"target\": 1\n",
       "          },\n",
       "          {\n",
       "            \"source\": 0,\n",
       "            \"target\": 2\n",
       "          },\n",
       "          {\n",
       "            \"source\": 0,\n",
       "            \"target\": 3\n",
       "          },\n",
       "          {\n",
       "            \"source\": 0,\n",
       "            \"target\": 4\n",
       "          },\n",
       "          {\n",
       "            \"source\": 0,\n",
       "            \"target\": 5\n",
       "          },\n",
       "          {\n",
       "            \"source\": 0,\n",
       "            \"target\": 6\n",
       "          },\n",
       "          {\n",
       "            \"source\": 0,\n",
       "            \"target\": 7\n",
       "          },\n",
       "          {\n",
       "            \"source\": 0,\n",
       "            \"target\": 8\n",
       "          },\n",
       "          {\n",
       "            \"source\": 0,\n",
       "            \"target\": 10\n",
       "          },\n",
       "          {\n",
       "            \"source\": 0,\n",
       "            \"target\": 11\n",
       "          },\n",
       "          {\n",
       "            \"source\": 0,\n",
       "            \"target\": 12\n",
       "          },\n",
       "          {\n",
       "            \"source\": 0,\n",
       "            \"target\": 13\n",
       "          },\n",
       "          {\n",
       "            \"source\": 0,\n",
       "            \"target\": 17\n",
       "          },\n",
       "          {\n",
       "            \"source\": 0,\n",
       "            \"target\": 19\n",
       "          },\n",
       "          {\n",
       "            \"source\": 0,\n",
       "            \"target\": 21\n",
       "          },\n",
       "          {\n",
       "            \"source\": 0,\n",
       "            \"target\": 31\n",
       "          },\n",
       "          {\n",
       "            \"source\": 1,\n",
       "            \"target\": 2\n",
       "          },\n",
       "          {\n",
       "            \"source\": 1,\n",
       "            \"target\": 3\n",
       "          },\n",
       "          {\n",
       "            \"source\": 1,\n",
       "            \"target\": 7\n",
       "          },\n",
       "          {\n",
       "            \"source\": 1,\n",
       "            \"target\": 13\n",
       "          },\n",
       "          {\n",
       "            \"source\": 1,\n",
       "            \"target\": 17\n",
       "          },\n",
       "          {\n",
       "            \"source\": 1,\n",
       "            \"target\": 19\n",
       "          },\n",
       "          {\n",
       "            \"source\": 1,\n",
       "            \"target\": 21\n",
       "          },\n",
       "          {\n",
       "            \"source\": 1,\n",
       "            \"target\": 30\n",
       "          },\n",
       "          {\n",
       "            \"source\": 2,\n",
       "            \"target\": 3\n",
       "          },\n",
       "          {\n",
       "            \"source\": 2,\n",
       "            \"target\": 7\n",
       "          },\n",
       "          {\n",
       "            \"source\": 2,\n",
       "            \"target\": 8\n",
       "          },\n",
       "          {\n",
       "            \"source\": 2,\n",
       "            \"target\": 9\n",
       "          },\n",
       "          {\n",
       "            \"source\": 2,\n",
       "            \"target\": 13\n",
       "          },\n",
       "          {\n",
       "            \"source\": 2,\n",
       "            \"target\": 27\n",
       "          },\n",
       "          {\n",
       "            \"source\": 2,\n",
       "            \"target\": 28\n",
       "          },\n",
       "          {\n",
       "            \"source\": 2,\n",
       "            \"target\": 32\n",
       "          },\n",
       "          {\n",
       "            \"source\": 3,\n",
       "            \"target\": 7\n",
       "          },\n",
       "          {\n",
       "            \"source\": 3,\n",
       "            \"target\": 12\n",
       "          },\n",
       "          {\n",
       "            \"source\": 3,\n",
       "            \"target\": 13\n",
       "          },\n",
       "          {\n",
       "            \"source\": 4,\n",
       "            \"target\": 6\n",
       "          },\n",
       "          {\n",
       "            \"source\": 4,\n",
       "            \"target\": 10\n",
       "          },\n",
       "          {\n",
       "            \"source\": 5,\n",
       "            \"target\": 6\n",
       "          },\n",
       "          {\n",
       "            \"source\": 5,\n",
       "            \"target\": 10\n",
       "          },\n",
       "          {\n",
       "            \"source\": 5,\n",
       "            \"target\": 16\n",
       "          },\n",
       "          {\n",
       "            \"source\": 6,\n",
       "            \"target\": 16\n",
       "          },\n",
       "          {\n",
       "            \"source\": 8,\n",
       "            \"target\": 30\n",
       "          },\n",
       "          {\n",
       "            \"source\": 8,\n",
       "            \"target\": 32\n",
       "          },\n",
       "          {\n",
       "            \"source\": 8,\n",
       "            \"target\": 33\n",
       "          },\n",
       "          {\n",
       "            \"source\": 9,\n",
       "            \"target\": 33\n",
       "          },\n",
       "          {\n",
       "            \"source\": 13,\n",
       "            \"target\": 33\n",
       "          },\n",
       "          {\n",
       "            \"source\": 14,\n",
       "            \"target\": 32\n",
       "          },\n",
       "          {\n",
       "            \"source\": 14,\n",
       "            \"target\": 33\n",
       "          },\n",
       "          {\n",
       "            \"source\": 15,\n",
       "            \"target\": 32\n",
       "          },\n",
       "          {\n",
       "            \"source\": 15,\n",
       "            \"target\": 33\n",
       "          },\n",
       "          {\n",
       "            \"source\": 18,\n",
       "            \"target\": 32\n",
       "          },\n",
       "          {\n",
       "            \"source\": 18,\n",
       "            \"target\": 33\n",
       "          },\n",
       "          {\n",
       "            \"source\": 19,\n",
       "            \"target\": 33\n",
       "          },\n",
       "          {\n",
       "            \"source\": 20,\n",
       "            \"target\": 32\n",
       "          },\n",
       "          {\n",
       "            \"source\": 20,\n",
       "            \"target\": 33\n",
       "          },\n",
       "          {\n",
       "            \"source\": 22,\n",
       "            \"target\": 32\n",
       "          },\n",
       "          {\n",
       "            \"source\": 22,\n",
       "            \"target\": 33\n",
       "          },\n",
       "          {\n",
       "            \"source\": 23,\n",
       "            \"target\": 25\n",
       "          },\n",
       "          {\n",
       "            \"source\": 23,\n",
       "            \"target\": 27\n",
       "          },\n",
       "          {\n",
       "            \"source\": 23,\n",
       "            \"target\": 29\n",
       "          },\n",
       "          {\n",
       "            \"source\": 23,\n",
       "            \"target\": 32\n",
       "          },\n",
       "          {\n",
       "            \"source\": 23,\n",
       "            \"target\": 33\n",
       "          },\n",
       "          {\n",
       "            \"source\": 24,\n",
       "            \"target\": 25\n",
       "          },\n",
       "          {\n",
       "            \"source\": 24,\n",
       "            \"target\": 27\n",
       "          },\n",
       "          {\n",
       "            \"source\": 24,\n",
       "            \"target\": 31\n",
       "          },\n",
       "          {\n",
       "            \"source\": 25,\n",
       "            \"target\": 31\n",
       "          },\n",
       "          {\n",
       "            \"source\": 26,\n",
       "            \"target\": 29\n",
       "          },\n",
       "          {\n",
       "            \"source\": 26,\n",
       "            \"target\": 33\n",
       "          },\n",
       "          {\n",
       "            \"source\": 27,\n",
       "            \"target\": 33\n",
       "          },\n",
       "          {\n",
       "            \"source\": 28,\n",
       "            \"target\": 31\n",
       "          },\n",
       "          {\n",
       "            \"source\": 28,\n",
       "            \"target\": 33\n",
       "          },\n",
       "          {\n",
       "            \"source\": 29,\n",
       "            \"target\": 32\n",
       "          },\n",
       "          {\n",
       "            \"source\": 29,\n",
       "            \"target\": 33\n",
       "          },\n",
       "          {\n",
       "            \"source\": 30,\n",
       "            \"target\": 32\n",
       "          },\n",
       "          {\n",
       "            \"source\": 30,\n",
       "            \"target\": 33\n",
       "          },\n",
       "          {\n",
       "            \"source\": 31,\n",
       "            \"target\": 32\n",
       "          },\n",
       "          {\n",
       "            \"source\": 31,\n",
       "            \"target\": 33\n",
       "          },\n",
       "          {\n",
       "            \"source\": 32,\n",
       "            \"target\": 33\n",
       "          }\n",
       "        ]\n",
       "      }\n",
       "      kahuna = graph.nodes.sort((a,b)=>b.ei-a.ei)[0]['id']\n",
       "      t = d3.now()\n",
       "      chartDiv = d3.select('.rise-enabled').select('.slides');\n",
       "      d3.selectAll(\".bggraphsvg\").remove()  // just in case.\n",
       "      svg = chartDiv\n",
       "          .append(\"svg\")\n",
       "          .attr(\"class\", \"bggraphsvg\")\n",
       "          .attr(\"id\", \"thebggraphsvg\");\n",
       "      oktodraw = true;\n",
       "      return;\n",
       "    }\n",
       "  \n",
       "    function redraw(){\n",
       "  \n",
       "      console.log(\"alpha\")\n",
       "      if(!oktodraw) doinit();\n",
       "      console.log(\"beta\")\n",
       "  \n",
       "      // Extract the width and height that was computed by CSS.\n",
       "      var width  = Math.min(window.innerWidth,  parseInt(chartDiv.style(\"width\")));   // please don't send me a pct.\n",
       "      var height = Math.min(window.innerHeight, parseInt(chartDiv.style(\"height\")));  // chartdiv may go WAY down off the screen\n",
       "  \n",
       "      //\n",
       "      //console.log(\"gamma: width:  \" + width);\n",
       "      //console.log(\"gamma: height: \" + height);\n",
       "      //\n",
       "  \n",
       "      if(isNaN(width))  { width  = 1000; } // just in case\n",
       "      if(isNaN(height)) { height = 800;  } // set defaults\n",
       "  \n",
       "      svg .attr(\"width\", width)\n",
       "          .attr(\"height\", height)\n",
       "          .selectAll(\"*\").remove(); // erases any previous nodes/links drawn\n",
       "  \n",
       "      var linkWidth = d3.scaleLinear()\n",
       "        .domain(d3.extent(graph.links.map(function(d){return d.weight;})))\n",
       "        .range([0.5, 3]);\n",
       "  \n",
       "      var simulation = d3.forceSimulation()\n",
       "          .alphaDecay(0) // https://github.com/d3/d3-force/blob/master/README.md\n",
       "          //.force(\"center\",  d3.forceCenter(width/2, height/2))\n",
       "          .force(\"collide\", d3.forceCollide()\n",
       "                .radius(function(d){return d.radius*0.75})\n",
       "          )\n",
       "          .force(\"link\",    d3.forceLink()\n",
       "                .id(function(d){return d.id;})\n",
       "                .distance(function(d){\n",
       "                    var dist = 30\n",
       "                    if(d.source.radius + d.target.radius > 0) {\n",
       "                        // guarding against something that happened once. fishy.\n",
       "                        dist = 2.5*(d.source.radius+d.target.radius)\n",
       "                    }\n",
       "                    if(d.source.community != d.target.community) {\n",
       "                        dist *= 3\n",
       "                    }\n",
       "                    if(isNaN(dist)) {\n",
       "                        return 30\n",
       "                    } // more fish\n",
       "                    return dist;\n",
       "                })\n",
       "          )\n",
       "          .force(\"charge\",  d3.forceManyBody().strength(-5))\n",
       "          .force(\"x\",       d3.forceX(width/2).strength( 0.001))\n",
       "          .force(\"y\",       d3.forceX(height/2).strength(0.001));\n",
       "  \n",
       "      var link = svg.append(\"g\")\n",
       "        .attr(\"class\", \"links\")\n",
       "        .selectAll(\"line\")\n",
       "        .data(graph.links)\n",
       "        .enter().append(\"line\")\n",
       "          .attr(\"stroke-width\", function(d) { return linkWidth(d.weight); });\n",
       "  \n",
       "      var node = svg.append(\"g\")\n",
       "        .attr(\"class\", \"nodes\")\n",
       "        .selectAll(\"g\")\n",
       "        .data(graph.nodes)\n",
       "        .enter().append(\"g\")\n",
       "      \n",
       "      var circles = node.append(\"circle\")\n",
       "        .attr(\"r\", function(d) {    return d.radius; })\n",
       "        .attr(\"fill\", function(d) {   var c = d3.hsl(d.color); c.l=0.85; return c+\"\" })\n",
       "        .attr(\"stroke\", function(d) { var c = d3.hsl(d.color); c.l=0.75; return c+\"\" })\n",
       "  \n",
       "      simulation\n",
       "        .nodes(graph.nodes)\n",
       "        .on(\"tick\", ticked);\n",
       "  \n",
       "      simulation.force(\"link\")\n",
       "        .links(graph.links);\n",
       "  \n",
       "      function ticked() {\n",
       "        const fast = {'x': 1233,   'y': 3000,   'z': 100000};\n",
       "        const slow = {'x': 123321, 'y': 300000, 'z': 100000};\n",
       "        link\n",
       "          .attr(\"x1\", function(d) { return d.source.x; })\n",
       "          .attr(\"y1\", function(d) { return d.source.y; })\n",
       "          .attr(\"x2\", function(d) { return d.target.x; })\n",
       "          .attr(\"y2\", function(d) { return d.target.y; });\n",
       "        node\n",
       "          .attr(\"transform\", function(d) {\n",
       "            var x = d.x,\n",
       "                y = d.y,\n",
       "                speed = slow;\n",
       "            if(d.id === kahuna) {\n",
       "              var v1 = 1.0+Math.sin((d3.now()-t)/speed.z+0)/2,\n",
       "                  v2 = 1.0+Math.sin((d3.now()-t)/speed.z+2)/2,\n",
       "                  v3 = 1.0+Math.sin((d3.now()-t)/speed.z+4)/2,\n",
       "                  v4 = 1.0+Math.sin((d3.now()-t)/speed.z+7)/2;\n",
       "              d.x = (1+Math.sin(v1*(d3.now()-t)/speed.x))*v3*width/2;\n",
       "              d.y = (1+Math.sin(v2*(d3.now()-t)/speed.y))*v4*height/2;\n",
       "            }\n",
       "            return \"translate(\" + x + \",\" + y + \")\";\n",
       "          })\n",
       "          .attr(\"cx\", function(d) { return d.x = Math.max(d.radius, Math.min(width  - d.radius, d.x)); })\n",
       "          .attr(\"cy\", function(d) { return d.y = Math.max(d.radius, Math.min(height - d.radius, d.y)); })\n",
       "      }\n",
       "  \n",
       "      d3.interval(function() {\n",
       "        simulation.restart()\n",
       "        return;\n",
       "      }, 5000)\n",
       "  \n",
       "      return;\n",
       "    }\n",
       "  \n",
       "  \n",
       "    function checkElement(selector) {\n",
       "\n",
       "      function rafAsync() {\n",
       "        return new Promise(resolve => {\n",
       "            requestAnimationFrame(resolve); //faster than set time out\n",
       "        });\n",
       "      }\n",
       "      if (document.querySelector(selector) === null) {\n",
       "        return rafAsync().then(() => checkElement(selector));\n",
       "      } else {\n",
       "        return Promise.resolve(true);\n",
       "      }\n",
       "    }\n",
       "\n",
       "    // tear down our drawing\n",
       "    function undraw() {\n",
       "      if(oktodraw) {\n",
       "        d3.selectAll(\".bggraphsvg\").remove()\n",
       "        oktodraw = false;\n",
       "      }\n",
       "    }\n",
       "  \n",
       "    function doidoit() {\n",
       "      // var chartDiv = d3.select('.rise-enabled').select('.slides');\n",
       "      checkElement('.slides') //use whichever selector you want\n",
       "      .then((element) => {\n",
       "        redraw();\n",
       "      }, error => {\n",
       "        undraw();\n",
       "      });\n",
       "    }\n",
       "\n",
       "    doidoit();\n",
       "    // Redraw based on the new size whenever the browser window is resized/fullscreened.\n",
       "    window.addEventListener(\"resize\", doidoit);\n",
       "    window.addEventListener(\"onfullscreenchange\", doidoit);\n",
       "\n",
       "  } // function dobg()\n",
       "  return dobg;\n",
       "});\n"
      ],
      "text/plain": [
       "<IPython.core.display.Javascript object>"
      ]
     },
     "metadata": {},
     "output_type": "display_data"
    },
    {
     "data": {
      "application/javascript": [
       "\n",
       "        (function(element){\n",
       "            require(['bg'], function(dobg) {          \n",
       "                dobg();\n",
       "            });\n",
       "        })(element);\n",
       "    "
      ],
      "text/plain": [
       "<IPython.core.display.Javascript object>"
      ]
     },
     "metadata": {},
     "output_type": "display_data"
    }
   ],
   "source": [
    "display(Javascript(\"require.config({paths: {d3: '/notebooks/include/js/d3.v4.min'}});\"))\n",
    "display(Javascript(filename=\"include/js/bg.js\"))\n",
    "display(Javascript(\"\"\"\n",
    "        (function(element){\n",
    "            require(['bg'], function(dobg) {          \n",
    "                dobg();\n",
    "            });\n",
    "        })(element);\n",
    "    \"\"\"))"
   ]
  },
  {
   "cell_type": "markdown",
   "metadata": {
    "slideshow": {
     "slide_type": "slide"
    }
   },
   "source": [
    "# Python & Graphs\n",
    "### Keith P Jolley"
   ]
  },
  {
   "cell_type": "markdown",
   "metadata": {
    "slideshow": {
     "slide_type": "slide"
    }
   },
   "source": [
    "# What's This Talk About?\n",
    "\n",
    "### 1. What is a graph?\n",
    "### 2. What can graphs be used for?\n",
    "### 3. A couple things to keep in mind when working with graphs.\n",
    "### 4. How to create graph in a handful of different python packages.\n",
    "### 5. A simple analysis using `networkx`.\n",
    "### 6. Visualizing the graphs."
   ]
  },
  {
   "cell_type": "markdown",
   "metadata": {
    "slideshow": {
     "slide_type": "slide"
    }
   },
   "source": [
    "## Keith P Jolley\n",
    "\n",
    "### Experience:\n",
    "- Jamul Heavy Industries - Owner\n",
    "- Technical Account Manager - NetApp\n",
    "- Senior Director, IT - Qualcomm\n",
    "\n",
    "### Education:\n",
    "- MS Analytics, 2020, Georgia Tech\n",
    "- MS Computational Science, 2013, SDSU\n",
    "- BS Aerospace Engineering, 1992, SDSU"
   ]
  },
  {
   "cell_type": "markdown",
   "metadata": {
    "slideshow": {
     "slide_type": "slide"
    }
   },
   "source": [
    "# What's a Graph or Network?\n",
    "\n",
    "A visual representation of **Nodes** and **Edges** that show how things are **connected**.\n",
    "\n",
    "**Nodes**, also called **vertices**, are the \"things\" in the network.\n",
    "\n",
    "**Edges**, also called **arcs**, are the \"connections\" in the network.\n",
    "\n",
    "Edges can have **weight**. An edge with weight shows the relative magnitude of the connectivity between two nodes.\n",
    "\n",
    "Edges can also have **direction**."
   ]
  },
  {
   "cell_type": "markdown",
   "metadata": {
    "slideshow": {
     "slide_type": "slide"
    }
   },
   "source": [
    "# Graph Examples\n",
    "\n",
    "- Social Network (LinkedIn: People, Companies, Jobs are nodes, edges are the connections)\n",
    "- Email Networks (Google Mail: People, Emails are nodes, sending/receiving emails are the edges)\n",
    "- Websites (Google: Pages are nodes, hyperlinks are the edges)\n",
    "- Roads (Waze: Intersections are vertices, roads are the edges, \"traffic\" is the weight)\n",
    "- [Oracle of Bacon](https://oracleofbacon.org/movielinks.php) (Actors are the nodes, \"credits\" are the edges)"
   ]
  },
  {
   "cell_type": "markdown",
   "metadata": {
    "slideshow": {
     "slide_type": "slide"
    }
   },
   "source": [
    "# You Should Know\n",
    "\n",
    "## Graphs become large quickly\n",
    "\n",
    "Worst case: $N^2$ where N is the number of nodes.\n",
    "\n",
    "A social network of all 2.1M Walmart employees is big.\n",
    "\n",
    "The graph of all ~2B Facebook users is really big.\n",
    "\n",
    "Google's graph \"every page google knows about\" is huge.\n",
    "\n",
    "If your graph has tens of millions or billions of nodes Python, and in particular `numpy` or `networkx`, may not be a good choice."
   ]
  },
  {
   "cell_type": "markdown",
   "metadata": {
    "slideshow": {
     "slide_type": "skip"
    }
   },
   "source": [
    "# You Should Know...\n",
    "\n",
    "## Specialized tools\n",
    "\n",
    "There are tools that are made for graphs that may be more appropriate as your graphs increase in size. For example:\n",
    "\n",
    "- [Neo4j](https://neo4j.com/) - Graph database\n",
    "- [Gephi](https://gephi.org/)\n",
    "- [Cytoscape](https://cytoscape.org/)\n",
    "- R (igraph - still supported?)\n",
    "- [Linkurious](https://linkurio.us/)\n",
    "\n",
    "Relational databases are a terrible choice for managing relationships!"
   ]
  },
  {
   "cell_type": "markdown",
   "metadata": {
    "slideshow": {
     "slide_type": "slide"
    }
   },
   "source": [
    "# You Should Know...\n",
    "\n",
    "## Visualization...\n",
    "\n",
    "Visualizing large graphs is hard. There are no good network visualization tools in Python as of late 2018. From the [authors](https://networkx.github.io/documentation/latest/reference/drawing.html) of `networkx`:\n",
    "\n",
    "> ## Drawing\n",
    "> In the future, graph visualization functionality may be removed from NetworkX or only available as an add-on package.\n",
    ">\n",
    "> Proper graph visualization is hard, and we highly recommend that people visualize their graphs with tools dedicated to that task.\n",
    ">"
   ]
  },
  {
   "cell_type": "markdown",
   "metadata": {
    "slideshow": {
     "slide_type": "slide"
    }
   },
   "source": [
    "# You Should Know...\n",
    "\n",
    "## Visualization...\n",
    "\n",
    "Hairball. Please don't do this. And I'm not blaming Python for this!\n",
    "![terrible graph visualization that looks like a hairball](include/images/hairball.png)"
   ]
  },
  {
   "cell_type": "markdown",
   "metadata": {
    "slideshow": {
     "slide_type": "slide"
    }
   },
   "source": [
    "# Let's Build A (directed, weighted) Network Already!"
   ]
  },
  {
   "cell_type": "markdown",
   "metadata": {
    "slideshow": {
     "slide_type": "slide"
    }
   },
   "source": [
    "### 0. Alice sends an email\n",
    "\n",
    "*Edge notation:* Alice -> (Bob, Carol, Dan)  \n",
    "*Matrix notation:*  \n",
    "<p></p>\n",
    "<div class=\"box\">\n",
    "    <div class=\"matrix\">\n",
    "$\\left[ \\begin{array}{cccc}\n",
    "      & A & B & C & D & E & F \\\\\n",
    "    A & {\\color{grey}0} & 1 & 1 & 1 & {\\color{grey}0} & {\\color{grey}0} \\\\\n",
    "    B & {\\color{grey}0} & {\\color{grey}0} & {\\color{grey}0} & {\\color{grey}0} & {\\color{grey}0} & {\\color{grey}0} \\\\\n",
    "    C & {\\color{grey}0} & {\\color{grey}0} & {\\color{grey}0} & {\\color{grey}0} & {\\color{grey}0} & {\\color{grey}0} \\\\\n",
    "    D & {\\color{grey}0} & {\\color{grey}0} & {\\color{grey}0} & {\\color{grey}0} & {\\color{grey}0} & {\\color{grey}0} \\\\\n",
    "    E & {\\color{grey}0} & {\\color{grey}0} & {\\color{grey}0} & {\\color{grey}0} & {\\color{grey}0} & {\\color{grey}0} \\\\\n",
    "    F & {\\color{grey}0} & {\\color{grey}0} & {\\color{grey}0} & {\\color{grey}0} & {\\color{grey}0} & {\\color{grey}0} \\\\\n",
    "  \\end{array}\n",
    "\\right] $\n",
    "    </div>\n",
    "    <div class=\"graph\">\n",
    "\n",
    "![step 1 graph](include/images/graphs.000.png)\n",
    "    </div>\n",
    "</div>\n",
    "\n",
    "*numpy:*"
   ]
  },
  {
   "cell_type": "code",
   "execution_count": 4,
   "metadata": {
    "slideshow": {
     "slide_type": "fragment"
    }
   },
   "outputs": [],
   "source": [
    "Gnp = np.array([[0,1,1,1,0,0],\n",
    "                           [0,0,0,0,0,0],\n",
    "                           [0,0,0,0,0,0],\n",
    "                           [0,0,0,0,0,0],\n",
    "                           [0,0,0,0,0,0],\n",
    "                           [0,0,0,0,0,0]])"
   ]
  },
  {
   "cell_type": "markdown",
   "metadata": {
    "slideshow": {
     "slide_type": "slide"
    }
   },
   "source": [
    "### 1. Carol sends an email\n",
    "\n",
    "*Edge Notatation:* Carol -> (Alice, Bob, Dan)  \n",
    "*Matrix notation:*  \n",
    "<p></p>\n",
    "<div class=\"box\">\n",
    "    <div class=\"matrix\">\n",
    "$\\left[ \\begin{array}{cccc}\n",
    "      & A & B & C & D & E & F \\\\\n",
    "    A & {\\color{grey}0} & 1 & 1 & 1 & {\\color{grey}0} & {\\color{grey}0} \\\\\n",
    "    B & {\\color{grey}0} & {\\color{grey}0} & {\\color{grey}0} & {\\color{grey}0} & {\\color{grey}0} & {\\color{grey}0} \\\\\n",
    "    C & {\\color{blue} 1} & {\\color{blue} 1} & {\\color{grey}0} & {\\color{blue} 1} & {\\color{grey}0} & {\\color{grey}0} \\\\\n",
    "    D & {\\color{grey}0} & {\\color{grey}0} & {\\color{grey}0} & {\\color{grey}0} & {\\color{grey}0} & {\\color{grey}0} \\\\\n",
    "    E & {\\color{grey}0} & {\\color{grey}0} & {\\color{grey}0} & {\\color{grey}0} & {\\color{grey}0} & {\\color{grey}0} \\\\\n",
    "    F & {\\color{grey}0} & {\\color{grey}0} & {\\color{grey}0} & {\\color{grey}0} & {\\color{grey}0} & {\\color{grey}0} \\\\\n",
    "  \\end{array}\n",
    "\\right] $\n",
    "    </div>\n",
    "    <div class=\"graph\">\n",
    "\n",
    "![step 1 graph](include/images/graphs.001.png)\n",
    "    </div>\n",
    "</div>\n",
    "\n",
    "*numpy:*"
   ]
  },
  {
   "cell_type": "code",
   "execution_count": 5,
   "metadata": {
    "slideshow": {
     "slide_type": "fragment"
    }
   },
   "outputs": [],
   "source": [
    "Gnp += np.array([[0,0,0,0,0,0],\n",
    "                             [0,0,0,0,0,0],\n",
    "                             [1,1,0,1,0,0],\n",
    "                             [0,0,0,0,0,0],\n",
    "                             [0,0,0,0,0,0],\n",
    "                             [0,0,0,0,0,0]])"
   ]
  },
  {
   "cell_type": "markdown",
   "metadata": {
    "slideshow": {
     "slide_type": "slide"
    }
   },
   "source": [
    "### 2. Carol sends another email\n",
    "\n",
    "*Edge Notation:* Carol -> (Erin, Frank)  \n",
    "*Matrix notation:*  \n",
    "<p></p>\n",
    "<div class=\"box\">\n",
    "    <div class=\"matrix\">\n",
    "$\\left[ \\begin{array}{cccc}\n",
    "      & A & B & C & D & E & F \\\\\n",
    "    A & {\\color{grey}0} & 1 & 1 & 1 & {\\color{grey}0} & {\\color{grey}0} \\\\\n",
    "    B & {\\color{grey}0} & {\\color{grey}0} & {\\color{grey}0} & {\\color{grey}0} & {\\color{grey}0} & {\\color{grey}0} \\\\\n",
    "     C & {\\color{blue}1} & {\\color{blue}1} & {\\color{grey}0} & {\\color{blue}1} & {\\color{green}1} & {\\color{green}1} \\\\\n",
    "    D & {\\color{grey}0} & {\\color{grey}0} & {\\color{grey}0} & {\\color{grey}0} & {\\color{grey}0} & {\\color{grey}0} \\\\\n",
    "    E & {\\color{grey}0} & {\\color{grey}0} & {\\color{grey}0} & {\\color{grey}0} & {\\color{grey}0} & {\\color{grey}0} \\\\\n",
    "    F & {\\color{grey}0} & {\\color{grey}0} & {\\color{grey}0} & {\\color{grey}0} & {\\color{grey}0} & {\\color{grey}0} \\\\\n",
    "  \\end{array}\n",
    "\\right] $\n",
    "    </div>\n",
    "    <div class=\"graph\">\n",
    "        \n",
    "![step 2 graph](include/images/graphs.002.png)\n",
    "    </div>\n",
    "</div>\n",
    "\n",
    "*numpy:*"
   ]
  },
  {
   "cell_type": "code",
   "execution_count": 6,
   "metadata": {
    "slideshow": {
     "slide_type": "fragment"
    }
   },
   "outputs": [],
   "source": [
    "Gnp += np.array([[0,0,0,0,0,0], \n",
    "                             [0,0,0,0,0,0],\n",
    "                             [0,0,0,0,1,1],\n",
    "                             [0,0,0,0,0,0],\n",
    "                             [0,0,0,0,0,0],\n",
    "                             [0,0,0,0,0,0]])"
   ]
  },
  {
   "cell_type": "markdown",
   "metadata": {
    "slideshow": {
     "slide_type": "slide"
    }
   },
   "source": [
    "## With Sparse Matrix\n",
    "### 0. Alice sends an email\n",
    "\n",
    "*Edge notation:* Alice -> (Bob, Carol, Dan)  \n",
    "\n",
    "![step 1 graph](include/images/graphs.000.png)"
   ]
  },
  {
   "cell_type": "code",
   "execution_count": 7,
   "metadata": {
    "slideshow": {
     "slide_type": "fragment"
    }
   },
   "outputs": [],
   "source": [
    "i2n = [\"Alice\", \"Bob\", \"Carol\", \"Dan\", \"Erin\", \"Frank\"]\n",
    "n2i = { n:i for i,n in enumerate(i2n) }\n",
    "weight = [1,1,1]\n",
    "frm = [n2i[\"Alice\"], n2i[\"Alice\"], n2i[\"Alice\"]]\n",
    "to_ = [n2i[\"Bob\"],   n2i[\"Carol\"], n2i[\"Dan\"]]\n",
    "Gsm = scipy.sparse.coo_matrix((weight, (frm, to_)), shape=(6,6))"
   ]
  },
  {
   "cell_type": "markdown",
   "metadata": {
    "slideshow": {
     "slide_type": "slide"
    }
   },
   "source": [
    "### 1. Carol sends an email\n",
    "\n",
    "*Edge Notatation:* Carol -> (Alice, Bob, Dan)  \n",
    "\n",
    "![step 1 graph](include/images/graphs.001.png)"
   ]
  },
  {
   "cell_type": "code",
   "execution_count": 8,
   "metadata": {
    "slideshow": {
     "slide_type": "fragment"
    }
   },
   "outputs": [],
   "source": [
    "Gsm += scipy.sparse.coo_matrix(([1,1,1], ([2,2,2], [0,1,3])), shape=(6,6))  # no broadcasting w/ sparse matrix"
   ]
  },
  {
   "cell_type": "markdown",
   "metadata": {
    "slideshow": {
     "slide_type": "slide"
    }
   },
   "source": [
    "### 2. Carol sends another email\n",
    "\n",
    "*Edge Notation:* Carol -> (Erin, Frank)  \n",
    "        \n",
    "![step 2 graph](include/images/graphs.002.png)"
   ]
  },
  {
   "cell_type": "code",
   "execution_count": 9,
   "metadata": {
    "slideshow": {
     "slide_type": "fragment"
    }
   },
   "outputs": [
    {
     "data": {
      "text/plain": [
       "array([[0, 1, 1, 1, 0, 0],\n",
       "       [0, 0, 0, 0, 0, 0],\n",
       "       [1, 1, 0, 1, 1, 1],\n",
       "       [0, 0, 0, 0, 0, 0],\n",
       "       [0, 0, 0, 0, 0, 0],\n",
       "       [0, 0, 0, 0, 0, 0]], dtype=int64)"
      ]
     },
     "metadata": {},
     "output_type": "display_data"
    }
   ],
   "source": [
    "Gsm += scipy.sparse.coo_matrix(([1,1], ([2,2], [4,5])), shape=(6,6))\n",
    "display(Gsm.toarray())"
   ]
  },
  {
   "cell_type": "markdown",
   "metadata": {
    "slideshow": {
     "slide_type": "slide"
    }
   },
   "source": [
    "# With networkx"
   ]
  },
  {
   "cell_type": "code",
   "execution_count": 10,
   "metadata": {
    "slideshow": {
     "slide_type": "fragment"
    }
   },
   "outputs": [
    {
     "data": {
      "text/plain": [
       "OutEdgeDataView([('Alice', 'Bob', {'weight': 1}), ('Alice', 'Carol', {'weight': 1}), ('Alice', 'Dan', {'weight': 1}), ('Carol', 'Alice', {'weight': 1}), ('Carol', 'Bob', {'weight': 1}), ('Carol', 'Dan', {'weight': 1}), ('Carol', 'Erin', {'weight': 1}), ('Carol', 'Frank', {'weight': 1})])"
      ]
     },
     "metadata": {},
     "output_type": "display_data"
    }
   ],
   "source": [
    "import networkx as nx\n",
    "Gnx = nx.DiGraph()\n",
    "# Alice -> Bob, Carol, Dan\n",
    "Gnx.add_edge(\"Alice\", \"Bob\",   weight=1)\n",
    "Gnx.add_edge(\"Alice\", \"Carol\", weight=1)\n",
    "Gnx.add_edge(\"Alice\", \"Dan\",   weight=1)\n",
    "# Carol -> Alice, Bob, Dan\n",
    "Gnx.add_edge(\"Carol\", \"Alice\", weight=1)\n",
    "Gnx.add_edge(\"Carol\", \"Bob\",   weight=1)\n",
    "Gnx.add_edge(\"Carol\", \"Dan\",   weight=1)\n",
    "# Carol -> Erin, Frank\n",
    "Gnx.add_edge(\"Carol\", \"Erin\",  weight=1)\n",
    "Gnx.add_edge(\"Carol\", \"Frank\", weight=1)\n",
    "\n",
    "display(Gnx.edges(data=True))"
   ]
  },
  {
   "cell_type": "markdown",
   "metadata": {
    "slideshow": {
     "slide_type": "slide"
    }
   },
   "source": [
    "# Equivalence"
   ]
  },
  {
   "cell_type": "code",
   "execution_count": 11,
   "metadata": {
    "slideshow": {
     "slide_type": "skip"
    }
   },
   "outputs": [
    {
     "name": "stdout",
     "output_type": "stream",
     "text": [
      "Sparse Matrix:\n",
      "  (0, 1)\t1\n",
      "  (0, 2)\t1\n",
      "  (0, 3)\t1\n",
      "  (2, 0)\t1\n",
      "  (2, 1)\t1\n",
      "  (2, 3)\t1\n",
      "  (2, 4)\t1\n",
      "  (2, 5)\t1\n",
      "[[0 1 1 1 0 0]\n",
      " [0 0 0 0 0 0]\n",
      " [1 1 0 1 1 1]\n",
      " [0 0 0 0 0 0]\n",
      " [0 0 0 0 0 0]\n",
      " [0 0 0 0 0 0]]\n"
     ]
    }
   ],
   "source": [
    "print('Sparse Matrix:')\n",
    "print(Gsm)\n",
    "print(Gsm.toarray())"
   ]
  },
  {
   "cell_type": "markdown",
   "metadata": {
    "slideshow": {
     "slide_type": "skip"
    }
   },
   "source": [
    "# Equivalence (cont...)"
   ]
  },
  {
   "cell_type": "code",
   "execution_count": 12,
   "metadata": {
    "slideshow": {
     "slide_type": "fragment"
    }
   },
   "outputs": [
    {
     "name": "stdout",
     "output_type": "stream",
     "text": [
      "Is the numpy graph equal to the sparse matrix graph: True\n",
      "Is the numpy graph equal to the networkx graph: True\n"
     ]
    }
   ],
   "source": [
    "print(\"Is the numpy graph equal to the sparse matrix graph: {}\".format((Gnp == Gsm.toarray()).all()))\n",
    "print(\"Is the numpy graph equal to the networkx graph: {}\".format((Gnp == np.int64(nx.to_numpy_array(Gnx))).all()))"
   ]
  },
  {
   "cell_type": "markdown",
   "metadata": {
    "slideshow": {
     "slide_type": "fragment"
    }
   },
   "source": [
    "## The point is...\n",
    "There are different ways of approaching graph problems. Choose what works best for your situation."
   ]
  },
  {
   "cell_type": "markdown",
   "metadata": {
    "slideshow": {
     "slide_type": "slide"
    }
   },
   "source": [
    "# Show me something practical!\n",
    "## Hands-on with `networkx`"
   ]
  },
  {
   "cell_type": "markdown",
   "metadata": {
    "slideshow": {
     "slide_type": "slide"
    }
   },
   "source": [
    "# Enron Email Database\n",
    "- Available online.\n",
    "- Has complete text and headers of 3715057 emails.\n",
    "- I've parsed the database into a csv file.\n",
    "- Also dumped into `elasticsearch` but not used for this demo."
   ]
  },
  {
   "cell_type": "code",
   "execution_count": 13,
   "metadata": {
    "slideshow": {
     "slide_type": "fragment"
    }
   },
   "outputs": [
    {
     "name": "stdout",
     "output_type": "stream",
     "text": [
      "total edges:  3712732\n",
      "nodes:  89993 (This number squared is large!)\n",
      "sample data:\n"
     ]
    },
    {
     "data": {
      "text/html": [
       "<div>\n",
       "<style scoped>\n",
       "    .dataframe tbody tr th:only-of-type {\n",
       "        vertical-align: middle;\n",
       "    }\n",
       "\n",
       "    .dataframe tbody tr th {\n",
       "        vertical-align: top;\n",
       "    }\n",
       "\n",
       "    .dataframe thead th {\n",
       "        text-align: right;\n",
       "    }\n",
       "</style>\n",
       "<table border=\"1\" class=\"dataframe\">\n",
       "  <thead>\n",
       "    <tr style=\"text-align: right;\">\n",
       "      <th></th>\n",
       "      <th>from</th>\n",
       "      <th>to</th>\n",
       "      <th>mbox</th>\n",
       "      <th>subject</th>\n",
       "      <th>size</th>\n",
       "    </tr>\n",
       "  </thead>\n",
       "  <tbody>\n",
       "    <tr>\n",
       "      <th>0</th>\n",
       "      <td>rob_tom</td>\n",
       "      <td>calxa@aol.com</td>\n",
       "      <td>allen-p</td>\n",
       "      <td>re: history of  lime and cement</td>\n",
       "      <td>950801820</td>\n",
       "    </tr>\n",
       "    <tr>\n",
       "      <th>1</th>\n",
       "      <td>rob_tom</td>\n",
       "      <td>strawbale@crest.org</td>\n",
       "      <td>allen-p</td>\n",
       "      <td>re: history of  lime and cement</td>\n",
       "      <td>950801820</td>\n",
       "    </tr>\n",
       "    <tr>\n",
       "      <th>2</th>\n",
       "      <td>matt</td>\n",
       "      <td>strawbale@crest.org</td>\n",
       "      <td>allen-p</td>\n",
       "      <td>re: concrete stain</td>\n",
       "      <td>947291340</td>\n",
       "    </tr>\n",
       "    <tr>\n",
       "      <th>3</th>\n",
       "      <td>billc</td>\n",
       "      <td>strawbale@crest.org</td>\n",
       "      <td>allen-p</td>\n",
       "      <td>re: newsgroups</td>\n",
       "      <td>950175960</td>\n",
       "    </tr>\n",
       "    <tr>\n",
       "      <th>4</th>\n",
       "      <td>grensheltr</td>\n",
       "      <td>mccormick@elkus-manfredi.com</td>\n",
       "      <td>allen-p</td>\n",
       "      <td>re: concrete stain</td>\n",
       "      <td>947107440</td>\n",
       "    </tr>\n",
       "  </tbody>\n",
       "</table>\n",
       "</div>"
      ],
      "text/plain": [
       "         from                            to     mbox  \\\n",
       "0     rob_tom                 calxa@aol.com  allen-p   \n",
       "1     rob_tom           strawbale@crest.org  allen-p   \n",
       "2        matt           strawbale@crest.org  allen-p   \n",
       "3       billc           strawbale@crest.org  allen-p   \n",
       "4  grensheltr  mccormick@elkus-manfredi.com  allen-p   \n",
       "\n",
       "                           subject       size  \n",
       "0  re: history of  lime and cement  950801820  \n",
       "1  re: history of  lime and cement  950801820  \n",
       "2               re: concrete stain  947291340  \n",
       "3                   re: newsgroups  950175960  \n",
       "4               re: concrete stain  947107440  "
      ]
     },
     "metadata": {},
     "output_type": "display_data"
    }
   ],
   "source": [
    "# NOTE! I gzipped this csv file to be nice w/ github. I recommend\n",
    "# uncompressing it for better performance. (Or not using a csv at all!)\n",
    "df = pd.read_csv(\"./data/enronmails.csv.gz\", compression='gzip', sep=\"\\t\") # there are better ways of doing this!\n",
    "print(\"total edges: \", df.shape[0])\n",
    "print(\"nodes: \", len(pd.unique(df[['to', 'from']].values.ravel('F'))), \"(This number squared is large!)\")\n",
    "print(\"sample data:\")\n",
    "display(df.head(n=5))"
   ]
  },
  {
   "cell_type": "markdown",
   "metadata": {
    "slideshow": {
     "slide_type": "slide"
    }
   },
   "source": [
    "## Create a directed, weighted Graph\n",
    "- **to:/from:** will be the nodes.\n",
    "- An edge represents an **email** was received.\n",
    "- ~40k **self loops**, e.g. (alice -> alice). These would show up on a matrix diagonal.\n",
    "- Create a 'weight' of `1` for each email received.\n",
    "- A handful of nodes do all the work."
   ]
  },
  {
   "cell_type": "code",
   "execution_count": 14,
   "metadata": {
    "slideshow": {
     "slide_type": "-"
    }
   },
   "outputs": [
    {
     "data": {
      "image/png": "[encoded data removed]",
      "text/plain": [
       "<Figure size 432x288 with 1 Axes>"
      ]
     },
     "metadata": {
      "needs_background": "light"
     },
     "output_type": "display_data"
    }
   ],
   "source": [
    "# df_all is the complete network. Create edge weights in pandas.\n",
    "df_all = df.groupby(['from','to'], as_index=False).size().reset_index().rename(columns={0:'weight'})\n",
    "G = nx.from_pandas_edgelist(df_all, 'to', 'from', ['weight'])\n",
    "# multiple ways of finding the most 'connected' nodes\n",
    "# use 'pagerank'...\n",
    "pr = sorted(nx.pagerank_scipy(G, weight='weight').values(), key=lambda v: -v)\n",
    "plt.plot(pr)\n",
    "plt.title(\"Enron\")\n",
    "plt.ylabel(\"pagerank\")\n",
    "del df_all"
   ]
  },
  {
   "cell_type": "markdown",
   "metadata": {
    "slideshow": {
     "slide_type": "-"
    }
   },
   "source": [
    "The point is: typically only a few nodes do all the heavy lifting and the rest take up space."
   ]
  },
  {
   "cell_type": "markdown",
   "metadata": {
    "slideshow": {
     "slide_type": "slide"
    }
   },
   "source": [
    "# Find the graph of something interesting\n",
    "- Search for \"California\" in the *'subject:'* line.  \n",
    "> \"For most popular subjects, a simple text matching search that is restricted to web page titles performs admirably when PageRank prioritizes the results.\"  \n",
    "> – *Sergey Brin and Lawrence Page*, Stanford University\n",
    "- Warning - lots of code about to come at you.\n",
    "- Remember - much of the heavy lifting is done by only a few nodes\n",
    "- Interesting things happen when you combine graphs/searches."
   ]
  },
  {
   "cell_type": "code",
   "execution_count": 15,
   "metadata": {
    "slideshow": {
     "slide_type": "slide"
    }
   },
   "outputs": [],
   "source": [
    "import community\n",
    "# Create a df of just the 'california' rows (elasticsearch is your friend!)\n",
    "df_cal = df[df.subject.str.contains(r'california', case=False)]\n",
    "df_cal = df_cal.groupby(['from','to'], as_index=False).size().reset_index().rename(columns={0:'weight'})\n",
    "G = nx.from_pandas_edgelist(df_cal, 'to', 'from', ['weight'])\n",
    "\n",
    "# Create a 'pagerank' dict and delete all but the 5% most relevant nodes.\n",
    "pagerank = nx.pagerank_scipy(G, weight='weight')\n",
    "eicentrality = nx.eigenvector_centrality_numpy(G)\n",
    "smalls = heapq.nsmallest(round(len(pagerank)*0.95), pagerank, key=pagerank.get)\n",
    "for k in smalls:\n",
    "    pagerank.pop(k, None)  # Trim the pagerank/eigenvector lists\n",
    "    eicentrality.pop(k, None)\n",
    "    G.remove_node(k)        # remove nodes (and edges) from graph\n",
    "# This can lead to nodes no longer connected to the main graph. Keep only largest graph.\n",
    "G = list(nx.connected_component_subgraphs(G))[0]\n",
    "\n",
    "# Louvain algorithm^H heuristic for community detection\n",
    "communities = community.best_partition(G)\n",
    "\n",
    "# dict of dicts: attributes for each node. Node size ~ 'pagerank', color on 'community'\n",
    "attrs = {k:{'pr':v} for k,v in pagerank.items()}\n",
    "updt(attrs, 'community', communities)\n",
    "updt(attrs, 'ei', eicentrality)\n",
    "updt(attrs, 'color', {k:color(v, max(communities.values())) for k,v in communities.items()})\n",
    "updt(attrs, 'size',   dict(zip(pagerank.keys(), minmax_scale(list(pagerank.values()),feature_range=(min_s,max_s)))))\n",
    "updt(attrs, 'radius', dict(zip(pagerank.keys(), minmax_scale(list(pagerank.values()),feature_range=(min_r,max_r)))))\n",
    "nx.set_node_attributes(G, attrs)"
   ]
  },
  {
   "cell_type": "code",
   "execution_count": 16,
   "metadata": {
    "slideshow": {
     "slide_type": "skip"
    }
   },
   "outputs": [],
   "source": [
    "del attrs, pagerank, communities, smalls, df_cal, eicentrality"
   ]
  },
  {
   "cell_type": "markdown",
   "metadata": {
    "slideshow": {
     "slide_type": "slide"
    }
   },
   "source": [
    "# Using `matplotlib`"
   ]
  },
  {
   "cell_type": "code",
   "execution_count": 17,
   "metadata": {
    "slideshow": {
     "slide_type": "-"
    }
   },
   "outputs": [
    {
     "data": {
      "image/png": "[encoded data removed]",
      "text/plain": [
       "<Figure size 1008x576 with 2 Axes>"
      ]
     },
     "metadata": {},
     "output_type": "display_data"
    }
   ],
   "source": [
    "_=plt2x2(G, 'include/images/agaig.jpg' )"
   ]
  },
  {
   "cell_type": "markdown",
   "metadata": {
    "slideshow": {
     "slide_type": "slide"
    }
   },
   "source": [
    "# Using `plotly`\n"
   ]
  },
  {
   "cell_type": "code",
   "execution_count": 18,
   "metadata": {
    "slideshow": {
     "slide_type": "skip"
    }
   },
   "outputs": [],
   "source": [
    "import plotly.plotly as py\n",
    "import plotly.graph_objs as go"
   ]
  },
  {
   "cell_type": "code",
   "execution_count": 19,
   "metadata": {
    "slideshow": {
     "slide_type": "skip"
    }
   },
   "outputs": [],
   "source": [
    "pos = nx.kamada_kawai_layout(G)\n",
    "edge_trace = go.Scatter(\n",
    "    x=[],\n",
    "    y=[],\n",
    "    line=dict(width=0.5,color='#888'),\n",
    "    hoverinfo='none',\n",
    "    mode='lines')\n",
    "\n",
    "for edge in G.edges():\n",
    "    x0, y0 = pos[edge[0]]\n",
    "    x1, y1 = pos[edge[1]]\n",
    "    edge_trace['x'] += tuple([x0, x1, None])\n",
    "    edge_trace['y'] += tuple([y0, y1, None])"
   ]
  },
  {
   "cell_type": "code",
   "execution_count": 20,
   "metadata": {
    "slideshow": {
     "slide_type": "skip"
    }
   },
   "outputs": [],
   "source": [
    "node_trace = go.Scatter(\n",
    "    x=[],\n",
    "    y=[],\n",
    "    text=[],\n",
    "    mode='markers',\n",
    "    hoverinfo='text',\n",
    "    marker=dict(\n",
    "         color=[],\n",
    "         size=[]\n",
    "    )\n",
    ")\n",
    "\n",
    "def htext(node):\n",
    "    ret  = '<b>' + node + '</b><br>'\n",
    "    ret += '  pagerank: ' + str(G.nodes()[node]['pr']) + '<br>'\n",
    "    ret += 'eigen_cent: ' + str(G.nodes()[node]['ei']) + '<br>'\n",
    "    ret += ' community: ' + str(G.nodes()[node]['community'])\n",
    "    return ret\n",
    "\n",
    "for node in G.nodes():\n",
    "    #print(node)\n",
    "    x, y = pos[node]\n",
    "    node_trace['x'] += tuple([x])\n",
    "    node_trace['y'] += tuple([y])\n",
    "    node_trace['marker']['color'] += tuple([G.nodes()[node]['color']])\n",
    "    node_trace['marker']['size']  += tuple([2*G.nodes()[node]['radius']])\n",
    "    node_trace['text'] += tuple([htext(node)])"
   ]
  },
  {
   "cell_type": "code",
   "execution_count": 21,
   "metadata": {
    "slideshow": {
     "slide_type": "skip"
    }
   },
   "outputs": [],
   "source": [
    "fig = go.Figure(data=[edge_trace, node_trace],\n",
    "             layout=go.Layout(\n",
    "                title='Network graph made with Python/plotly',\n",
    "                titlefont=dict(size=16),\n",
    "                showlegend=False,\n",
    "                hovermode='closest',\n",
    "                margin=dict(b=20,l=5,r=5,t=40),\n",
    "                annotations=[ dict(\n",
    "                    showarrow=False,\n",
    "                    xref=\"paper\", yref=\"paper\",\n",
    "                    x=0.005, y=-0.002 ) ],\n",
    "                xaxis=dict(showgrid=False, zeroline=False, showticklabels=False),\n",
    "                yaxis=dict(showgrid=False, zeroline=False, showticklabels=False)))"
   ]
  },
  {
   "cell_type": "code",
   "execution_count": 22,
   "metadata": {
    "slideshow": {
     "slide_type": "-"
    }
   },
   "outputs": [
    {
     "name": "stderr",
     "output_type": "stream",
     "text": [
      "/Users/kjolley/anaconda3/lib/python3.6/site-packages/IPython/core/display.py:689: UserWarning:\n",
      "\n",
      "Consider using IPython.display.IFrame instead\n",
      "\n"
     ]
    },
    {
     "data": {
      "text/html": [
       "<iframe id=\"igraph\" scrolling=\"no\" style=\"border:none;\" seamless=\"seamless\" src=\"https://plot.ly/~keithpjolley/33.embed\" height=\"525px\" width=\"100%\"></iframe>"
      ],
      "text/plain": [
       "<plotly.tools.PlotlyDisplay object>"
      ]
     },
     "execution_count": 22,
     "metadata": {},
     "output_type": "execute_result"
    }
   ],
   "source": [
    "py.iplot(fig, filename='networkx')"
   ]
  },
  {
   "cell_type": "markdown",
   "metadata": {
    "slideshow": {
     "slide_type": "slide"
    }
   },
   "source": [
    "# Using `d3`\n"
   ]
  },
  {
   "cell_type": "code",
   "execution_count": 23,
   "metadata": {
    "slideshow": {
     "slide_type": "slide"
    }
   },
   "outputs": [
    {
     "data": {
      "text/html": [
       "<div id='d3target'></div>"
      ],
      "text/plain": [
       "<IPython.core.display.HTML object>"
      ]
     },
     "execution_count": 23,
     "metadata": {},
     "output_type": "execute_result"
    }
   ],
   "source": [
    "HTML(\"<div id='d3target'></div>\")"
   ]
  },
  {
   "cell_type": "markdown",
   "metadata": {},
   "source": [
    "# Take-aways\n",
    "\n",
    "- Graph operations show up in quite a few areas.\n",
    "- Python has a number of tools to help you out.\n",
    "- As your graph grows you need to be more judicious in your tool selection.\n",
    "- Visualizing large graphs is difficult. Judiciously edit.\n",
    "- Graphs are a dessert topping and a floor wax."
   ]
  },
  {
   "cell_type": "markdown",
   "metadata": {
    "slideshow": {
     "slide_type": "slide"
    }
   },
   "source": [
    "# Fin"
   ]
  },
  {
   "cell_type": "code",
   "execution_count": 24,
   "metadata": {
    "slideshow": {
     "slide_type": "skip"
    }
   },
   "outputs": [
    {
     "data": {
      "application/javascript": [
       "// First undefine 'd3draw' so we can easily reload this file.\n",
       "\n",
       "//console.log(\"at the tone, the time will be: \" + Date.now());\n",
       "\n",
       "require.undef('d3draw');\n",
       "define('d3draw', ['d3'], function (d3) {\n",
       "  // this is just odd. javascript, why you do this to me?\n",
       "  function drawgraph(container, graph, width=300, height=300) {\n",
       "///////////////////////////////////////////////////////////\n",
       "// boilerplate in here\n",
       "///////////////////////////////////////////////////////////\n",
       "\n",
       "    var linkWidth = d3.scaleLinear()\n",
       "      .domain(d3.extent(graph.links.map(function(d){return d.weight;})))\n",
       "      .range([0.5, 3]);\n",
       "\n",
       "    var svg = d3.select(container).select(\"svg\")\n",
       "    if (svg.empty()) {\n",
       "        svg = d3.select(container).append(\"svg\")\n",
       "          .attr(\"width\", width)\n",
       "          .attr(\"height\", height);\n",
       "    }\n",
       "\n",
       "    var simulation = d3.forceSimulation()\n",
       "        .force(\"center\",  d3.forceCenter(width/2, height/2))\n",
       "        .force(\"collide\", d3.forceCollide()\n",
       "              .radius(function(d){return d.radius+2})\n",
       "        )\n",
       "        .force(\"link\",    d3.forceLink()\n",
       "              .id(function(d){return d.id;})\n",
       "              .distance(function(d){\n",
       "                  var dist = 30\n",
       "                  if(d.source.radius + d.target.radius > 0) {\n",
       "                      // guarding against something that happened once. fishy.\n",
       "                      dist = 2.5*(d.source.radius+d.target.radius)\n",
       "                  }\n",
       "                  if(d.source.community != d.target.community) {\n",
       "                      dist *= 3\n",
       "                  }\n",
       "                  if(isNaN(dist)) {\n",
       "                      return 30\n",
       "                  } // more fish\n",
       "                  return dist;\n",
       "              })\n",
       "        )\n",
       "        .force(\"charge\",  d3.forceManyBody()\n",
       "              .strength(-10)\n",
       "        );\n",
       "\n",
       "    var link = svg.append(\"g\")\n",
       "      .attr(\"class\", \"links\")\n",
       "      .selectAll(\"line\")\n",
       "      .data(graph.links)\n",
       "      .enter().append(\"line\")\n",
       "        .attr(\"stroke-width\", function(d) { return linkWidth(d.weight); });\n",
       "\n",
       "    var node = svg.append(\"g\")\n",
       "      .attr(\"class\", \"nodes\")\n",
       "      .selectAll(\"g\")\n",
       "      .data(graph.nodes)\n",
       "      .enter().append(\"g\")\n",
       "    \n",
       "    var circles = node.append(\"circle\")\n",
       "      .attr(\"r\", function(d) {    return d.radius; })\n",
       "      .attr(\"fill\", function(d) { return d.color;  })\n",
       "      .attr(\"stroke\", function(d) { return d3.rgb(d.color).darker();  })\n",
       "      .call(d3.drag()\n",
       "          .on(\"start\", dragstarted)\n",
       "          .on(\"drag\", dragged)\n",
       "          .on(\"end\", dragended));\n",
       "\n",
       "    node.append(\"title\")\n",
       "      .html(function(d) { return(\n",
       "            \"<strong>id: \"+d.id+\"</strong>\"+\n",
       "            \"<br>pr: \"+d.pr+\n",
       "            \"<br>ei: \"+d.ei+\n",
       "            \"<br>community: \"+d.community)\n",
       "      });\n",
       "\n",
       "    simulation\n",
       "      .nodes(graph.nodes)\n",
       "      .on(\"tick\", ticked);\n",
       "\n",
       "    simulation.force(\"link\")\n",
       "      .links(graph.links);\n",
       "\n",
       "    function ticked() {\n",
       "      link\n",
       "        .attr(\"x1\", function(d) { return d.source.x; })\n",
       "        .attr(\"y1\", function(d) { return d.source.y; })\n",
       "        .attr(\"x2\", function(d) { return d.target.x; })\n",
       "        .attr(\"y2\", function(d) { return d.target.y; });\n",
       "\n",
       "      node\n",
       "        .attr(\"transform\", function(d) {\n",
       "          return \"translate(\" + d.x + \",\" + d.y + \")\";\n",
       "        })\n",
       "  }\n",
       "\n",
       "    function dragstarted(d) {\n",
       "      if (!d3.event.active) simulation.alphaTarget(0.3).restart();\n",
       "      d.fx = d.x;\n",
       "      d.fy = d.y;\n",
       "    }\n",
       "\n",
       "    function dragged(d) {\n",
       "      d.fx = d3.event.x;\n",
       "      d.fy = d3.event.y;\n",
       "    }\n",
       "\n",
       "    function dragended(d) {\n",
       "      if (!d3.event.active) simulation.alphaTarget(0);\n",
       "      d.fx = null;\n",
       "      d.fy = null;\n",
       "    }\n",
       "\n",
       "\n",
       "\n",
       "///////////////////////////////////////////////////////////\n",
       "// boilerplate in here\n",
       "///////////////////////////////////////////////////////////\n",
       "  } // function draw()\n",
       "  return drawgraph;\n",
       "});\n",
       "\n"
      ],
      "text/plain": [
       "<IPython.core.display.Javascript object>"
      ]
     },
     "metadata": {},
     "output_type": "display_data"
    },
    {
     "data": {
      "application/javascript": [
       "(function(element){\n",
       "    require(['d3draw'], function(drawgraph) {          \n",
       "      drawgraph(\"#d3target\", {\"directed\": false, \"multigraph\": false, \"graph\": {}, \"nodes\": [{\"pr\": 0.0029928263241351515, \"community\": 0, \"ei\": 0.006606559386894859, \"color\": \"#ff0000\", \"size\": 129.4955596227857, \"radius\": 6.688229724531666, \"id\": \"abb\"}, {\"pr\": 0.04292530844932894, \"community\": 1, \"ei\": 0.25218999210915943, \"color\": \"#cbff00\", \"size\": 700.0, \"radius\": 20.0, \"id\": \"jeff.dasovich\"}, {\"pr\": 0.0010105366003329073, \"community\": 0, \"ei\": 0.007397329550396981, \"color\": \"#ff0000\", \"size\": 101.1751290019753, \"radius\": 6.027419676712757, \"id\": \"smara\"}, {\"pr\": 0.023911421648319654, \"community\": 2, \"ei\": 0.18622568208055232, \"color\": \"#00ff66\", \"size\": 428.35380443426766, \"radius\": 13.661588770132912, \"id\": \"ginger.dernehl\"}, {\"pr\": 0.0033711306687850733, \"community\": 1, \"ei\": 0.15181863393802092, \"color\": \"#cbff00\", \"size\": 134.90029023182058, \"radius\": 6.814340105409147, \"id\": \"harry.kingerski\"}, {\"pr\": 0.009298056127559977, \"community\": 1, \"ei\": 0.17938863383767312, \"color\": \"#cbff00\", \"size\": 219.57665173158625, \"radius\": 8.790121873737013, \"id\": \"james.steffes\"}, {\"pr\": 0.005843558766522089, \"community\": 1, \"ei\": 0.1179376143874316, \"color\": \"#cbff00\", \"size\": 170.22319362285316, \"radius\": 7.638541184533241, \"id\": \"janel.guerrero\"}, {\"pr\": 0.0027146707194037685, \"community\": 2, \"ei\": 0.1304499423978958, \"color\": \"#00ff66\", \"size\": 125.5216266446765, \"radius\": 6.595504621709119, \"id\": \"karen.denne\"}, {\"pr\": 0.001421206790265075, \"community\": 2, \"ei\": 0.08422021448401418, \"color\": \"#00ff66\", \"size\": 107.0422615822223, \"radius\": 6.164319436918521, \"id\": \"leslie.lawner\"}, {\"pr\": 0.0018460661047140434, \"community\": 2, \"ei\": 0.09588755325308382, \"color\": \"#00ff66\", \"size\": 113.11211030008683, \"radius\": 6.30594924033536, \"id\": \"mark.palmer\"}, {\"pr\": 0.000994370600684676, \"community\": 0, \"ei\": 0.03634015309881635, \"color\": \"#ff0000\", \"size\": 100.94416979053591, \"radius\": 6.022030628445838, \"id\": \"mday@gmssr.com\"}, {\"pr\": 0.002499271795255127, \"community\": 2, \"ei\": 0.11273657742751646, \"color\": \"#00ff66\", \"size\": 122.4442811820526, \"radius\": 6.523699894247894, \"id\": \"paul.kaufman\"}, {\"pr\": 0.005095295890103266, \"community\": 3, \"ei\": 0.15578554112664839, \"color\": \"#0066ff\", \"size\": 159.53296674870057, \"radius\": 7.3891025574696805, \"id\": \"richard.shapiro\"}, {\"pr\": 0.001994137715627374, \"community\": 2, \"ei\": 0.10527225004568783, \"color\": \"#00ff66\", \"size\": 115.227568869755, \"radius\": 6.355309940294283, \"id\": \"sandra.mccubbin\"}, {\"pr\": 0.0022624786012271614, \"community\": 1, \"ei\": 0.03351010478979755, \"color\": \"#cbff00\", \"size\": 119.0612816424666, \"radius\": 6.444763238324221, \"id\": \"skean\"}, {\"pr\": 0.0045039295230688125, \"community\": 0, \"ei\": 0.0010752590968047793, \"color\": \"#ff0000\", \"size\": 151.08427735280543, \"radius\": 7.191966471565459, \"id\": \"afm\"}, {\"pr\": 0.0011459029481288435, \"community\": 4, \"ei\": 0.0012146576448464328, \"color\": \"#cc00ff\", \"size\": 103.10907095562372, \"radius\": 6.0725449889645535, \"id\": \"kimberly.watson\"}, {\"pr\": 0.012967029882418706, \"community\": 1, \"ei\": 0.2005317126224354, \"color\": \"#cbff00\", \"size\": 271.99427536469784, \"radius\": 10.013199758509618, \"id\": \"alan.comnes\"}, {\"pr\": 0.005202920748690839, \"community\": 2, \"ei\": 0.1352229311446681, \"color\": \"#00ff66\", \"size\": 161.0705736404205, \"radius\": 7.424980051609811, \"id\": \"bernadette.hawkins\"}, {\"pr\": 0.0012823417201808006, \"community\": 3, \"ei\": 0.00921794953567331, \"color\": \"#0066ff\", \"size\": 105.05833434103563, \"radius\": 6.118027801290832, \"id\": \"bill.williams\"}, {\"pr\": 0.002634452853339741, \"community\": 1, \"ei\": 0.05934447958975518, \"color\": \"#cbff00\", \"size\": 124.3755759523195, \"radius\": 6.568763438887455, \"id\": \"carol.moffett\"}, {\"pr\": 0.0009947895326346923, \"community\": 1, \"ei\": 0.035758595345178966, \"color\": \"#cbff00\", \"size\": 100.95015495662076, \"radius\": 6.022170282321151, \"id\": \"chris.foster\"}, {\"pr\": 0.0016061829724612676, \"community\": 3, \"ei\": 0.06794699458923559, \"color\": \"#0066ff\", \"size\": 109.68496565897121, \"radius\": 6.225982532042662, \"id\": \"christian.yoder\"}, {\"pr\": 0.0012790313194496808, \"community\": 1, \"ei\": 0.07001913174513807, \"color\": \"#cbff00\", \"size\": 105.01103955203126, \"radius\": 6.116924256214063, \"id\": \"christopher.calger\"}, {\"pr\": 0.001133409782796158, \"community\": 1, \"ei\": 0.06059949341390109, \"color\": \"#cbff00\", \"size\": 102.93058452259112, \"radius\": 6.068380305527127, \"id\": \"d..steffes\"}, {\"pr\": 0.0015683873305778972, \"community\": 1, \"ei\": 0.0788179387552372, \"color\": \"#cbff00\", \"size\": 109.14498967015669, \"radius\": 6.213383092303657, \"id\": \"dan.leff\"}, {\"pr\": 0.0010612303045012096, \"community\": 1, \"ei\": 0.054557042022475154, \"color\": \"#cbff00\", \"size\": 101.89937607573631, \"radius\": 6.044318775100514, \"id\": \"david.parquet\"}, {\"pr\": 0.001019334137775495, \"community\": 1, \"ei\": 0.05891144551047058, \"color\": \"#cbff00\", \"size\": 101.30081701104135, \"radius\": 6.0303523969242985, \"id\": \"dennis.benevides\"}, {\"pr\": 0.0016305855056380086, \"community\": 1, \"ei\": 0.07007924625016589, \"color\": \"#cbff00\", \"size\": 110.03359797013425, \"radius\": 6.234117285969799, \"id\": \"don.black\"}, {\"pr\": 0.001674340384760726, \"community\": 2, \"ei\": 0.07788252517455535, \"color\": \"#00ff66\", \"size\": 110.65871195001203, \"radius\": 6.248703278833615, \"id\": \"donna.fulton\"}, {\"pr\": 0.0009595234999286192, \"community\": 1, \"ei\": 0.019343572848472868, \"color\": \"#cbff00\", \"size\": 100.44631880162731, \"radius\": 6.010414105371304, \"id\": \"e-mail\"}, {\"pr\": 0.0011564838022741968, \"community\": 0, \"ei\": 0.05257198375789516, \"color\": \"#ff0000\", \"size\": 103.26023672222902, \"radius\": 6.076072190185344, \"id\": \"greg.whalley\"}, {\"pr\": 0.0017872635121420374, \"community\": 2, \"ei\": 0.08871601154539852, \"color\": \"#00ff66\", \"size\": 112.27201375755669, \"radius\": 6.286346987676323, \"id\": \"joe.hartsoe\"}, {\"pr\": 0.0020824230256290487, \"community\": 3, \"ei\": 0.07705608688332802, \"color\": \"#0066ff\", \"size\": 116.48887692514025, \"radius\": 6.384740461586606, \"id\": \"john.lavorato\"}, {\"pr\": 0.0057553602964684, \"community\": 2, \"ei\": 0.17414013700730327, \"color\": \"#00ff66\", \"size\": 168.96312622603187, \"radius\": 7.609139611940744, \"id\": \"joseph.alamo\"}, {\"pr\": 0.004569612828749154, \"community\": 1, \"ei\": 0.07312778994354009, \"color\": \"#cbff00\", \"size\": 152.02267675987974, \"radius\": 7.213862457730528, \"id\": \"leticia.botello\"}, {\"pr\": 0.0019131488106681452, \"community\": 2, \"ei\": 0.09098521289273802, \"color\": \"#00ff66\", \"size\": 114.07050255577856, \"radius\": 6.3283117263015, \"id\": \"linda.robertson\"}, {\"pr\": 0.0014305385407330617, \"community\": 3, \"ei\": 0.04781890459947089, \"color\": \"#0066ff\", \"size\": 107.17558174653836, \"radius\": 6.167430240752561, \"id\": \"louise.kitchen\"}, {\"pr\": 0.001317279392872568, \"community\": 1, \"ei\": 0.06847886679347694, \"color\": \"#cbff00\", \"size\": 105.55747930639515, \"radius\": 6.12967451714922, \"id\": \"marty.sunde\"}, {\"pr\": 0.006889149435916758, \"community\": 0, \"ei\": 0.1577281932225996, \"color\": \"#ff0000\", \"size\": 185.16126128006738, \"radius\": 7.987096096534906, \"id\": \"mary.hain\"}, {\"pr\": 0.001373042037530623, \"community\": 0, \"ei\": 0.11416400433652829, \"color\": \"#ff0000\", \"size\": 106.35414494528179, \"radius\": 6.148263382056575, \"id\": \"michael.tribolet\"}, {\"pr\": 0.0014891598588370023, \"community\": 3, \"ei\": 0.052677558415353626, \"color\": \"#0066ff\", \"size\": 108.01308847036816, \"radius\": 6.18697206430859, \"id\": \"mike.grigsby\"}, {\"pr\": 0.0010079362774311827, \"community\": 1, \"ei\": 0.07057525740780093, \"color\": \"#cbff00\", \"size\": 101.13797890053164, \"radius\": 6.026552841012405, \"id\": \"mike.smith\"}, {\"pr\": 0.0022359012471706236, \"community\": 2, \"ei\": 0.020595416127215212, \"color\": \"#00ff66\", \"size\": 118.68157826076356, \"radius\": 6.43590349275115, \"id\": \"mollie.gustafson\"}, {\"pr\": 0.0011451579192765262, \"community\": 1, \"ei\": 0.030377611180176824, \"color\": \"#cbff00\", \"size\": 103.09842693236658, \"radius\": 6.072296628421887, \"id\": \"mpalmer\"}, {\"pr\": 0.0009540026744724244, \"community\": 2, \"ei\": 0.04724674425781709, \"color\": \"#00ff66\", \"size\": 100.36744427969221, \"radius\": 6.008573699859485, \"id\": \"peggy.mahoney\"}, {\"pr\": 0.0019403972261383788, \"community\": 3, \"ei\": 0.07669195977295418, \"color\": \"#0066ff\", \"size\": 114.45979320819217, \"radius\": 6.337395174857817, \"id\": \"phillip.allen\"}, {\"pr\": 0.0012576565577098167, \"community\": 2, \"ei\": 0.08022374814665183, \"color\": \"#00ff66\", \"size\": 104.70566418251714, \"radius\": 6.1097988309254, \"id\": \"ray.alvarez\"}, {\"pr\": 0.002531086572969845, \"community\": 2, \"ei\": 0.07708024656146942, \"color\": \"#00ff66\", \"size\": 122.89881020178538, \"radius\": 6.5343055713749925, \"id\": \"rebecca.cantrell\"}, {\"pr\": 0.0024831309101086426, \"community\": 0, \"ei\": 0.11993601461864661, \"color\": \"#ff0000\", \"size\": 122.21368077462444, \"radius\": 6.518319218074571, \"id\": \"richard.sanders\"}, {\"pr\": 0.0012111914488620932, \"community\": 1, \"ei\": 0.06345982128741531, \"color\": \"#cbff00\", \"size\": 104.04182989249908, \"radius\": 6.094309364158312, \"id\": \"robert.badeer\"}, {\"pr\": 0.0016262494536448458, \"community\": 1, \"ei\": 0.0865263042530873, \"color\": \"#cbff00\", \"size\": 109.97164998232697, \"radius\": 6.232671832920963, \"id\": \"robert.frank\"}, {\"pr\": 0.0009676431021906042, \"community\": 1, \"ei\": 0.05607104333958974, \"color\": \"#cbff00\", \"size\": 100.56232133635672, \"radius\": 6.013120831181657, \"id\": \"robert.williams\"}, {\"pr\": 0.0009439006872121402, \"community\": 2, \"ei\": 0.06298316023172892, \"color\": \"#00ff66\", \"size\": 100.22311995318132, \"radius\": 6.005206132240898, \"id\": \"roger.yang\"}, {\"pr\": 0.0016981501484060663, \"community\": 2, \"ei\": 0.1018790502632591, \"color\": \"#00ff66\", \"size\": 110.998875525154, \"radius\": 6.25664042892026, \"id\": \"sarah.novosel\"}, {\"pr\": 0.0011952339602272221, \"community\": 3, \"ei\": 0.0876738767876835, \"color\": \"#0066ff\", \"size\": 103.81384962082647, \"radius\": 6.088989824485951, \"id\": \"steve.hall\"}, {\"pr\": 0.008089725929192325, \"community\": 2, \"ei\": 0.15701989201448147, \"color\": \"#00ff66\", \"size\": 202.31356897481209, \"radius\": 8.38731660941228, \"id\": \"steven.kean\"}, {\"pr\": 0.013096629591711244, \"community\": 1, \"ei\": 0.20234943206596517, \"color\": \"#cbff00\", \"size\": 273.8458309326985, \"radius\": 10.056402721762966, \"id\": \"susan.mara\"}, {\"pr\": 0.004604237376439864, \"community\": 3, \"ei\": 0.11544066147164402, \"color\": \"#0066ff\", \"size\": 152.51734819406892, \"radius\": 7.225404791194942, \"id\": \"tim.belden\"}, {\"pr\": 0.0011337766871831775, \"community\": 2, \"ei\": 0.0586239271824608, \"color\": \"#00ff66\", \"size\": 102.93582638512629, \"radius\": 6.068502615652947, \"id\": \"tom.briggs\"}, {\"pr\": 0.0012899344865330055, \"community\": 3, \"ei\": 0.034788879624810164, \"color\": \"#0066ff\", \"size\": 105.16681011534637, \"radius\": 6.120558902691415, \"id\": \"tracy.ngo\"}, {\"pr\": 0.0014703199466824975, \"community\": 0, \"ei\": 0.15061052259987442, \"color\": \"#ff0000\", \"size\": 107.74392780295048, \"radius\": 6.180691648735511, \"id\": \"vicki.sharp\"}, {\"pr\": 0.0010050790584630067, \"community\": 1, \"ei\": 0.07985355890434251, \"color\": \"#cbff00\", \"size\": 101.09715859531333, \"radius\": 6.025600367223978, \"id\": \"wanda.curry\"}, {\"pr\": 0.0015478725244383715, \"community\": 1, \"ei\": 0.07118364181572942, \"color\": \"#cbff00\", \"size\": 108.85190025088683, \"radius\": 6.206544339187359, \"id\": \"william.bradford\"}, {\"pr\": 0.017107584805914934, \"community\": 3, \"ei\": 0.08307609875096282, \"color\": \"#0066ff\", \"size\": 331.14925005609075, \"radius\": 11.393482501308783, \"id\": \"kristin.walsh\"}, {\"pr\": 0.0009543750837458782, \"community\": 2, \"ei\": 0.058529954754517624, \"color\": \"#00ff66\", \"size\": 100.37276478903287, \"radius\": 6.0086978450774335, \"id\": \"mona.petrochko\"}, {\"pr\": 0.0050874442289009685, \"community\": 1, \"ei\": 0.006955694732570704, \"color\": \"#cbff00\", \"size\": 159.4207922145405, \"radius\": 7.386485151672613, \"id\": \"andybrwn\"}, {\"pr\": 0.002520489946812088, \"community\": 0, \"ei\": 0.016027526251912044, \"color\": \"#ff0000\", \"size\": 122.74741910475655, \"radius\": 6.53077311244432, \"id\": \"jdasovic\"}, {\"pr\": 0.0015335964144253418, \"community\": 1, \"ei\": 0.07596022492327383, \"color\": \"#cbff00\", \"size\": 108.64794137529745, \"radius\": 6.201785298756941, \"id\": \"david.delainey\"}, {\"pr\": 0.006787621171394458, \"community\": 0, \"ei\": 0.07588900449197238, \"color\": \"#ff0000\", \"size\": 183.71075475878052, \"radius\": 7.953250944371546, \"id\": \"janette.elbertson\"}, {\"pr\": 0.00096088162995879, \"community\": 2, \"ei\": 0.021286342599310407, \"color\": \"#00ff66\", \"size\": 100.46572203357249, \"radius\": 6.010866847450025, \"id\": \"kathryn.sheppard\"}, {\"pr\": 0.0010508925962530763, \"community\": 0, \"ei\": 0.0660083167311052, \"color\": \"#ff0000\", \"size\": 101.75168406800199, \"radius\": 6.04087262825338, \"id\": \"mark.haedicke\"}, {\"pr\": 0.012704195314779159, \"community\": 2, \"ei\": 0.14217523525186293, \"color\": \"#00ff66\", \"size\": 268.2392298492982, \"radius\": 9.925582029816958, \"id\": \"maureen.mcvicker\"}, {\"pr\": 0.0031507523334965994, \"community\": 3, \"ei\": 0.0770274553442089, \"color\": \"#0066ff\", \"size\": 131.75180528538417, \"radius\": 6.740875456658964, \"id\": \"robert.johnston\"}, {\"pr\": 0.0018772479917749845, \"community\": 2, \"ei\": 0.05843202890313722, \"color\": \"#00ff66\", \"size\": 113.55759738430652, \"radius\": 6.316343938967153, \"id\": \"shelley.corman\"}, {\"pr\": 0.002652770551694763, \"community\": 3, \"ei\": 0.09201858368131086, \"color\": \"#0066ff\", \"size\": 124.63727589414297, \"radius\": 6.574869770863336, \"id\": \"twanda.sweet\"}, {\"pr\": 0.0012203398534569067, \"community\": 2, \"ei\": 0.0012737927499454763, \"color\": \"#00ff66\", \"size\": 104.17253064451708, \"radius\": 6.097359048372065, \"id\": \"rod.hayslett\"}, {\"pr\": 0.005392565722062511, \"community\": 3, \"ei\": 0.05919743830126821, \"color\": \"#0066ff\", \"size\": 163.77997945858516, \"radius\": 7.48819952070032, \"id\": \"britt.whitman\"}, {\"pr\": 0.000964501823039042, \"community\": 3, \"ei\": 0.01574869803902322, \"color\": \"#0066ff\", \"size\": 100.51744274106149, \"radius\": 6.012073663958102, \"id\": \"lloyd.will\"}, {\"pr\": 0.0011185543382338712, \"community\": 3, \"ei\": 0.01492688179305661, \"color\": \"#0066ff\", \"size\": 102.71834885289266, \"radius\": 6.063428139900829, \"id\": \"scott.tholan\"}, {\"pr\": 0.0009849232013096549, \"community\": 3, \"ei\": 0.015663372045944476, \"color\": \"#0066ff\", \"size\": 100.8091973819446, \"radius\": 6.018881272245374, \"id\": \"vince.kaminski\"}, {\"pr\": 0.0013429394141396028, \"community\": 1, \"ei\": 0.043720109110026974, \"color\": \"#cbff00\", \"size\": 105.92407700565965, \"radius\": 6.138228463465392, \"id\": \"cantrell\"}, {\"pr\": 0.007578038926862479, \"community\": 2, \"ei\": 0.046641392573090815, \"color\": \"#00ff66\", \"size\": 195.00323684976973, \"radius\": 8.216742193161295, \"id\": \"darran.binns\"}, {\"pr\": 0.009859010403012578, \"community\": 2, \"ei\": 0.04415487296264436, \"color\": \"#00ff66\", \"size\": 227.5908519005355, \"radius\": 8.977119877679161, \"id\": \"janet.butler\"}, {\"pr\": 0.0010685174530030359, \"community\": 2, \"ei\": 0.05822701254487567, \"color\": \"#00ff66\", \"size\": 102.00348557148331, \"radius\": 6.046747996667944, \"id\": \"john.shelk\"}, {\"pr\": 0.0011851922838455498, \"community\": 2, \"ei\": 0.0683007341858788, \"color\": \"#00ff66\", \"size\": 103.67038693932788, \"radius\": 6.0856423619176505, \"id\": \"rob.bradley\"}, {\"pr\": 0.0015394750362171157, \"community\": 2, \"ei\": 0.12542687629242147, \"color\": \"#00ff66\", \"size\": 108.73192763553018, \"radius\": 6.203744978162371, \"id\": \"robert.neustaedter\"}, {\"pr\": 0.0020361829887258725, \"community\": 2, \"ei\": 0.0016952714564555625, \"color\": \"#00ff66\", \"size\": 115.82825817637921, \"radius\": 6.369326024115515, \"id\": \"elizabeth.brown\"}, {\"pr\": 0.0010128522002744512, \"community\": 2, \"ei\": 0.02121183788515696, \"color\": \"#00ff66\", \"size\": 101.2082113444314, \"radius\": 6.028191598036733, \"id\": \"gavin.dillingham\"}, {\"pr\": 0.02350947820524232, \"community\": 3, \"ei\": 0.018187766945086493, \"color\": \"#0066ff\", \"size\": 422.6113484973388, \"radius\": 13.527598131604572, \"id\": \"denton\"}, {\"pr\": 0.002711309795496284, \"community\": 0, \"ei\": 0.008056848300493047, \"color\": \"#ff0000\", \"size\": 125.47361004488243, \"radius\": 6.59438423438059, \"id\": \"douglass\"}, {\"pr\": 0.0010861706341513363, \"community\": 4, \"ei\": 0.006091841284119167, \"color\": \"#cc00ff\", \"size\": 102.25569173788975, \"radius\": 6.052632807217427, \"id\": \"drew.fossum\"}, {\"pr\": 0.0017354067986760438, \"community\": 4, \"ei\": 0.006800362471284751, \"color\": \"#cc00ff\", \"size\": 111.53115108834002, \"radius\": 6.269060192061267, \"id\": \"jeffery.fawcett\"}, {\"pr\": 0.0015915059306762466, \"community\": 4, \"ei\": 0.0005763814609151225, \"color\": \"#cc00ff\", \"size\": 109.47527878091276, \"radius\": 6.221089838221298, \"id\": \"lindy.donoho\"}, {\"pr\": 0.013625613765471504, \"community\": 4, \"ei\": 0.004078871995188076, \"color\": \"#cc00ff\", \"size\": 281.40328301076755, \"radius\": 10.232743270251245, \"id\": \"lorna.brennan\"}, {\"pr\": 0.0013648196773005216, \"community\": 4, \"ei\": 0.0003867868152386461, \"color\": \"#cc00ff\", \"size\": 106.23667433559248, \"radius\": 6.1455224011638245, \"id\": \"lorraine.lindberg\"}, {\"pr\": 0.0014964572023905488, \"community\": 4, \"ei\": 0.0004883350492094593, \"color\": \"#cc00ff\", \"size\": 108.11734362002814, \"radius\": 6.189404684467323, \"id\": \"tk.lohman\"}, {\"pr\": 0.0031223270603895586, \"community\": 3, \"ei\": 0.0042416957311156335, \"color\": \"#0066ff\", \"size\": 131.345701190085, \"radius\": 6.731399694435317, \"id\": \"edgroup\"}, {\"pr\": 0.0011346572332527533, \"community\": 3, \"ei\": 0.007380550989049364, \"color\": \"#0066ff\", \"size\": 102.94840650576779, \"radius\": 6.068796151801249, \"id\": \"enron.cuttings\"}, {\"pr\": 0.005583679056232534, \"community\": 0, \"ei\": 0.0015464998063896538, \"color\": \"#ff0000\", \"size\": 166.51036334550372, \"radius\": 7.551908478061754, \"id\": \"frl3\"}, {\"pr\": 0.006580699939200635, \"community\": 4, \"ei\": 0.0004873518054049029, \"color\": \"#cc00ff\", \"size\": 180.75452776029846, \"radius\": 7.884272314406965, \"id\": \"michelle.lokay\"}, {\"pr\": 0.005536332702732176, \"community\": 0, \"ei\": 0.001149029698859991, \"color\": \"#ff0000\", \"size\": 165.83393895437922, \"radius\": 7.536125242268849, \"id\": \"jaki_l._hawkins\"}, {\"pr\": 0.0044490331398773664, \"community\": 2, \"ei\": 0.07654193237797606, \"color\": \"#00ff66\", \"size\": 150.2999877543482, \"radius\": 7.173666380934791, \"id\": \"miyung.buster\"}, {\"pr\": 0.001831306449842118, \"community\": 2, \"ei\": 0.006310199396056599, \"color\": \"#00ff66\", \"size\": 112.90124315147159, \"radius\": 6.301029006867671, \"id\": \"michael.norden\"}, {\"pr\": 0.011226649535697047, \"community\": 0, \"ei\": 0.0015477501003585009, \"color\": \"#ff0000\", \"size\": 247.1299377901619, \"radius\": 9.433031881770445, \"id\": \"jlhawkins\"}, {\"pr\": 0.0054489264679948085, \"community\": 0, \"ei\": 0.0011490296988599885, \"color\": \"#ff0000\", \"size\": 164.58519000664324, \"radius\": 7.506987766821677, \"id\": \"jonesday\"}, {\"pr\": 0.018298069075165232, \"community\": 0, \"ei\": 0.0010708546926329159, \"color\": \"#ff0000\", \"size\": 348.1573729089904, \"radius\": 11.790338701209777, \"id\": \"jwu\"}, {\"pr\": 0.0010693826712815384, \"community\": 1, \"ei\": 0.0003904116156251926, \"color\": \"#cbff00\", \"size\": 102.01584670816982, \"radius\": 6.0470364231906295, \"id\": \"laurie.rutherford1\"}, {\"pr\": 0.002002798263697118, \"community\": 0, \"ei\": 0.020093974254380666, \"color\": \"#ff0000\", \"size\": 115.35129974915286, \"radius\": 6.3581969941469, \"id\": \"matthew.gockerman\"}, {\"pr\": 0.00305747387975057, \"community\": 2, \"ei\": 0.0392551822177239, \"color\": \"#00ff66\", \"size\": 130.41916155222498, \"radius\": 6.709780436218583, \"id\": \"sharonda.stephens\"}, {\"pr\": 0.0014293833531655064, \"community\": 2, \"ei\": 0.0037382080626942693, \"color\": \"#00ff66\", \"size\": 107.1590778979999, \"radius\": 6.1670451509533315, \"id\": \"park.account\"}, {\"pr\": 0.004460144111254661, \"community\": 0, \"ei\": 0.013075018457914945, \"color\": \"#ff0000\", \"size\": 150.4587271607236, \"radius\": 7.177370300416884, \"id\": \"rcarroll\"}, {\"pr\": 0.009570641837406824, \"community\": 3, \"ei\": 0.022712087459374017, \"color\": \"#0066ff\", \"size\": 223.47100914627066, \"radius\": 8.880990213412982, \"id\": \"rhonda.denton\"}, {\"pr\": 0.0029384938498076994, \"community\": 2, \"ei\": 0.006856179506219395, \"color\": \"#00ff66\", \"size\": 128.71932643589506, \"radius\": 6.670117616837552, \"id\": \"rosario.carbone\"}, {\"pr\": 0.0009317552051097928, \"community\": 1, \"ei\": 0.02241102127030843, \"color\": \"#cbff00\", \"size\": 100.0496007752803, \"radius\": 6.001157351423207, \"id\": \"seabron.adamson\"}, {\"pr\": 0.0033554665220957955, \"community\": 1, \"ei\": 0.12981023781472684, \"color\": \"#cbff00\", \"size\": 134.67650085622063, \"radius\": 6.809118353311815, \"id\": \"steffes\"}, {\"pr\": 0.009046414998736166, \"community\": 0, \"ei\": 0.0009210261871820106, \"color\": \"#ff0000\", \"size\": 215.98152381227908, \"radius\": 8.706235555619845, \"id\": \"steven\"}, {\"pr\": 0.0012220353347346595, \"community\": 3, \"ei\": 0.036066682169130095, \"color\": \"#0066ff\", \"size\": 104.19675352138464, \"radius\": 6.097924248832308, \"id\": \"walsh\"}, {\"pr\": 0.0009282833967730044, \"community\": 1, \"ei\": 0.005079654183611547, \"color\": \"#cbff00\", \"size\": 100.0, \"radius\": 6.0, \"id\": \"whederman\"}], \"links\": [{\"weight\": 2, \"source\": \"abb\", \"target\": \"jeff.dasovich\"}, {\"weight\": 2, \"source\": \"abb\", \"target\": \"smara\"}, {\"weight\": 252, \"source\": \"jeff.dasovich\", \"target\": \"alan.comnes\"}, {\"weight\": 2, \"source\": \"jeff.dasovich\", \"target\": \"andybrwn\"}, {\"weight\": 21, \"source\": \"jeff.dasovich\", \"target\": \"bernadette.hawkins\"}, {\"weight\": 3, \"source\": \"jeff.dasovich\", \"target\": \"britt.whitman\"}, {\"weight\": 5, \"source\": \"jeff.dasovich\", \"target\": \"cantrell\"}, {\"weight\": 75, \"source\": \"jeff.dasovich\", \"target\": \"carol.moffett\"}, {\"weight\": 90, \"source\": \"jeff.dasovich\", \"target\": \"chris.foster\"}, {\"weight\": 90, \"source\": \"jeff.dasovich\", \"target\": \"christopher.calger\"}, {\"weight\": 141, \"source\": \"jeff.dasovich\", \"target\": \"dan.leff\"}, {\"weight\": 31, \"source\": \"jeff.dasovich\", \"target\": \"darran.binns\"}, {\"weight\": 102, \"source\": \"jeff.dasovich\", \"target\": \"david.delainey\"}, {\"weight\": 33, \"source\": \"jeff.dasovich\", \"target\": \"david.parquet\"}, {\"weight\": 18, \"source\": \"jeff.dasovich\", \"target\": \"donna.fulton\"}, {\"weight\": 2, \"source\": \"jeff.dasovich\", \"target\": \"douglass\"}, {\"weight\": 109, \"source\": \"jeff.dasovich\", \"target\": \"ginger.dernehl\"}, {\"weight\": 311, \"source\": \"jeff.dasovich\", \"target\": \"harry.kingerski\"}, {\"weight\": 337, \"source\": \"jeff.dasovich\", \"target\": \"james.steffes\"}, {\"weight\": 169, \"source\": \"jeff.dasovich\", \"target\": \"janel.guerrero\"}, {\"weight\": 3, \"source\": \"jeff.dasovich\", \"target\": \"christian.yoder\"}, {\"weight\": 97, \"source\": \"jeff.dasovich\", \"target\": \"d..steffes\"}, {\"weight\": 91, \"source\": \"jeff.dasovich\", \"target\": \"dennis.benevides\"}, {\"weight\": 125, \"source\": \"jeff.dasovich\", \"target\": \"don.black\"}, {\"weight\": 4, \"source\": \"jeff.dasovich\", \"target\": \"e-mail\"}, {\"weight\": 2, \"source\": \"jeff.dasovich\", \"target\": \"gavin.dillingham\"}, {\"weight\": 57, \"source\": \"jeff.dasovich\", \"target\": \"greg.whalley\"}, {\"weight\": 36, \"source\": \"jeff.dasovich\", \"target\": \"jdasovic\"}, {\"weight\": 65, \"source\": \"jeff.dasovich\", \"target\": \"jeff.dasovich\"}, {\"weight\": 6, \"source\": \"jeff.dasovich\", \"target\": \"jeffery.fawcett\"}, {\"weight\": 2, \"source\": \"jeff.dasovich\", \"target\": \"joe.hartsoe\"}, {\"weight\": 91, \"source\": \"jeff.dasovich\", \"target\": \"john.lavorato\"}, {\"weight\": 7, \"source\": \"jeff.dasovich\", \"target\": \"john.shelk\"}, {\"weight\": 17, \"source\": \"jeff.dasovich\", \"target\": \"joseph.alamo\"}, {\"weight\": 59, \"source\": \"jeff.dasovich\", \"target\": \"karen.denne\"}, {\"weight\": 219, \"source\": \"jeff.dasovich\", \"target\": \"kristin.walsh\"}, {\"weight\": 20, \"source\": \"jeff.dasovich\", \"target\": \"leslie.lawner\"}, {\"weight\": 26, \"source\": \"jeff.dasovich\", \"target\": \"leticia.botello\"}, {\"weight\": 6, \"source\": \"jeff.dasovich\", \"target\": \"linda.robertson\"}, {\"weight\": 3, \"source\": \"jeff.dasovich\", \"target\": \"lloyd.will\"}, {\"weight\": 1, \"source\": \"jeff.dasovich\", \"target\": \"louise.kitchen\"}, {\"weight\": 10, \"source\": \"jeff.dasovich\", \"target\": \"mark.palmer\"}, {\"weight\": 99, \"source\": \"jeff.dasovich\", \"target\": \"marty.sunde\"}, {\"weight\": 42, \"source\": \"jeff.dasovich\", \"target\": \"mary.hain\"}, {\"weight\": 40, \"source\": \"jeff.dasovich\", \"target\": \"maureen.mcvicker\"}, {\"weight\": 22, \"source\": \"jeff.dasovich\", \"target\": \"mday@gmssr.com\"}, {\"weight\": 22, \"source\": \"jeff.dasovich\", \"target\": \"michael.tribolet\"}, {\"weight\": 3, \"source\": \"jeff.dasovich\", \"target\": \"mike.grigsby\"}, {\"weight\": 4, \"source\": \"jeff.dasovich\", \"target\": \"mike.smith\"}, {\"weight\": 33, \"source\": \"jeff.dasovich\", \"target\": \"miyung.buster\"}, {\"weight\": 4, \"source\": \"jeff.dasovich\", \"target\": \"mona.petrochko\"}, {\"weight\": 220, \"source\": \"jeff.dasovich\", \"target\": \"mpalmer\"}, {\"weight\": 26, \"source\": \"jeff.dasovich\", \"target\": \"paul.kaufman\"}, {\"weight\": 25, \"source\": \"jeff.dasovich\", \"target\": \"phillip.allen\"}, {\"weight\": 4, \"source\": \"jeff.dasovich\", \"target\": \"ray.alvarez\"}, {\"weight\": 2, \"source\": \"jeff.dasovich\", \"target\": \"richard.sanders\"}, {\"weight\": 57, \"source\": \"jeff.dasovich\", \"target\": \"richard.shapiro\"}, {\"weight\": 26, \"source\": \"jeff.dasovich\", \"target\": \"rob.bradley\"}, {\"weight\": 60, \"source\": \"jeff.dasovich\", \"target\": \"robert.badeer\"}, {\"weight\": 22, \"source\": \"jeff.dasovich\", \"target\": \"robert.frank\"}, {\"weight\": 17, \"source\": \"jeff.dasovich\", \"target\": \"robert.neustaedter\"}, {\"weight\": 80, \"source\": \"jeff.dasovich\", \"target\": \"robert.williams\"}, {\"weight\": 16, \"source\": \"jeff.dasovich\", \"target\": \"roger.yang\"}, {\"weight\": 6, \"source\": \"jeff.dasovich\", \"target\": \"sandra.mccubbin\"}, {\"weight\": 19, \"source\": \"jeff.dasovich\", \"target\": \"sarah.novosel\"}, {\"weight\": 3, \"source\": \"jeff.dasovich\", \"target\": \"scott.tholan\"}, {\"weight\": 16, \"source\": \"jeff.dasovich\", \"target\": \"shelley.corman\"}, {\"weight\": 339, \"source\": \"jeff.dasovich\", \"target\": \"skean\"}, {\"weight\": 13, \"source\": \"jeff.dasovich\", \"target\": \"smara\"}, {\"weight\": 6, \"source\": \"jeff.dasovich\", \"target\": \"steve.hall\"}, {\"weight\": 137, \"source\": \"jeff.dasovich\", \"target\": \"steven.kean\"}, {\"weight\": 54, \"source\": \"jeff.dasovich\", \"target\": \"susan.mara\"}, {\"weight\": 1, \"source\": \"jeff.dasovich\", \"target\": \"tim.belden\"}, {\"weight\": 6, \"source\": \"jeff.dasovich\", \"target\": \"tom.briggs\"}, {\"weight\": 21, \"source\": \"jeff.dasovich\", \"target\": \"vicki.sharp\"}, {\"weight\": 2, \"source\": \"jeff.dasovich\", \"target\": \"vince.kaminski\"}, {\"weight\": 8, \"source\": \"jeff.dasovich\", \"target\": \"wanda.curry\"}, {\"weight\": 77, \"source\": \"jeff.dasovich\", \"target\": \"william.bradford\"}, {\"weight\": 37, \"source\": \"jeff.dasovich\", \"target\": \"matthew.gockerman\"}, {\"weight\": 12, \"source\": \"jeff.dasovich\", \"target\": \"peggy.mahoney\"}, {\"weight\": 20, \"source\": \"jeff.dasovich\", \"target\": \"rebecca.cantrell\"}, {\"weight\": 3, \"source\": \"jeff.dasovich\", \"target\": \"robert.johnston\"}, {\"weight\": 18, \"source\": \"jeff.dasovich\", \"target\": \"seabron.adamson\"}, {\"weight\": 4, \"source\": \"jeff.dasovich\", \"target\": \"sharonda.stephens\"}, {\"weight\": 40, \"source\": \"jeff.dasovich\", \"target\": \"steffes\"}, {\"weight\": 7, \"source\": \"jeff.dasovich\", \"target\": \"twanda.sweet\"}, {\"weight\": 15, \"source\": \"jeff.dasovich\", \"target\": \"walsh\"}, {\"weight\": 2, \"source\": \"jeff.dasovich\", \"target\": \"whederman\"}, {\"weight\": 2, \"source\": \"smara\", \"target\": \"andybrwn\"}, {\"weight\": 6, \"source\": \"smara\", \"target\": \"jdasovic\"}, {\"weight\": 2, \"source\": \"smara\", \"target\": \"jwu\"}, {\"weight\": 54, \"source\": \"smara\", \"target\": \"rcarroll\"}, {\"weight\": 2, \"source\": \"smara\", \"target\": \"seabron.adamson\"}, {\"weight\": 80, \"source\": \"ginger.dernehl\", \"target\": \"alan.comnes\"}, {\"weight\": 68, \"source\": \"ginger.dernehl\", \"target\": \"bernadette.hawkins\"}, {\"weight\": 44, \"source\": \"ginger.dernehl\", \"target\": \"carol.moffett\"}, {\"weight\": 28, \"source\": \"ginger.dernehl\", \"target\": \"christian.yoder\"}, {\"weight\": 2, \"source\": \"ginger.dernehl\", \"target\": \"christopher.calger\"}, {\"weight\": 7, \"source\": \"ginger.dernehl\", \"target\": \"d..steffes\"}, {\"weight\": 30, \"source\": \"ginger.dernehl\", \"target\": \"dan.leff\"}, {\"weight\": 30, \"source\": \"ginger.dernehl\", \"target\": \"david.delainey\"}, {\"weight\": 14, \"source\": \"ginger.dernehl\", \"target\": \"don.black\"}, {\"weight\": 26, \"source\": \"ginger.dernehl\", \"target\": \"donna.fulton\"}, {\"weight\": 73, \"source\": \"ginger.dernehl\", \"target\": \"ginger.dernehl\"}, {\"weight\": 14, \"source\": \"ginger.dernehl\", \"target\": \"greg.whalley\"}, {\"weight\": 72, \"source\": \"ginger.dernehl\", \"target\": \"harry.kingerski\"}, {\"weight\": 2, \"source\": \"ginger.dernehl\", \"target\": \"james.steffes\"}, {\"weight\": 23, \"source\": \"ginger.dernehl\", \"target\": \"janel.guerrero\"}, {\"weight\": 12, \"source\": \"ginger.dernehl\", \"target\": \"janette.elbertson\"}, {\"weight\": 68, \"source\": \"ginger.dernehl\", \"target\": \"joe.hartsoe\"}, {\"weight\": 30, \"source\": \"ginger.dernehl\", \"target\": \"john.lavorato\"}, {\"weight\": 21, \"source\": \"ginger.dernehl\", \"target\": \"joseph.alamo\"}, {\"weight\": 34, \"source\": \"ginger.dernehl\", \"target\": \"karen.denne\"}, {\"weight\": 28, \"source\": \"ginger.dernehl\", \"target\": \"kathryn.sheppard\"}, {\"weight\": 14, \"source\": \"ginger.dernehl\", \"target\": \"kristin.walsh\"}, {\"weight\": 42, \"source\": \"ginger.dernehl\", \"target\": \"leslie.lawner\"}, {\"weight\": 16, \"source\": \"ginger.dernehl\", \"target\": \"leticia.botello\"}, {\"weight\": 84, \"source\": \"ginger.dernehl\", \"target\": \"linda.robertson\"}, {\"weight\": 30, \"source\": \"ginger.dernehl\", \"target\": \"mark.haedicke\"}, {\"weight\": 42, \"source\": \"ginger.dernehl\", \"target\": \"mark.palmer\"}, {\"weight\": 44, \"source\": \"ginger.dernehl\", \"target\": \"marty.sunde\"}, {\"weight\": 3, \"source\": \"ginger.dernehl\", \"target\": \"mary.hain\"}, {\"weight\": 17, \"source\": \"ginger.dernehl\", \"target\": \"maureen.mcvicker\"}, {\"weight\": 28, \"source\": \"ginger.dernehl\", \"target\": \"michael.tribolet\"}, {\"weight\": 14, \"source\": \"ginger.dernehl\", \"target\": \"mike.grigsby\"}, {\"weight\": 14, \"source\": \"ginger.dernehl\", \"target\": \"mike.smith\"}, {\"weight\": 2, \"source\": \"ginger.dernehl\", \"target\": \"mollie.gustafson\"}, {\"weight\": 36, \"source\": \"ginger.dernehl\", \"target\": \"mona.petrochko\"}, {\"weight\": 1, \"source\": \"ginger.dernehl\", \"target\": \"paul.kaufman\"}, {\"weight\": 14, \"source\": \"ginger.dernehl\", \"target\": \"phillip.allen\"}, {\"weight\": 26, \"source\": \"ginger.dernehl\", \"target\": \"ray.alvarez\"}, {\"weight\": 26, \"source\": \"ginger.dernehl\", \"target\": \"rebecca.cantrell\"}, {\"weight\": 2, \"source\": \"ginger.dernehl\", \"target\": \"richard.sanders\"}, {\"weight\": 3, \"source\": \"ginger.dernehl\", \"target\": \"richard.shapiro\"}, {\"weight\": 28, \"source\": \"ginger.dernehl\", \"target\": \"robert.badeer\"}, {\"weight\": 3, \"source\": \"ginger.dernehl\", \"target\": \"robert.frank\"}, {\"weight\": 28, \"source\": \"ginger.dernehl\", \"target\": \"robert.johnston\"}, {\"weight\": 36, \"source\": \"ginger.dernehl\", \"target\": \"robert.neustaedter\"}, {\"weight\": 14, \"source\": \"ginger.dernehl\", \"target\": \"robert.williams\"}, {\"weight\": 28, \"source\": \"ginger.dernehl\", \"target\": \"roger.yang\"}, {\"weight\": 76, \"source\": \"ginger.dernehl\", \"target\": \"sandra.mccubbin\"}, {\"weight\": 6, \"source\": \"ginger.dernehl\", \"target\": \"sarah.novosel\"}, {\"weight\": 30, \"source\": \"ginger.dernehl\", \"target\": \"shelley.corman\"}, {\"weight\": 14, \"source\": \"ginger.dernehl\", \"target\": \"steve.hall\"}, {\"weight\": 70, \"source\": \"ginger.dernehl\", \"target\": \"steven.kean\"}, {\"weight\": 22, \"source\": \"ginger.dernehl\", \"target\": \"susan.mara\"}, {\"weight\": 28, \"source\": \"ginger.dernehl\", \"target\": \"tim.belden\"}, {\"weight\": 36, \"source\": \"ginger.dernehl\", \"target\": \"tom.briggs\"}, {\"weight\": 28, \"source\": \"ginger.dernehl\", \"target\": \"twanda.sweet\"}, {\"weight\": 4, \"source\": \"ginger.dernehl\", \"target\": \"vicki.sharp\"}, {\"weight\": 28, \"source\": \"ginger.dernehl\", \"target\": \"wanda.curry\"}, {\"weight\": 30, \"source\": \"ginger.dernehl\", \"target\": \"william.bradford\"}, {\"weight\": 2, \"source\": \"harry.kingerski\", \"target\": \"alan.comnes\"}, {\"weight\": 9, \"source\": \"harry.kingerski\", \"target\": \"bernadette.hawkins\"}, {\"weight\": 1, \"source\": \"harry.kingerski\", \"target\": \"cantrell\"}, {\"weight\": 2, \"source\": \"harry.kingerski\", \"target\": \"chris.foster\"}, {\"weight\": 2, \"source\": \"harry.kingerski\", \"target\": \"christian.yoder\"}, {\"weight\": 2, \"source\": \"harry.kingerski\", \"target\": \"christopher.calger\"}, {\"weight\": 3, \"source\": \"harry.kingerski\", \"target\": \"dan.leff\"}, {\"weight\": 3, \"source\": \"harry.kingerski\", \"target\": \"david.delainey\"}, {\"weight\": 5, \"source\": \"harry.kingerski\", \"target\": \"dennis.benevides\"}, {\"weight\": 3, \"source\": \"harry.kingerski\", \"target\": \"don.black\"}, {\"weight\": 2, \"source\": \"harry.kingerski\", \"target\": \"gavin.dillingham\"}, {\"weight\": 45, \"source\": \"harry.kingerski\", \"target\": \"james.steffes\"}, {\"weight\": 28, \"source\": \"harry.kingerski\", \"target\": \"janel.guerrero\"}, {\"weight\": 2, \"source\": \"harry.kingerski\", \"target\": \"joe.hartsoe\"}, {\"weight\": 2, \"source\": \"harry.kingerski\", \"target\": \"john.lavorato\"}, {\"weight\": 8, \"source\": \"harry.kingerski\", \"target\": \"karen.denne\"}, {\"weight\": 2, \"source\": \"harry.kingerski\", \"target\": \"kristin.walsh\"}, {\"weight\": 13, \"source\": \"harry.kingerski\", \"target\": \"leslie.lawner\"}, {\"weight\": 2, \"source\": \"harry.kingerski\", \"target\": \"linda.robertson\"}, {\"weight\": 3, \"source\": \"harry.kingerski\", \"target\": \"mark.palmer\"}, {\"weight\": 5, \"source\": \"harry.kingerski\", \"target\": \"marty.sunde\"}, {\"weight\": 32, \"source\": \"harry.kingerski\", \"target\": \"mary.hain\"}, {\"weight\": 2, \"source\": \"harry.kingerski\", \"target\": \"mday@gmssr.com\"}, {\"weight\": 6, \"source\": \"harry.kingerski\", \"target\": \"michael.tribolet\"}, {\"weight\": 2, \"source\": \"harry.kingerski\", \"target\": \"mike.grigsby\"}, {\"weight\": 2, \"source\": \"harry.kingerski\", \"target\": \"mike.smith\"}, {\"weight\": 2, \"source\": \"harry.kingerski\", \"target\": \"mona.petrochko\"}, {\"weight\": 10, \"source\": \"harry.kingerski\", \"target\": \"paul.kaufman\"}, {\"weight\": 2, \"source\": \"harry.kingerski\", \"target\": \"phillip.allen\"}, {\"weight\": 2, \"source\": \"harry.kingerski\", \"target\": \"rebecca.cantrell\"}, {\"weight\": 2, \"source\": \"harry.kingerski\", \"target\": \"richard.sanders\"}, {\"weight\": 5, \"source\": \"harry.kingerski\", \"target\": \"richard.shapiro\"}, {\"weight\": 2, \"source\": \"harry.kingerski\", \"target\": \"rob.bradley\"}, {\"weight\": 2, \"source\": \"harry.kingerski\", \"target\": \"robert.badeer\"}, {\"weight\": 2, \"source\": \"harry.kingerski\", \"target\": \"robert.frank\"}, {\"weight\": 2, \"source\": \"harry.kingerski\", \"target\": \"robert.johnston\"}, {\"weight\": 2, \"source\": \"harry.kingerski\", \"target\": \"robert.williams\"}, {\"weight\": 4, \"source\": \"harry.kingerski\", \"target\": \"sandra.mccubbin\"}, {\"weight\": 2, \"source\": \"harry.kingerski\", \"target\": \"shelley.corman\"}, {\"weight\": 2, \"source\": \"harry.kingerski\", \"target\": \"steve.hall\"}, {\"weight\": 44, \"source\": \"harry.kingerski\", \"target\": \"steven.kean\"}, {\"weight\": 30, \"source\": \"harry.kingerski\", \"target\": \"susan.mara\"}, {\"weight\": 3, \"source\": \"harry.kingerski\", \"target\": \"tim.belden\"}, {\"weight\": 2, \"source\": \"harry.kingerski\", \"target\": \"tom.briggs\"}, {\"weight\": 6, \"source\": \"harry.kingerski\", \"target\": \"vicki.sharp\"}, {\"weight\": 2, \"source\": \"harry.kingerski\", \"target\": \"william.bradford\"}, {\"weight\": 8, \"source\": \"harry.kingerski\", \"target\": \"john.shelk\"}, {\"weight\": 15, \"source\": \"harry.kingerski\", \"target\": \"joseph.alamo\"}, {\"weight\": 20, \"source\": \"harry.kingerski\", \"target\": \"leticia.botello\"}, {\"weight\": 12, \"source\": \"harry.kingerski\", \"target\": \"maureen.mcvicker\"}, {\"weight\": 14, \"source\": \"harry.kingerski\", \"target\": \"robert.neustaedter\"}, {\"weight\": 4, \"source\": \"harry.kingerski\", \"target\": \"roger.yang\"}, {\"weight\": 7, \"source\": \"harry.kingerski\", \"target\": \"sarah.novosel\"}, {\"weight\": 21, \"source\": \"harry.kingerski\", \"target\": \"steffes\"}, {\"weight\": 2, \"source\": \"harry.kingerski\", \"target\": \"wanda.curry\"}, {\"weight\": 57, \"source\": \"james.steffes\", \"target\": \"alan.comnes\"}, {\"weight\": 19, \"source\": \"james.steffes\", \"target\": \"bernadette.hawkins\"}, {\"weight\": 3, \"source\": \"james.steffes\", \"target\": \"britt.whitman\"}, {\"weight\": 2, \"source\": \"james.steffes\", \"target\": \"carol.moffett\"}, {\"weight\": 37, \"source\": \"james.steffes\", \"target\": \"david.delainey\"}, {\"weight\": 2, \"source\": \"james.steffes\", \"target\": \"david.parquet\"}, {\"weight\": 20, \"source\": \"james.steffes\", \"target\": \"donna.fulton\"}, {\"weight\": 15, \"source\": \"james.steffes\", \"target\": \"chris.foster\"}, {\"weight\": 31, \"source\": \"james.steffes\", \"target\": \"christian.yoder\"}, {\"weight\": 28, \"source\": \"james.steffes\", \"target\": \"christopher.calger\"}, {\"weight\": 31, \"source\": \"james.steffes\", \"target\": \"dan.leff\"}, {\"weight\": 11, \"source\": \"james.steffes\", \"target\": \"dennis.benevides\"}, {\"weight\": 48, \"source\": \"james.steffes\", \"target\": \"don.black\"}, {\"weight\": 6, \"source\": \"james.steffes\", \"target\": \"greg.whalley\"}, {\"weight\": 7, \"source\": \"james.steffes\", \"target\": \"james.steffes\"}, {\"weight\": 29, \"source\": \"james.steffes\", \"target\": \"janel.guerrero\"}, {\"weight\": 2, \"source\": \"james.steffes\", \"target\": \"jdasovic\"}, {\"weight\": 4, \"source\": \"james.steffes\", \"target\": \"joe.hartsoe\"}, {\"weight\": 33, \"source\": \"james.steffes\", \"target\": \"john.lavorato\"}, {\"weight\": 13, \"source\": \"james.steffes\", \"target\": \"john.shelk\"}, {\"weight\": 25, \"source\": \"james.steffes\", \"target\": \"karen.denne\"}, {\"weight\": 230, \"source\": \"james.steffes\", \"target\": \"kristin.walsh\"}, {\"weight\": 2, \"source\": \"james.steffes\", \"target\": \"leslie.lawner\"}, {\"weight\": 7, \"source\": \"james.steffes\", \"target\": \"linda.robertson\"}, {\"weight\": 6, \"source\": \"james.steffes\", \"target\": \"louise.kitchen\"}, {\"weight\": 8, \"source\": \"james.steffes\", \"target\": \"mark.palmer\"}, {\"weight\": 37, \"source\": \"james.steffes\", \"target\": \"marty.sunde\"}, {\"weight\": 90, \"source\": \"james.steffes\", \"target\": \"mary.hain\"}, {\"weight\": 36, \"source\": \"james.steffes\", \"target\": \"mday@gmssr.com\"}, {\"weight\": 14, \"source\": \"james.steffes\", \"target\": \"michael.tribolet\"}, {\"weight\": 25, \"source\": \"james.steffes\", \"target\": \"mike.grigsby\"}, {\"weight\": 25, \"source\": \"james.steffes\", \"target\": \"mike.smith\"}, {\"weight\": 33, \"source\": \"james.steffes\", \"target\": \"miyung.buster\"}, {\"weight\": 12, \"source\": \"james.steffes\", \"target\": \"mona.petrochko\"}, {\"weight\": 7, \"source\": \"james.steffes\", \"target\": \"mpalmer\"}, {\"weight\": 12, \"source\": \"james.steffes\", \"target\": \"paul.kaufman\"}, {\"weight\": 10, \"source\": \"james.steffes\", \"target\": \"peggy.mahoney\"}, {\"weight\": 37, \"source\": \"james.steffes\", \"target\": \"phillip.allen\"}, {\"weight\": 4, \"source\": \"james.steffes\", \"target\": \"ray.alvarez\"}, {\"weight\": 19, \"source\": \"james.steffes\", \"target\": \"rebecca.cantrell\"}, {\"weight\": 5, \"source\": \"james.steffes\", \"target\": \"richard.sanders\"}, {\"weight\": 38, \"source\": \"james.steffes\", \"target\": \"richard.shapiro\"}, {\"weight\": 20, \"source\": \"james.steffes\", \"target\": \"rob.bradley\"}, {\"weight\": 20, \"source\": \"james.steffes\", \"target\": \"robert.badeer\"}, {\"weight\": 34, \"source\": \"james.steffes\", \"target\": \"robert.frank\"}, {\"weight\": 24, \"source\": \"james.steffes\", \"target\": \"robert.johnston\"}, {\"weight\": 16, \"source\": \"james.steffes\", \"target\": \"robert.neustaedter\"}, {\"weight\": 28, \"source\": \"james.steffes\", \"target\": \"robert.williams\"}, {\"weight\": 2, \"source\": \"james.steffes\", \"target\": \"roger.yang\"}, {\"weight\": 2, \"source\": \"james.steffes\", \"target\": \"sandra.mccubbin\"}, {\"weight\": 22, \"source\": \"james.steffes\", \"target\": \"sarah.novosel\"}, {\"weight\": 8, \"source\": \"james.steffes\", \"target\": \"shelley.corman\"}, {\"weight\": 7, \"source\": \"james.steffes\", \"target\": \"skean\"}, {\"weight\": 6, \"source\": \"james.steffes\", \"target\": \"steve.hall\"}, {\"weight\": 80, \"source\": \"james.steffes\", \"target\": \"steven.kean\"}, {\"weight\": 29, \"source\": \"james.steffes\", \"target\": \"susan.mara\"}, {\"weight\": 8, \"source\": \"james.steffes\", \"target\": \"tim.belden\"}, {\"weight\": 36, \"source\": \"james.steffes\", \"target\": \"tom.briggs\"}, {\"weight\": 2, \"source\": \"james.steffes\", \"target\": \"vicki.sharp\"}, {\"weight\": 12, \"source\": \"james.steffes\", \"target\": \"wanda.curry\"}, {\"weight\": 36, \"source\": \"james.steffes\", \"target\": \"william.bradford\"}, {\"weight\": 10, \"source\": \"james.steffes\", \"target\": \"janet.butler\"}, {\"weight\": 32, \"source\": \"james.steffes\", \"target\": \"janette.elbertson\"}, {\"weight\": 16, \"source\": \"james.steffes\", \"target\": \"joseph.alamo\"}, {\"weight\": 2, \"source\": \"james.steffes\", \"target\": \"mark.haedicke\"}, {\"weight\": 28, \"source\": \"james.steffes\", \"target\": \"maureen.mcvicker\"}, {\"weight\": 4, \"source\": \"james.steffes\", \"target\": \"sharonda.stephens\"}, {\"weight\": 16, \"source\": \"james.steffes\", \"target\": \"twanda.sweet\"}, {\"weight\": 15, \"source\": \"james.steffes\", \"target\": \"walsh\"}, {\"weight\": 28, \"source\": \"janel.guerrero\", \"target\": \"alan.comnes\"}, {\"weight\": 31, \"source\": \"janel.guerrero\", \"target\": \"darran.binns\"}, {\"weight\": 25, \"source\": \"janel.guerrero\", \"target\": \"carol.moffett\"}, {\"weight\": 19, \"source\": \"janel.guerrero\", \"target\": \"christopher.calger\"}, {\"weight\": 1, \"source\": \"janel.guerrero\", \"target\": \"d..steffes\"}, {\"weight\": 14, \"source\": \"janel.guerrero\", \"target\": \"david.delainey\"}, {\"weight\": 13, \"source\": \"janel.guerrero\", \"target\": \"david.parquet\"}, {\"weight\": 14, \"source\": \"janel.guerrero\", \"target\": \"dennis.benevides\"}, {\"weight\": 11, \"source\": \"janel.guerrero\", \"target\": \"don.black\"}, {\"weight\": 9, \"source\": \"janel.guerrero\", \"target\": \"donna.fulton\"}, {\"weight\": 7, \"source\": \"janel.guerrero\", \"target\": \"e-mail\"}, {\"weight\": 11, \"source\": \"janel.guerrero\", \"target\": \"john.shelk\"}, {\"weight\": 5, \"source\": \"janel.guerrero\", \"target\": \"joseph.alamo\"}, {\"weight\": 14, \"source\": \"janel.guerrero\", \"target\": \"karen.denne\"}, {\"weight\": 28, \"source\": \"janel.guerrero\", \"target\": \"leslie.lawner\"}, {\"weight\": 34, \"source\": \"janel.guerrero\", \"target\": \"linda.robertson\"}, {\"weight\": 8, \"source\": \"janel.guerrero\", \"target\": \"mark.palmer\"}, {\"weight\": 25, \"source\": \"janel.guerrero\", \"target\": \"marty.sunde\"}, {\"weight\": 11, \"source\": \"janel.guerrero\", \"target\": \"mary.hain\"}, {\"weight\": 23, \"source\": \"janel.guerrero\", \"target\": \"maureen.mcvicker\"}, {\"weight\": 11, \"source\": \"janel.guerrero\", \"target\": \"michael.tribolet\"}, {\"weight\": 13, \"source\": \"janel.guerrero\", \"target\": \"miyung.buster\"}, {\"weight\": 11, \"source\": \"janel.guerrero\", \"target\": \"mona.petrochko\"}, {\"weight\": 30, \"source\": \"janel.guerrero\", \"target\": \"paul.kaufman\"}, {\"weight\": 11, \"source\": \"janel.guerrero\", \"target\": \"peggy.mahoney\"}, {\"weight\": 9, \"source\": \"janel.guerrero\", \"target\": \"ray.alvarez\"}, {\"weight\": 5, \"source\": \"janel.guerrero\", \"target\": \"richard.shapiro\"}, {\"weight\": 23, \"source\": \"janel.guerrero\", \"target\": \"robert.frank\"}, {\"weight\": 2, \"source\": \"janel.guerrero\", \"target\": \"robert.neustaedter\"}, {\"weight\": 19, \"source\": \"janel.guerrero\", \"target\": \"sandra.mccubbin\"}, {\"weight\": 9, \"source\": \"janel.guerrero\", \"target\": \"sarah.novosel\"}, {\"weight\": 39, \"source\": \"janel.guerrero\", \"target\": \"steven.kean\"}, {\"weight\": 18, \"source\": \"janel.guerrero\", \"target\": \"susan.mara\"}, {\"weight\": 19, \"source\": \"janel.guerrero\", \"target\": \"tim.belden\"}, {\"weight\": 20, \"source\": \"janel.guerrero\", \"target\": \"tom.briggs\"}, {\"weight\": 14, \"source\": \"janel.guerrero\", \"target\": \"vicki.sharp\"}, {\"weight\": 2, \"source\": \"janel.guerrero\", \"target\": \"rob.bradley\"}, {\"weight\": 12, \"source\": \"karen.denne\", \"target\": \"alan.comnes\"}, {\"weight\": 21, \"source\": \"karen.denne\", \"target\": \"bernadette.hawkins\"}, {\"weight\": 31, \"source\": \"karen.denne\", \"target\": \"darran.binns\"}, {\"weight\": 12, \"source\": \"karen.denne\", \"target\": \"donna.fulton\"}, {\"weight\": 16, \"source\": \"karen.denne\", \"target\": \"joseph.alamo\"}, {\"weight\": 2, \"source\": \"karen.denne\", \"target\": \"christian.yoder\"}, {\"weight\": 2, \"source\": \"karen.denne\", \"target\": \"d..steffes\"}, {\"weight\": 2, \"source\": \"karen.denne\", \"target\": \"dan.leff\"}, {\"weight\": 2, \"source\": \"karen.denne\", \"target\": \"david.delainey\"}, {\"weight\": 2, \"source\": \"karen.denne\", \"target\": \"don.black\"}, {\"weight\": 5, \"source\": \"karen.denne\", \"target\": \"gavin.dillingham\"}, {\"weight\": 2, \"source\": \"karen.denne\", \"target\": \"greg.whalley\"}, {\"weight\": 7, \"source\": \"karen.denne\", \"target\": \"joe.hartsoe\"}, {\"weight\": 2, \"source\": \"karen.denne\", \"target\": \"john.lavorato\"}, {\"weight\": 10, \"source\": \"karen.denne\", \"target\": \"karen.denne\"}, {\"weight\": 2, \"source\": \"karen.denne\", \"target\": \"kristin.walsh\"}, {\"weight\": 2, \"source\": \"karen.denne\", \"target\": \"linda.robertson\"}, {\"weight\": 2, \"source\": \"karen.denne\", \"target\": \"mark.haedicke\"}, {\"weight\": 8, \"source\": \"karen.denne\", \"target\": \"mark.palmer\"}, {\"weight\": 2, \"source\": \"karen.denne\", \"target\": \"marty.sunde\"}, {\"weight\": 26, \"source\": \"karen.denne\", \"target\": \"mary.hain\"}, {\"weight\": 2, \"source\": \"karen.denne\", \"target\": \"michael.tribolet\"}, {\"weight\": 6, \"source\": \"karen.denne\", \"target\": \"mona.petrochko\"}, {\"weight\": 21, \"source\": \"karen.denne\", \"target\": \"paul.kaufman\"}, {\"weight\": 18, \"source\": \"karen.denne\", \"target\": \"peggy.mahoney\"}, {\"weight\": 4, \"source\": \"karen.denne\", \"target\": \"richard.sanders\"}, {\"weight\": 5, \"source\": \"karen.denne\", \"target\": \"richard.shapiro\"}, {\"weight\": 2, \"source\": \"karen.denne\", \"target\": \"robert.badeer\"}, {\"weight\": 2, \"source\": \"karen.denne\", \"target\": \"robert.johnston\"}, {\"weight\": 2, \"source\": \"karen.denne\", \"target\": \"roger.yang\"}, {\"weight\": 2, \"source\": \"karen.denne\", \"target\": \"sandra.mccubbin\"}, {\"weight\": 10, \"source\": \"karen.denne\", \"target\": \"sarah.novosel\"}, {\"weight\": 2, \"source\": \"karen.denne\", \"target\": \"shelley.corman\"}, {\"weight\": 22, \"source\": \"karen.denne\", \"target\": \"steven.kean\"}, {\"weight\": 30, \"source\": \"karen.denne\", \"target\": \"susan.mara\"}, {\"weight\": 2, \"source\": \"karen.denne\", \"target\": \"tim.belden\"}, {\"weight\": 4, \"source\": \"karen.denne\", \"target\": \"vicki.sharp\"}, {\"weight\": 2, \"source\": \"karen.denne\", \"target\": \"wanda.curry\"}, {\"weight\": 2, \"source\": \"karen.denne\", \"target\": \"william.bradford\"}, {\"weight\": 18, \"source\": \"karen.denne\", \"target\": \"maureen.mcvicker\"}, {\"weight\": 27, \"source\": \"karen.denne\", \"target\": \"miyung.buster\"}, {\"weight\": 14, \"source\": \"karen.denne\", \"target\": \"rob.bradley\"}, {\"weight\": 4, \"source\": \"karen.denne\", \"target\": \"sharonda.stephens\"}, {\"weight\": 5, \"source\": \"karen.denne\", \"target\": \"steffes\"}, {\"weight\": 10, \"source\": \"leslie.lawner\", \"target\": \"alan.comnes\"}, {\"weight\": 5, \"source\": \"leslie.lawner\", \"target\": \"cantrell\"}, {\"weight\": 4, \"source\": \"leslie.lawner\", \"target\": \"david.parquet\"}, {\"weight\": 10, \"source\": \"leslie.lawner\", \"target\": \"joseph.alamo\"}, {\"weight\": 1, \"source\": \"leslie.lawner\", \"target\": \"d..steffes\"}, {\"weight\": 4, \"source\": \"leslie.lawner\", \"target\": \"don.black\"}, {\"weight\": 9, \"source\": \"leslie.lawner\", \"target\": \"donna.fulton\"}, {\"weight\": 6, \"source\": \"leslie.lawner\", \"target\": \"mday@gmssr.com\"}, {\"weight\": 16, \"source\": \"leslie.lawner\", \"target\": \"paul.kaufman\"}, {\"weight\": 6, \"source\": \"leslie.lawner\", \"target\": \"phillip.allen\"}, {\"weight\": 20, \"source\": \"leslie.lawner\", \"target\": \"rebecca.cantrell\"}, {\"weight\": 7, \"source\": \"leslie.lawner\", \"target\": \"richard.shapiro\"}, {\"weight\": 6, \"source\": \"leslie.lawner\", \"target\": \"robert.frank\"}, {\"weight\": 6, \"source\": \"leslie.lawner\", \"target\": \"sandra.mccubbin\"}, {\"weight\": 1, \"source\": \"leslie.lawner\", \"target\": \"sarah.novosel\"}, {\"weight\": 14, \"source\": \"leslie.lawner\", \"target\": \"steven.kean\"}, {\"weight\": 18, \"source\": \"leslie.lawner\", \"target\": \"susan.mara\"}, {\"weight\": 8, \"source\": \"leslie.lawner\", \"target\": \"mark.palmer\"}, {\"weight\": 3, \"source\": \"leslie.lawner\", \"target\": \"mary.hain\"}, {\"weight\": 7, \"source\": \"leslie.lawner\", \"target\": \"maureen.mcvicker\"}, {\"weight\": 4, \"source\": \"leslie.lawner\", \"target\": \"ray.alvarez\"}, {\"weight\": 2, \"source\": \"leslie.lawner\", \"target\": \"rob.bradley\"}, {\"weight\": 2, \"source\": \"leslie.lawner\", \"target\": \"robert.neustaedter\"}, {\"weight\": 8, \"source\": \"leslie.lawner\", \"target\": \"shelley.corman\"}, {\"weight\": 5, \"source\": \"leslie.lawner\", \"target\": \"steffes\"}, {\"weight\": 15, \"source\": \"mark.palmer\", \"target\": \"alan.comnes\"}, {\"weight\": 15, \"source\": \"mark.palmer\", \"target\": \"bernadette.hawkins\"}, {\"weight\": 4, \"source\": \"mark.palmer\", \"target\": \"david.parquet\"}, {\"weight\": 12, \"source\": \"mark.palmer\", \"target\": \"donna.fulton\"}, {\"weight\": 1, \"source\": \"mark.palmer\", \"target\": \"enron.cuttings\"}, {\"weight\": 31, \"source\": \"mark.palmer\", \"target\": \"janette.elbertson\"}, {\"weight\": 5, \"source\": \"mark.palmer\", \"target\": \"john.shelk\"}, {\"weight\": 6, \"source\": \"mark.palmer\", \"target\": \"joseph.alamo\"}, {\"weight\": 8, \"source\": \"mark.palmer\", \"target\": \"linda.robertson\"}, {\"weight\": 8, \"source\": \"mark.palmer\", \"target\": \"paul.kaufman\"}, {\"weight\": 6, \"source\": \"mark.palmer\", \"target\": \"richard.shapiro\"}, {\"weight\": 8, \"source\": \"mark.palmer\", \"target\": \"sandra.mccubbin\"}, {\"weight\": 44, \"source\": \"mark.palmer\", \"target\": \"steven.kean\"}, {\"weight\": 2, \"source\": \"mark.palmer\", \"target\": \"susan.mara\"}, {\"weight\": 20, \"source\": \"mark.palmer\", \"target\": \"mary.hain\"}, {\"weight\": 18, \"source\": \"mark.palmer\", \"target\": \"maureen.mcvicker\"}, {\"weight\": 2, \"source\": \"mark.palmer\", \"target\": \"michael.tribolet\"}, {\"weight\": 27, \"source\": \"mark.palmer\", \"target\": \"miyung.buster\"}, {\"weight\": 18, \"source\": \"mark.palmer\", \"target\": \"peggy.mahoney\"}, {\"weight\": 3, \"source\": \"mark.palmer\", \"target\": \"richard.sanders\"}, {\"weight\": 12, \"source\": \"mark.palmer\", \"target\": \"rob.bradley\"}, {\"weight\": 2, \"source\": \"mark.palmer\", \"target\": \"robert.neustaedter\"}, {\"weight\": 4, \"source\": \"mark.palmer\", \"target\": \"sharonda.stephens\"}, {\"weight\": 8, \"source\": \"mark.palmer\", \"target\": \"shelley.corman\"}, {\"weight\": 2, \"source\": \"mark.palmer\", \"target\": \"steffes\"}, {\"weight\": 9, \"source\": \"mark.palmer\", \"target\": \"twanda.sweet\"}, {\"weight\": 2, \"source\": \"mark.palmer\", \"target\": \"vicki.sharp\"}, {\"weight\": 6, \"source\": \"mday@gmssr.com\", \"target\": \"afm\"}, {\"weight\": 2, \"source\": \"mday@gmssr.com\", \"target\": \"frl3\"}, {\"weight\": 3, \"source\": \"mday@gmssr.com\", \"target\": \"jaki_l._hawkins\"}, {\"weight\": 32, \"source\": \"mday@gmssr.com\", \"target\": \"janette.elbertson\"}, {\"weight\": 4, \"source\": \"mday@gmssr.com\", \"target\": \"jlhawkins\"}, {\"weight\": 3, \"source\": \"mday@gmssr.com\", \"target\": \"jonesday\"}, {\"weight\": 1, \"source\": \"mday@gmssr.com\", \"target\": \"mark.haedicke\"}, {\"weight\": 2, \"source\": \"mday@gmssr.com\", \"target\": \"mary.hain\"}, {\"weight\": 2, \"source\": \"mday@gmssr.com\", \"target\": \"mike.smith\"}, {\"weight\": 12, \"source\": \"mday@gmssr.com\", \"target\": \"rcarroll\"}, {\"weight\": 3, \"source\": \"mday@gmssr.com\", \"target\": \"richard.sanders\"}, {\"weight\": 4, \"source\": \"mday@gmssr.com\", \"target\": \"robert.neustaedter\"}, {\"weight\": 10, \"source\": \"mday@gmssr.com\", \"target\": \"seabron.adamson\"}, {\"weight\": 2, \"source\": \"mday@gmssr.com\", \"target\": \"susan.mara\"}, {\"weight\": 11, \"source\": \"mday@gmssr.com\", \"target\": \"twanda.sweet\"}, {\"weight\": 47, \"source\": \"paul.kaufman\", \"target\": \"alan.comnes\"}, {\"weight\": 15, \"source\": \"paul.kaufman\", \"target\": \"bernadette.hawkins\"}, {\"weight\": 5, \"source\": \"paul.kaufman\", \"target\": \"cantrell\"}, {\"weight\": 6, \"source\": \"paul.kaufman\", \"target\": \"david.parquet\"}, {\"weight\": 20, \"source\": \"paul.kaufman\", \"target\": \"donna.fulton\"}, {\"weight\": 8, \"source\": \"paul.kaufman\", \"target\": \"joe.hartsoe\"}, {\"weight\": 8, \"source\": \"paul.kaufman\", \"target\": \"john.shelk\"}, {\"weight\": 16, \"source\": \"paul.kaufman\", \"target\": \"joseph.alamo\"}, {\"weight\": 2, \"source\": \"paul.kaufman\", \"target\": \"linda.robertson\"}, {\"weight\": 10, \"source\": \"paul.kaufman\", \"target\": \"mary.hain\"}, {\"weight\": 33, \"source\": \"paul.kaufman\", \"target\": \"maureen.mcvicker\"}, {\"weight\": 2, \"source\": \"paul.kaufman\", \"target\": \"michael.tribolet\"}, {\"weight\": 20, \"source\": \"paul.kaufman\", \"target\": \"miyung.buster\"}, {\"weight\": 6, \"source\": \"paul.kaufman\", \"target\": \"dennis.benevides\"}, {\"weight\": 12, \"source\": \"paul.kaufman\", \"target\": \"mona.petrochko\"}, {\"weight\": 6, \"source\": \"paul.kaufman\", \"target\": \"paul.kaufman\"}, {\"weight\": 17, \"source\": \"paul.kaufman\", \"target\": \"richard.shapiro\"}, {\"weight\": 4, \"source\": \"paul.kaufman\", \"target\": \"roger.yang\"}, {\"weight\": 6, \"source\": \"paul.kaufman\", \"target\": \"sandra.mccubbin\"}, {\"weight\": 11, \"source\": \"paul.kaufman\", \"target\": \"sarah.novosel\"}, {\"weight\": 6, \"source\": \"paul.kaufman\", \"target\": \"skean\"}, {\"weight\": 37, \"source\": \"paul.kaufman\", \"target\": \"steven.kean\"}, {\"weight\": 33, \"source\": \"paul.kaufman\", \"target\": \"susan.mara\"}, {\"weight\": 4, \"source\": \"paul.kaufman\", \"target\": \"vicki.sharp\"}, {\"weight\": 6, \"source\": \"paul.kaufman\", \"target\": \"wanda.curry\"}, {\"weight\": 16, \"source\": \"paul.kaufman\", \"target\": \"rebecca.cantrell\"}, {\"weight\": 2, \"source\": \"paul.kaufman\", \"target\": \"rob.bradley\"}, {\"weight\": 4, \"source\": \"paul.kaufman\", \"target\": \"robert.neustaedter\"}, {\"weight\": 21, \"source\": \"paul.kaufman\", \"target\": \"steffes\"}, {\"weight\": 12, \"source\": \"richard.shapiro\", \"target\": \"alan.comnes\"}, {\"weight\": 15, \"source\": \"richard.shapiro\", \"target\": \"bernadette.hawkins\"}, {\"weight\": 31, \"source\": \"richard.shapiro\", \"target\": \"britt.whitman\"}, {\"weight\": 3, \"source\": \"richard.shapiro\", \"target\": \"cantrell\"}, {\"weight\": 6, \"source\": \"richard.shapiro\", \"target\": \"dan.leff\"}, {\"weight\": 7, \"source\": \"richard.shapiro\", \"target\": \"darran.binns\"}, {\"weight\": 10, \"source\": \"richard.shapiro\", \"target\": \"david.delainey\"}, {\"weight\": 4, \"source\": \"richard.shapiro\", \"target\": \"david.parquet\"}, {\"weight\": 3, \"source\": \"richard.shapiro\", \"target\": \"donna.fulton\"}, {\"weight\": 1, \"source\": \"richard.shapiro\", \"target\": \"enron.cuttings\"}, {\"weight\": 10, \"source\": \"richard.shapiro\", \"target\": \"janet.butler\"}, {\"weight\": 43, \"source\": \"richard.shapiro\", \"target\": \"janette.elbertson\"}, {\"weight\": 8, \"source\": \"richard.shapiro\", \"target\": \"joe.hartsoe\"}, {\"weight\": 16, \"source\": \"richard.shapiro\", \"target\": \"john.shelk\"}, {\"weight\": 21, \"source\": \"richard.shapiro\", \"target\": \"joseph.alamo\"}, {\"weight\": 247, \"source\": \"richard.shapiro\", \"target\": \"kristin.walsh\"}, {\"weight\": 16, \"source\": \"richard.shapiro\", \"target\": \"leticia.botello\"}, {\"weight\": 3, \"source\": \"richard.shapiro\", \"target\": \"linda.robertson\"}, {\"weight\": 2, \"source\": \"richard.shapiro\", \"target\": \"mark.haedicke\"}, {\"weight\": 7, \"source\": \"richard.shapiro\", \"target\": \"mary.hain\"}, {\"weight\": 10, \"source\": \"richard.shapiro\", \"target\": \"maureen.mcvicker\"}, {\"weight\": 14, \"source\": \"richard.shapiro\", \"target\": \"michael.tribolet\"}, {\"weight\": 27, \"source\": \"richard.shapiro\", \"target\": \"miyung.buster\"}, {\"weight\": 2, \"source\": \"richard.shapiro\", \"target\": \"peggy.mahoney\"}, {\"weight\": 3, \"source\": \"richard.shapiro\", \"target\": \"ray.alvarez\"}, {\"weight\": 2, \"source\": \"richard.shapiro\", \"target\": \"rebecca.cantrell\"}, {\"weight\": 2, \"source\": \"richard.shapiro\", \"target\": \"richard.sanders\"}, {\"weight\": 3, \"source\": \"richard.shapiro\", \"target\": \"d..steffes\"}, {\"weight\": 21, \"source\": \"richard.shapiro\", \"target\": \"e-mail\"}, {\"weight\": 2, \"source\": \"richard.shapiro\", \"target\": \"gavin.dillingham\"}, {\"weight\": 2, \"source\": \"richard.shapiro\", \"target\": \"greg.whalley\"}, {\"weight\": 15, \"source\": \"richard.shapiro\", \"target\": \"john.lavorato\"}, {\"weight\": 8, \"source\": \"richard.shapiro\", \"target\": \"louise.kitchen\"}, {\"weight\": 12, \"source\": \"richard.shapiro\", \"target\": \"mona.petrochko\"}, {\"weight\": 2, \"source\": \"richard.shapiro\", \"target\": \"mpalmer\"}, {\"weight\": 2, \"source\": \"richard.shapiro\", \"target\": \"phillip.allen\"}, {\"weight\": 20, \"source\": \"richard.shapiro\", \"target\": \"rob.bradley\"}, {\"weight\": 3, \"source\": \"richard.shapiro\", \"target\": \"robert.frank\"}, {\"weight\": 2, \"source\": \"richard.shapiro\", \"target\": \"robert.neustaedter\"}, {\"weight\": 2, \"source\": \"richard.shapiro\", \"target\": \"sandra.mccubbin\"}, {\"weight\": 20, \"source\": \"richard.shapiro\", \"target\": \"sarah.novosel\"}, {\"weight\": 73, \"source\": \"richard.shapiro\", \"target\": \"steven.kean\"}, {\"weight\": 57, \"source\": \"richard.shapiro\", \"target\": \"susan.mara\"}, {\"weight\": 23, \"source\": \"richard.shapiro\", \"target\": \"tim.belden\"}, {\"weight\": 3, \"source\": \"richard.shapiro\", \"target\": \"tom.briggs\"}, {\"weight\": 24, \"source\": \"richard.shapiro\", \"target\": \"robert.johnston\"}, {\"weight\": 2, \"source\": \"richard.shapiro\", \"target\": \"roger.yang\"}, {\"weight\": 4, \"source\": \"richard.shapiro\", \"target\": \"sharonda.stephens\"}, {\"weight\": 8, \"source\": \"richard.shapiro\", \"target\": \"shelley.corman\"}, {\"weight\": 19, \"source\": \"richard.shapiro\", \"target\": \"steffes\"}, {\"weight\": 2, \"source\": \"richard.shapiro\", \"target\": \"steve.hall\"}, {\"weight\": 16, \"source\": \"richard.shapiro\", \"target\": \"twanda.sweet\"}, {\"weight\": 4, \"source\": \"richard.shapiro\", \"target\": \"vicki.sharp\"}, {\"weight\": 15, \"source\": \"richard.shapiro\", \"target\": \"walsh\"}, {\"weight\": 28, \"source\": \"sandra.mccubbin\", \"target\": \"alan.comnes\"}, {\"weight\": 21, \"source\": \"sandra.mccubbin\", \"target\": \"bernadette.hawkins\"}, {\"weight\": 4, \"source\": \"sandra.mccubbin\", \"target\": \"carol.moffett\"}, {\"weight\": 8, \"source\": \"sandra.mccubbin\", \"target\": \"david.parquet\"}, {\"weight\": 12, \"source\": \"sandra.mccubbin\", \"target\": \"donna.fulton\"}, {\"weight\": 26, \"source\": \"sandra.mccubbin\", \"target\": \"janette.elbertson\"}, {\"weight\": 11, \"source\": \"sandra.mccubbin\", \"target\": \"joseph.alamo\"}, {\"weight\": 27, \"source\": \"sandra.mccubbin\", \"target\": \"mary.hain\"}, {\"weight\": 37, \"source\": \"sandra.mccubbin\", \"target\": \"matthew.gockerman\"}, {\"weight\": 18, \"source\": \"sandra.mccubbin\", \"target\": \"maureen.mcvicker\"}, {\"weight\": 2, \"source\": \"sandra.mccubbin\", \"target\": \"michael.tribolet\"}, {\"weight\": 27, \"source\": \"sandra.mccubbin\", \"target\": \"miyung.buster\"}, {\"weight\": 10, \"source\": \"sandra.mccubbin\", \"target\": \"rebecca.cantrell\"}, {\"weight\": 3, \"source\": \"sandra.mccubbin\", \"target\": \"richard.sanders\"}, {\"weight\": 2, \"source\": \"sandra.mccubbin\", \"target\": \"rob.bradley\"}, {\"weight\": 2, \"source\": \"sandra.mccubbin\", \"target\": \"robert.neustaedter\"}, {\"weight\": 4, \"source\": \"sandra.mccubbin\", \"target\": \"roger.yang\"}, {\"weight\": 2, \"source\": \"sandra.mccubbin\", \"target\": \"linda.robertson\"}, {\"weight\": 4, \"source\": \"sandra.mccubbin\", \"target\": \"mona.petrochko\"}, {\"weight\": 2, \"source\": \"sandra.mccubbin\", \"target\": \"mpalmer\"}, {\"weight\": 41, \"source\": \"sandra.mccubbin\", \"target\": \"steven.kean\"}, {\"weight\": 20, \"source\": \"sandra.mccubbin\", \"target\": \"susan.mara\"}, {\"weight\": 2, \"source\": \"sandra.mccubbin\", \"target\": \"tom.briggs\"}, {\"weight\": 12, \"source\": \"sandra.mccubbin\", \"target\": \"sarah.novosel\"}, {\"weight\": 10, \"source\": \"sandra.mccubbin\", \"target\": \"seabron.adamson\"}, {\"weight\": 4, \"source\": \"sandra.mccubbin\", \"target\": \"sharonda.stephens\"}, {\"weight\": 4, \"source\": \"sandra.mccubbin\", \"target\": \"steffes\"}, {\"weight\": 2, \"source\": \"sandra.mccubbin\", \"target\": \"steve.hall\"}, {\"weight\": 9, \"source\": \"sandra.mccubbin\", \"target\": \"twanda.sweet\"}, {\"weight\": 2, \"source\": \"sandra.mccubbin\", \"target\": \"vicki.sharp\"}, {\"weight\": 15, \"source\": \"skean\", \"target\": \"alan.comnes\"}, {\"weight\": 6, \"source\": \"skean\", \"target\": \"bernadette.hawkins\"}, {\"weight\": 6, \"source\": \"skean\", \"target\": \"edgroup\"}, {\"weight\": 5, \"source\": \"skean\", \"target\": \"joseph.alamo\"}, {\"weight\": 8, \"source\": \"skean\", \"target\": \"rcarroll\"}, {\"weight\": 2, \"source\": \"skean\", \"target\": \"rob.bradley\"}, {\"weight\": 6, \"source\": \"skean\", \"target\": \"sarah.novosel\"}, {\"weight\": 2, \"source\": \"skean\", \"target\": \"steven.kean\"}, {\"weight\": 18, \"source\": \"skean\", \"target\": \"susan.mara\"}, {\"weight\": 1, \"source\": \"kimberly.watson\", \"target\": \"elizabeth.brown\"}, {\"weight\": 10, \"source\": \"kimberly.watson\", \"target\": \"janet.butler\"}, {\"weight\": 2, \"source\": \"kimberly.watson\", \"target\": \"lindy.donoho\"}, {\"weight\": 2, \"source\": \"kimberly.watson\", \"target\": \"lorraine.lindberg\"}, {\"weight\": 136, \"source\": \"kimberly.watson\", \"target\": \"michelle.lokay\"}, {\"weight\": 1, \"source\": \"kimberly.watson\", \"target\": \"tk.lohman\"}, {\"weight\": 12, \"source\": \"kimberly.watson\", \"target\": \"lorna.brennan\"}, {\"weight\": 17, \"source\": \"alan.comnes\", \"target\": \"alan.comnes\"}, {\"weight\": 17, \"source\": \"alan.comnes\", \"target\": \"bernadette.hawkins\"}, {\"weight\": 3, \"source\": \"alan.comnes\", \"target\": \"bill.williams\"}, {\"weight\": 15, \"source\": \"alan.comnes\", \"target\": \"carol.moffett\"}, {\"weight\": 17, \"source\": \"alan.comnes\", \"target\": \"chris.foster\"}, {\"weight\": 20, \"source\": \"alan.comnes\", \"target\": \"christian.yoder\"}, {\"weight\": 12, \"source\": \"alan.comnes\", \"target\": \"christopher.calger\"}, {\"weight\": 5, \"source\": \"alan.comnes\", \"target\": \"d..steffes\"}, {\"weight\": 15, \"source\": \"alan.comnes\", \"target\": \"dan.leff\"}, {\"weight\": 13, \"source\": \"alan.comnes\", \"target\": \"david.parquet\"}, {\"weight\": 25, \"source\": \"alan.comnes\", \"target\": \"dennis.benevides\"}, {\"weight\": 25, \"source\": \"alan.comnes\", \"target\": \"don.black\"}, {\"weight\": 12, \"source\": \"alan.comnes\", \"target\": \"donna.fulton\"}, {\"weight\": 10, \"source\": \"alan.comnes\", \"target\": \"e-mail\"}, {\"weight\": 10, \"source\": \"alan.comnes\", \"target\": \"greg.whalley\"}, {\"weight\": 4, \"source\": \"alan.comnes\", \"target\": \"joe.hartsoe\"}, {\"weight\": 10, \"source\": \"alan.comnes\", \"target\": \"john.lavorato\"}, {\"weight\": 5, \"source\": \"alan.comnes\", \"target\": \"joseph.alamo\"}, {\"weight\": 15, \"source\": \"alan.comnes\", \"target\": \"leticia.botello\"}, {\"weight\": 20, \"source\": \"alan.comnes\", \"target\": \"linda.robertson\"}, {\"weight\": 10, \"source\": \"alan.comnes\", \"target\": \"louise.kitchen\"}, {\"weight\": 15, \"source\": \"alan.comnes\", \"target\": \"marty.sunde\"}, {\"weight\": 43, \"source\": \"alan.comnes\", \"target\": \"mary.hain\"}, {\"weight\": 2, \"source\": \"alan.comnes\", \"target\": \"michael.tribolet\"}, {\"weight\": 10, \"source\": \"alan.comnes\", \"target\": \"mike.grigsby\"}, {\"weight\": 10, \"source\": \"alan.comnes\", \"target\": \"mike.smith\"}, {\"weight\": 6, \"source\": \"alan.comnes\", \"target\": \"mollie.gustafson\"}, {\"weight\": 15, \"source\": \"alan.comnes\", \"target\": \"mpalmer\"}, {\"weight\": 8, \"source\": \"alan.comnes\", \"target\": \"peggy.mahoney\"}, {\"weight\": 10, \"source\": \"alan.comnes\", \"target\": \"phillip.allen\"}, {\"weight\": 6, \"source\": \"alan.comnes\", \"target\": \"ray.alvarez\"}, {\"weight\": 18, \"source\": \"alan.comnes\", \"target\": \"rebecca.cantrell\"}, {\"weight\": 2, \"source\": \"alan.comnes\", \"target\": \"richard.sanders\"}, {\"weight\": 21, \"source\": \"alan.comnes\", \"target\": \"robert.badeer\"}, {\"weight\": 10, \"source\": \"alan.comnes\", \"target\": \"robert.frank\"}, {\"weight\": 15, \"source\": \"alan.comnes\", \"target\": \"robert.williams\"}, {\"weight\": 15, \"source\": \"alan.comnes\", \"target\": \"roger.yang\"}, {\"weight\": 11, \"source\": \"alan.comnes\", \"target\": \"sarah.novosel\"}, {\"weight\": 10, \"source\": \"alan.comnes\", \"target\": \"steve.hall\"}, {\"weight\": 6, \"source\": \"alan.comnes\", \"target\": \"steven.kean\"}, {\"weight\": 36, \"source\": \"alan.comnes\", \"target\": \"susan.mara\"}, {\"weight\": 2, \"source\": \"alan.comnes\", \"target\": \"tim.belden\"}, {\"weight\": 7, \"source\": \"alan.comnes\", \"target\": \"tom.briggs\"}, {\"weight\": 1, \"source\": \"alan.comnes\", \"target\": \"tracy.ngo\"}, {\"weight\": 4, \"source\": \"alan.comnes\", \"target\": \"vicki.sharp\"}, {\"weight\": 15, \"source\": \"alan.comnes\", \"target\": \"wanda.curry\"}, {\"weight\": 15, \"source\": \"alan.comnes\", \"target\": \"william.bradford\"}, {\"weight\": 31, \"source\": \"alan.comnes\", \"target\": \"britt.whitman\"}, {\"weight\": 4, \"source\": \"alan.comnes\", \"target\": \"cantrell\"}, {\"weight\": 10, \"source\": \"alan.comnes\", \"target\": \"janet.butler\"}, {\"weight\": 13, \"source\": \"alan.comnes\", \"target\": \"john.shelk\"}, {\"weight\": 53, \"source\": \"alan.comnes\", \"target\": \"kristin.walsh\"}, {\"weight\": 12, \"source\": \"alan.comnes\", \"target\": \"maureen.mcvicker\"}, {\"weight\": 2, \"source\": \"alan.comnes\", \"target\": \"miyung.buster\"}, {\"weight\": 2, \"source\": \"alan.comnes\", \"target\": \"rob.bradley\"}, {\"weight\": 3, \"source\": \"alan.comnes\", \"target\": \"robert.johnston\"}, {\"weight\": 2, \"source\": \"alan.comnes\", \"target\": \"robert.neustaedter\"}, {\"weight\": 14, \"source\": \"alan.comnes\", \"target\": \"seabron.adamson\"}, {\"weight\": 10, \"source\": \"alan.comnes\", \"target\": \"steffes\"}, {\"weight\": 7, \"source\": \"alan.comnes\", \"target\": \"twanda.sweet\"}, {\"weight\": 8, \"source\": \"alan.comnes\", \"target\": \"walsh\"}, {\"weight\": 15, \"source\": \"bernadette.hawkins\", \"target\": \"bernadette.hawkins\"}, {\"weight\": 15, \"source\": \"bernadette.hawkins\", \"target\": \"carol.moffett\"}, {\"weight\": 9, \"source\": \"bernadette.hawkins\", \"target\": \"christian.yoder\"}, {\"weight\": 9, \"source\": \"bernadette.hawkins\", \"target\": \"christopher.calger\"}, {\"weight\": 15, \"source\": \"bernadette.hawkins\", \"target\": \"dan.leff\"}, {\"weight\": 15, \"source\": \"bernadette.hawkins\", \"target\": \"david.delainey\"}, {\"weight\": 9, \"source\": \"bernadette.hawkins\", \"target\": \"janette.elbertson\"}, {\"weight\": 25, \"source\": \"bernadette.hawkins\", \"target\": \"joe.hartsoe\"}, {\"weight\": 15, \"source\": \"bernadette.hawkins\", \"target\": \"john.lavorato\"}, {\"weight\": 5, \"source\": \"bernadette.hawkins\", \"target\": \"joseph.alamo\"}, {\"weight\": 9, \"source\": \"bernadette.hawkins\", \"target\": \"kathryn.sheppard\"}, {\"weight\": 9, \"source\": \"bernadette.hawkins\", \"target\": \"leticia.botello\"}, {\"weight\": 15, \"source\": \"bernadette.hawkins\", \"target\": \"linda.robertson\"}, {\"weight\": 15, \"source\": \"bernadette.hawkins\", \"target\": \"mark.haedicke\"}, {\"weight\": 24, \"source\": \"bernadette.hawkins\", \"target\": \"marty.sunde\"}, {\"weight\": 5, \"source\": \"bernadette.hawkins\", \"target\": \"mary.hain\"}, {\"weight\": 12, \"source\": \"bernadette.hawkins\", \"target\": \"maureen.mcvicker\"}, {\"weight\": 9, \"source\": \"bernadette.hawkins\", \"target\": \"michael.tribolet\"}, {\"weight\": 9, \"source\": \"bernadette.hawkins\", \"target\": \"mike.grigsby\"}, {\"weight\": 9, \"source\": \"bernadette.hawkins\", \"target\": \"mike.smith\"}, {\"weight\": 9, \"source\": \"bernadette.hawkins\", \"target\": \"mollie.gustafson\"}, {\"weight\": 6, \"source\": \"bernadette.hawkins\", \"target\": \"mona.petrochko\"}, {\"weight\": 6, \"source\": \"bernadette.hawkins\", \"target\": \"mpalmer\"}, {\"weight\": 9, \"source\": \"bernadette.hawkins\", \"target\": \"phillip.allen\"}, {\"weight\": 9, \"source\": \"bernadette.hawkins\", \"target\": \"richard.sanders\"}, {\"weight\": 9, \"source\": \"bernadette.hawkins\", \"target\": \"robert.badeer\"}, {\"weight\": 9, \"source\": \"bernadette.hawkins\", \"target\": \"robert.johnston\"}, {\"weight\": 9, \"source\": \"bernadette.hawkins\", \"target\": \"robert.williams\"}, {\"weight\": 9, \"source\": \"bernadette.hawkins\", \"target\": \"roger.yang\"}, {\"weight\": 6, \"source\": \"bernadette.hawkins\", \"target\": \"sarah.novosel\"}, {\"weight\": 15, \"source\": \"bernadette.hawkins\", \"target\": \"shelley.corman\"}, {\"weight\": 9, \"source\": \"bernadette.hawkins\", \"target\": \"steve.hall\"}, {\"weight\": 10, \"source\": \"bernadette.hawkins\", \"target\": \"steven.kean\"}, {\"weight\": 27, \"source\": \"bernadette.hawkins\", \"target\": \"susan.mara\"}, {\"weight\": 9, \"source\": \"bernadette.hawkins\", \"target\": \"tim.belden\"}, {\"weight\": 9, \"source\": \"bernadette.hawkins\", \"target\": \"twanda.sweet\"}, {\"weight\": 2, \"source\": \"bernadette.hawkins\", \"target\": \"vicki.sharp\"}, {\"weight\": 9, \"source\": \"bernadette.hawkins\", \"target\": \"wanda.curry\"}, {\"weight\": 15, \"source\": \"bernadette.hawkins\", \"target\": \"william.bradford\"}, {\"weight\": 6, \"source\": \"bill.williams\", \"target\": \"bill.williams\"}, {\"weight\": 18, \"source\": \"bill.williams\", \"target\": \"denton\"}, {\"weight\": 6, \"source\": \"bill.williams\", \"target\": \"edgroup\"}, {\"weight\": 1, \"source\": \"bill.williams\", \"target\": \"tim.belden\"}, {\"weight\": 2, \"source\": \"carol.moffett\", \"target\": \"dennis.benevides\"}, {\"weight\": 4, \"source\": \"carol.moffett\", \"target\": \"don.black\"}, {\"weight\": 3, \"source\": \"carol.moffett\", \"target\": \"greg.whalley\"}, {\"weight\": 24, \"source\": \"carol.moffett\", \"target\": \"leticia.botello\"}, {\"weight\": 2, \"source\": \"carol.moffett\", \"target\": \"marty.sunde\"}, {\"weight\": 2, \"source\": \"carol.moffett\", \"target\": \"mike.smith\"}, {\"weight\": 2, \"source\": \"carol.moffett\", \"target\": \"peggy.mahoney\"}, {\"weight\": 3, \"source\": \"carol.moffett\", \"target\": \"steven.kean\"}, {\"weight\": 5, \"source\": \"carol.moffett\", \"target\": \"joseph.alamo\"}, {\"weight\": 3, \"source\": \"carol.moffett\", \"target\": \"mary.hain\"}, {\"weight\": 22, \"source\": \"carol.moffett\", \"target\": \"susan.mara\"}, {\"weight\": 2, \"source\": \"carol.moffett\", \"target\": \"vicki.sharp\"}, {\"weight\": 2, \"source\": \"chris.foster\", \"target\": \"david.parquet\"}, {\"weight\": 5, \"source\": \"chris.foster\", \"target\": \"joseph.alamo\"}, {\"weight\": 8, \"source\": \"chris.foster\", \"target\": \"mary.hain\"}, {\"weight\": 6, \"source\": \"chris.foster\", \"target\": \"rhonda.denton\"}, {\"weight\": 2, \"source\": \"chris.foster\", \"target\": \"robert.neustaedter\"}, {\"weight\": 2, \"source\": \"chris.foster\", \"target\": \"steve.hall\"}, {\"weight\": 22, \"source\": \"chris.foster\", \"target\": \"susan.mara\"}, {\"weight\": 3, \"source\": \"chris.foster\", \"target\": \"tim.belden\"}, {\"weight\": 9, \"source\": \"chris.foster\", \"target\": \"tracy.ngo\"}, {\"weight\": 31, \"source\": \"christian.yoder\", \"target\": \"britt.whitman\"}, {\"weight\": 18, \"source\": \"christian.yoder\", \"target\": \"denton\"}, {\"weight\": 5, \"source\": \"christian.yoder\", \"target\": \"joseph.alamo\"}, {\"weight\": 73, \"source\": \"christian.yoder\", \"target\": \"kristin.walsh\"}, {\"weight\": 37, \"source\": \"christian.yoder\", \"target\": \"mary.hain\"}, {\"weight\": 37, \"source\": \"christian.yoder\", \"target\": \"matthew.gockerman\"}, {\"weight\": 2, \"source\": \"christian.yoder\", \"target\": \"michael.tribolet\"}, {\"weight\": 6, \"source\": \"christian.yoder\", \"target\": \"rhonda.denton\"}, {\"weight\": 6, \"source\": \"christian.yoder\", \"target\": \"richard.sanders\"}, {\"weight\": 3, \"source\": \"christian.yoder\", \"target\": \"robert.johnston\"}, {\"weight\": 2, \"source\": \"christian.yoder\", \"target\": \"robert.neustaedter\"}, {\"weight\": 5, \"source\": \"christian.yoder\", \"target\": \"steffes\"}, {\"weight\": 18, \"source\": \"christian.yoder\", \"target\": \"steve.hall\"}, {\"weight\": 6, \"source\": \"christian.yoder\", \"target\": \"steven.kean\"}, {\"weight\": 25, \"source\": \"christian.yoder\", \"target\": \"susan.mara\"}, {\"weight\": 4, \"source\": \"christian.yoder\", \"target\": \"tracy.ngo\"}, {\"weight\": 11, \"source\": \"christian.yoder\", \"target\": \"twanda.sweet\"}, {\"weight\": 2, \"source\": \"christian.yoder\", \"target\": \"vicki.sharp\"}, {\"weight\": 11, \"source\": \"christian.yoder\", \"target\": \"walsh\"}, {\"weight\": 3, \"source\": \"christopher.calger\", \"target\": \"britt.whitman\"}, {\"weight\": 2, \"source\": \"christopher.calger\", \"target\": \"tim.belden\"}, {\"weight\": 12, \"source\": \"christopher.calger\", \"target\": \"donna.fulton\"}, {\"weight\": 11, \"source\": \"christopher.calger\", \"target\": \"joseph.alamo\"}, {\"weight\": 68, \"source\": \"christopher.calger\", \"target\": \"kristin.walsh\"}, {\"weight\": 17, \"source\": \"christopher.calger\", \"target\": \"mary.hain\"}, {\"weight\": 3, \"source\": \"christopher.calger\", \"target\": \"mollie.gustafson\"}, {\"weight\": 4, \"source\": \"christopher.calger\", \"target\": \"ray.alvarez\"}, {\"weight\": 2, \"source\": \"christopher.calger\", \"target\": \"richard.sanders\"}, {\"weight\": 3, \"source\": \"christopher.calger\", \"target\": \"robert.johnston\"}, {\"weight\": 2, \"source\": \"christopher.calger\", \"target\": \"robert.neustaedter\"}, {\"weight\": 4, \"source\": \"christopher.calger\", \"target\": \"sarah.novosel\"}, {\"weight\": 4, \"source\": \"christopher.calger\", \"target\": \"steffes\"}, {\"weight\": 6, \"source\": \"christopher.calger\", \"target\": \"steve.hall\"}, {\"weight\": 6, \"source\": \"christopher.calger\", \"target\": \"steven.kean\"}, {\"weight\": 22, \"source\": \"christopher.calger\", \"target\": \"susan.mara\"}, {\"weight\": 2, \"source\": \"christopher.calger\", \"target\": \"tracy.ngo\"}, {\"weight\": 7, \"source\": \"christopher.calger\", \"target\": \"twanda.sweet\"}, {\"weight\": 28, \"source\": \"d..steffes\", \"target\": \"britt.whitman\"}, {\"weight\": 5, \"source\": \"d..steffes\", \"target\": \"cantrell\"}, {\"weight\": 1, \"source\": \"d..steffes\", \"target\": \"dan.leff\"}, {\"weight\": 31, \"source\": \"d..steffes\", \"target\": \"darran.binns\"}, {\"weight\": 3, \"source\": \"d..steffes\", \"target\": \"janette.elbertson\"}, {\"weight\": 11, \"source\": \"d..steffes\", \"target\": \"kristin.walsh\"}, {\"weight\": 4, \"source\": \"d..steffes\", \"target\": \"michael.tribolet\"}, {\"weight\": 1, \"source\": \"d..steffes\", \"target\": \"mike.smith\"}, {\"weight\": 3, \"source\": \"d..steffes\", \"target\": \"ray.alvarez\"}, {\"weight\": 3, \"source\": \"d..steffes\", \"target\": \"robert.frank\"}, {\"weight\": 1, \"source\": \"d..steffes\", \"target\": \"robert.neustaedter\"}, {\"weight\": 6, \"source\": \"d..steffes\", \"target\": \"sarah.novosel\"}, {\"weight\": 3, \"source\": \"d..steffes\", \"target\": \"steffes\"}, {\"weight\": 11, \"source\": \"d..steffes\", \"target\": \"susan.mara\"}, {\"weight\": 2, \"source\": \"d..steffes\", \"target\": \"vicki.sharp\"}, {\"weight\": 1, \"source\": \"d..steffes\", \"target\": \"wanda.curry\"}, {\"weight\": 28, \"source\": \"dan.leff\", \"target\": \"britt.whitman\"}, {\"weight\": 6, \"source\": \"dan.leff\", \"target\": \"steven.kean\"}, {\"weight\": 4, \"source\": \"dan.leff\", \"target\": \"david.delainey\"}, {\"weight\": 29, \"source\": \"dan.leff\", \"target\": \"janette.elbertson\"}, {\"weight\": 5, \"source\": \"dan.leff\", \"target\": \"joseph.alamo\"}, {\"weight\": 3, \"source\": \"dan.leff\", \"target\": \"kristin.walsh\"}, {\"weight\": 24, \"source\": \"dan.leff\", \"target\": \"leticia.botello\"}, {\"weight\": 2, \"source\": \"dan.leff\", \"target\": \"mark.haedicke\"}, {\"weight\": 3, \"source\": \"dan.leff\", \"target\": \"richard.sanders\"}, {\"weight\": 3, \"source\": \"dan.leff\", \"target\": \"robert.frank\"}, {\"weight\": 2, \"source\": \"dan.leff\", \"target\": \"robert.neustaedter\"}, {\"weight\": 4, \"source\": \"dan.leff\", \"target\": \"robert.williams\"}, {\"weight\": 10, \"source\": \"dan.leff\", \"target\": \"steffes\"}, {\"weight\": 29, \"source\": \"dan.leff\", \"target\": \"susan.mara\"}, {\"weight\": 9, \"source\": \"dan.leff\", \"target\": \"twanda.sweet\"}, {\"weight\": 4, \"source\": \"dan.leff\", \"target\": \"vicki.sharp\"}, {\"weight\": 4, \"source\": \"dan.leff\", \"target\": \"wanda.curry\"}, {\"weight\": 6, \"source\": \"dan.leff\", \"target\": \"william.bradford\"}, {\"weight\": 2, \"source\": \"david.parquet\", \"target\": \"andybrwn\"}, {\"weight\": 4, \"source\": \"david.parquet\", \"target\": \"david.delainey\"}, {\"weight\": 7, \"source\": \"david.parquet\", \"target\": \"susan.mara\"}, {\"weight\": 12, \"source\": \"david.parquet\", \"target\": \"donna.fulton\"}, {\"weight\": 1, \"source\": \"david.parquet\", \"target\": \"kathryn.sheppard\"}, {\"weight\": 9, \"source\": \"david.parquet\", \"target\": \"mary.hain\"}, {\"weight\": 8, \"source\": \"david.parquet\", \"target\": \"maureen.mcvicker\"}, {\"weight\": 3, \"source\": \"david.parquet\", \"target\": \"mollie.gustafson\"}, {\"weight\": 2, \"source\": \"david.parquet\", \"target\": \"rebecca.cantrell\"}, {\"weight\": 4, \"source\": \"david.parquet\", \"target\": \"sarah.novosel\"}, {\"weight\": 10, \"source\": \"david.parquet\", \"target\": \"seabron.adamson\"}, {\"weight\": 12, \"source\": \"david.parquet\", \"target\": \"steven.kean\"}, {\"weight\": 5, \"source\": \"dennis.benevides\", \"target\": \"joseph.alamo\"}, {\"weight\": 24, \"source\": \"dennis.benevides\", \"target\": \"leticia.botello\"}, {\"weight\": 17, \"source\": \"dennis.benevides\", \"target\": \"mary.hain\"}, {\"weight\": 2, \"source\": \"dennis.benevides\", \"target\": \"mike.smith\"}, {\"weight\": 2, \"source\": \"dennis.benevides\", \"target\": \"mona.petrochko\"}, {\"weight\": 2, \"source\": \"dennis.benevides\", \"target\": \"peggy.mahoney\"}, {\"weight\": 2, \"source\": \"dennis.benevides\", \"target\": \"robert.neustaedter\"}, {\"weight\": 12, \"source\": \"dennis.benevides\", \"target\": \"roger.yang\"}, {\"weight\": 2, \"source\": \"dennis.benevides\", \"target\": \"sarah.novosel\"}, {\"weight\": 3, \"source\": \"dennis.benevides\", \"target\": \"steffes\"}, {\"weight\": 6, \"source\": \"dennis.benevides\", \"target\": \"steven.kean\"}, {\"weight\": 26, \"source\": \"dennis.benevides\", \"target\": \"susan.mara\"}, {\"weight\": 2, \"source\": \"dennis.benevides\", \"target\": \"vicki.sharp\"}, {\"weight\": 4, \"source\": \"dennis.benevides\", \"target\": \"wanda.curry\"}, {\"weight\": 31, \"source\": \"don.black\", \"target\": \"britt.whitman\"}, {\"weight\": 5, \"source\": \"don.black\", \"target\": \"cantrell\"}, {\"weight\": 5, \"source\": \"don.black\", \"target\": \"joseph.alamo\"}, {\"weight\": 45, \"source\": \"don.black\", \"target\": \"kristin.walsh\"}, {\"weight\": 24, \"source\": \"don.black\", \"target\": \"leticia.botello\"}, {\"weight\": 10, \"source\": \"don.black\", \"target\": \"michael.tribolet\"}, {\"weight\": 14, \"source\": \"don.black\", \"target\": \"rebecca.cantrell\"}, {\"weight\": 2, \"source\": \"don.black\", \"target\": \"richard.sanders\"}, {\"weight\": 3, \"source\": \"don.black\", \"target\": \"robert.johnston\"}, {\"weight\": 2, \"source\": \"don.black\", \"target\": \"robert.neustaedter\"}, {\"weight\": 10, \"source\": \"don.black\", \"target\": \"steffes\"}, {\"weight\": 6, \"source\": \"don.black\", \"target\": \"steven.kean\"}, {\"weight\": 25, \"source\": \"don.black\", \"target\": \"susan.mara\"}, {\"weight\": 7, \"source\": \"don.black\", \"target\": \"twanda.sweet\"}, {\"weight\": 6, \"source\": \"don.black\", \"target\": \"vicki.sharp\"}, {\"weight\": 6, \"source\": \"don.black\", \"target\": \"walsh\"}, {\"weight\": 4, \"source\": \"don.black\", \"target\": \"wanda.curry\"}, {\"weight\": 5, \"source\": \"donna.fulton\", \"target\": \"cantrell\"}, {\"weight\": 20, \"source\": \"donna.fulton\", \"target\": \"joe.hartsoe\"}, {\"weight\": 12, \"source\": \"donna.fulton\", \"target\": \"linda.robertson\"}, {\"weight\": 20, \"source\": \"donna.fulton\", \"target\": \"mary.hain\"}, {\"weight\": 8, \"source\": \"donna.fulton\", \"target\": \"mona.petrochko\"}, {\"weight\": 9, \"source\": \"donna.fulton\", \"target\": \"sarah.novosel\"}, {\"weight\": 20, \"source\": \"donna.fulton\", \"target\": \"steven.kean\"}, {\"weight\": 20, \"source\": \"donna.fulton\", \"target\": \"susan.mara\"}, {\"weight\": 12, \"source\": \"donna.fulton\", \"target\": \"tim.belden\"}, {\"weight\": 12, \"source\": \"donna.fulton\", \"target\": \"tom.briggs\"}, {\"weight\": 10, \"source\": \"donna.fulton\", \"target\": \"janet.butler\"}, {\"weight\": 10, \"source\": \"donna.fulton\", \"target\": \"joseph.alamo\"}, {\"weight\": 7, \"source\": \"donna.fulton\", \"target\": \"maureen.mcvicker\"}, {\"weight\": 4, \"source\": \"donna.fulton\", \"target\": \"ray.alvarez\"}, {\"weight\": 18, \"source\": \"donna.fulton\", \"target\": \"rebecca.cantrell\"}, {\"weight\": 2, \"source\": \"donna.fulton\", \"target\": \"steffes\"}, {\"weight\": 12, \"source\": \"e-mail\", \"target\": \"laurie.rutherford1\"}, {\"weight\": 50, \"source\": \"e-mail\", \"target\": \"steffes\"}, {\"weight\": 39, \"source\": \"greg.whalley\", \"target\": \"janette.elbertson\"}, {\"weight\": 12, \"source\": \"greg.whalley\", \"target\": \"kristin.walsh\"}, {\"weight\": 5, \"source\": \"greg.whalley\", \"target\": \"mark.haedicke\"}, {\"weight\": 37, \"source\": \"greg.whalley\", \"target\": \"matthew.gockerman\"}, {\"weight\": 13, \"source\": \"greg.whalley\", \"target\": \"maureen.mcvicker\"}, {\"weight\": 5, \"source\": \"greg.whalley\", \"target\": \"richard.sanders\"}, {\"weight\": 3, \"source\": \"greg.whalley\", \"target\": \"robert.frank\"}, {\"weight\": 44, \"source\": \"greg.whalley\", \"target\": \"robert.johnston\"}, {\"weight\": 4, \"source\": \"greg.whalley\", \"target\": \"robert.williams\"}, {\"weight\": 2, \"source\": \"greg.whalley\", \"target\": \"steffes\"}, {\"weight\": 33, \"source\": \"greg.whalley\", \"target\": \"steven.kean\"}, {\"weight\": 11, \"source\": \"greg.whalley\", \"target\": \"twanda.sweet\"}, {\"weight\": 2, \"source\": \"greg.whalley\", \"target\": \"vicki.sharp\"}, {\"weight\": 6, \"source\": \"greg.whalley\", \"target\": \"william.bradford\"}, {\"weight\": 1, \"source\": \"joe.hartsoe\", \"target\": \"cantrell\"}, {\"weight\": 31, \"source\": \"joe.hartsoe\", \"target\": \"darran.binns\"}, {\"weight\": 10, \"source\": \"joe.hartsoe\", \"target\": \"janet.butler\"}, {\"weight\": 36, \"source\": \"joe.hartsoe\", \"target\": \"janette.elbertson\"}, {\"weight\": 2, \"source\": \"joe.hartsoe\", \"target\": \"joe.hartsoe\"}, {\"weight\": 2, \"source\": \"joe.hartsoe\", \"target\": \"linda.robertson\"}, {\"weight\": 28, \"source\": \"joe.hartsoe\", \"target\": \"mary.hain\"}, {\"weight\": 18, \"source\": \"joe.hartsoe\", \"target\": \"sarah.novosel\"}, {\"weight\": 22, \"source\": \"joe.hartsoe\", \"target\": \"susan.mara\"}, {\"weight\": 13, \"source\": \"joe.hartsoe\", \"target\": \"john.shelk\"}, {\"weight\": 16, \"source\": \"joe.hartsoe\", \"target\": \"joseph.alamo\"}, {\"weight\": 1, \"source\": \"joe.hartsoe\", \"target\": \"mark.haedicke\"}, {\"weight\": 12, \"source\": \"joe.hartsoe\", \"target\": \"maureen.mcvicker\"}, {\"weight\": 1, \"source\": \"joe.hartsoe\", \"target\": \"michael.norden\"}, {\"weight\": 2, \"source\": \"joe.hartsoe\", \"target\": \"michael.tribolet\"}, {\"weight\": 27, \"source\": \"joe.hartsoe\", \"target\": \"miyung.buster\"}, {\"weight\": 10, \"source\": \"joe.hartsoe\", \"target\": \"rebecca.cantrell\"}, {\"weight\": 3, \"source\": \"joe.hartsoe\", \"target\": \"richard.sanders\"}, {\"weight\": 4, \"source\": \"joe.hartsoe\", \"target\": \"rob.bradley\"}, {\"weight\": 2, \"source\": \"joe.hartsoe\", \"target\": \"robert.neustaedter\"}, {\"weight\": 6, \"source\": \"joe.hartsoe\", \"target\": \"shelley.corman\"}, {\"weight\": 2, \"source\": \"joe.hartsoe\", \"target\": \"steffes\"}, {\"weight\": 28, \"source\": \"joe.hartsoe\", \"target\": \"steven.kean\"}, {\"weight\": 11, \"source\": \"joe.hartsoe\", \"target\": \"twanda.sweet\"}, {\"weight\": 2, \"source\": \"joe.hartsoe\", \"target\": \"vicki.sharp\"}, {\"weight\": 31, \"source\": \"john.lavorato\", \"target\": \"britt.whitman\"}, {\"weight\": 8, \"source\": \"john.lavorato\", \"target\": \"david.delainey\"}, {\"weight\": 10, \"source\": \"john.lavorato\", \"target\": \"janette.elbertson\"}, {\"weight\": 3, \"source\": \"john.lavorato\", \"target\": \"phillip.allen\"}, {\"weight\": 245, \"source\": \"john.lavorato\", \"target\": \"kristin.walsh\"}, {\"weight\": 4, \"source\": \"john.lavorato\", \"target\": \"mark.haedicke\"}, {\"weight\": 5, \"source\": \"john.lavorato\", \"target\": \"mary.hain\"}, {\"weight\": 23, \"source\": \"john.lavorato\", \"target\": \"matthew.gockerman\"}, {\"weight\": 13, \"source\": \"john.lavorato\", \"target\": \"maureen.mcvicker\"}, {\"weight\": 3, \"source\": \"john.lavorato\", \"target\": \"richard.sanders\"}, {\"weight\": 16, \"source\": \"john.lavorato\", \"target\": \"robert.johnston\"}, {\"weight\": 2, \"source\": \"john.lavorato\", \"target\": \"robert.neustaedter\"}, {\"weight\": 5, \"source\": \"john.lavorato\", \"target\": \"sarah.novosel\"}, {\"weight\": 12, \"source\": \"john.lavorato\", \"target\": \"steffes\"}, {\"weight\": 15, \"source\": \"john.lavorato\", \"target\": \"steven.kean\"}, {\"weight\": 7, \"source\": \"john.lavorato\", \"target\": \"susan.mara\"}, {\"weight\": 9, \"source\": \"john.lavorato\", \"target\": \"twanda.sweet\"}, {\"weight\": 4, \"source\": \"john.lavorato\", \"target\": \"vicki.sharp\"}, {\"weight\": 15, \"source\": \"john.lavorato\", \"target\": \"walsh\"}, {\"weight\": 12, \"source\": \"john.lavorato\", \"target\": \"william.bradford\"}, {\"weight\": 32, \"source\": \"joseph.alamo\", \"target\": \"janette.elbertson\"}, {\"weight\": 10, \"source\": \"joseph.alamo\", \"target\": \"joseph.alamo\"}, {\"weight\": 5, \"source\": \"joseph.alamo\", \"target\": \"leticia.botello\"}, {\"weight\": 5, \"source\": \"joseph.alamo\", \"target\": \"linda.robertson\"}, {\"weight\": 5, \"source\": \"joseph.alamo\", \"target\": \"marty.sunde\"}, {\"weight\": 3, \"source\": \"joseph.alamo\", \"target\": \"mary.hain\"}, {\"weight\": 12, \"source\": \"joseph.alamo\", \"target\": \"maureen.mcvicker\"}, {\"weight\": 5, \"source\": \"joseph.alamo\", \"target\": \"michael.tribolet\"}, {\"weight\": 10, \"source\": \"joseph.alamo\", \"target\": \"mike.smith\"}, {\"weight\": 6, \"source\": \"joseph.alamo\", \"target\": \"mona.petrochko\"}, {\"weight\": 5, \"source\": \"joseph.alamo\", \"target\": \"mpalmer\"}, {\"weight\": 5, \"source\": \"joseph.alamo\", \"target\": \"peggy.mahoney\"}, {\"weight\": 5, \"source\": \"joseph.alamo\", \"target\": \"phillip.allen\"}, {\"weight\": 5, \"source\": \"joseph.alamo\", \"target\": \"ray.alvarez\"}, {\"weight\": 5, \"source\": \"joseph.alamo\", \"target\": \"richard.sanders\"}, {\"weight\": 11, \"source\": \"joseph.alamo\", \"target\": \"robert.badeer\"}, {\"weight\": 3, \"source\": \"joseph.alamo\", \"target\": \"robert.frank\"}, {\"weight\": 10, \"source\": \"joseph.alamo\", \"target\": \"robert.neustaedter\"}, {\"weight\": 5, \"source\": \"joseph.alamo\", \"target\": \"robert.williams\"}, {\"weight\": 13, \"source\": \"joseph.alamo\", \"target\": \"roger.yang\"}, {\"weight\": 16, \"source\": \"joseph.alamo\", \"target\": \"sarah.novosel\"}, {\"weight\": 5, \"source\": \"joseph.alamo\", \"target\": \"steve.hall\"}, {\"weight\": 11, \"source\": \"joseph.alamo\", \"target\": \"steven.kean\"}, {\"weight\": 13, \"source\": \"joseph.alamo\", \"target\": \"susan.mara\"}, {\"weight\": 11, \"source\": \"joseph.alamo\", \"target\": \"tim.belden\"}, {\"weight\": 5, \"source\": \"joseph.alamo\", \"target\": \"tom.briggs\"}, {\"weight\": 5, \"source\": \"joseph.alamo\", \"target\": \"tracy.ngo\"}, {\"weight\": 2, \"source\": \"joseph.alamo\", \"target\": \"vicki.sharp\"}, {\"weight\": 1, \"source\": \"joseph.alamo\", \"target\": \"wanda.curry\"}, {\"weight\": 5, \"source\": \"joseph.alamo\", \"target\": \"william.bradford\"}, {\"weight\": 12, \"source\": \"joseph.alamo\", \"target\": \"miyung.buster\"}, {\"weight\": 24, \"source\": \"leticia.botello\", \"target\": \"marty.sunde\"}, {\"weight\": 24, \"source\": \"leticia.botello\", \"target\": \"mike.smith\"}, {\"weight\": 20, \"source\": \"leticia.botello\", \"target\": \"roger.yang\"}, {\"weight\": 2, \"source\": \"leticia.botello\", \"target\": \"vicki.sharp\"}, {\"weight\": 24, \"source\": \"leticia.botello\", \"target\": \"wanda.curry\"}, {\"weight\": 24, \"source\": \"leticia.botello\", \"target\": \"william.bradford\"}, {\"weight\": 3, \"source\": \"leticia.botello\", \"target\": \"mary.hain\"}, {\"weight\": 22, \"source\": \"leticia.botello\", \"target\": \"susan.mara\"}, {\"weight\": 31, \"source\": \"linda.robertson\", \"target\": \"darran.binns\"}, {\"weight\": 10, \"source\": \"linda.robertson\", \"target\": \"janet.butler\"}, {\"weight\": 18, \"source\": \"linda.robertson\", \"target\": \"john.shelk\"}, {\"weight\": 47, \"source\": \"linda.robertson\", \"target\": \"steven.kean\"}, {\"weight\": 28, \"source\": \"linda.robertson\", \"target\": \"susan.mara\"}, {\"weight\": 20, \"source\": \"linda.robertson\", \"target\": \"mary.hain\"}, {\"weight\": 12, \"source\": \"linda.robertson\", \"target\": \"maureen.mcvicker\"}, {\"weight\": 2, \"source\": \"linda.robertson\", \"target\": \"michael.tribolet\"}, {\"weight\": 13, \"source\": \"linda.robertson\", \"target\": \"miyung.buster\"}, {\"weight\": 3, \"source\": \"linda.robertson\", \"target\": \"ray.alvarez\"}, {\"weight\": 5, \"source\": \"linda.robertson\", \"target\": \"rcarroll\"}, {\"weight\": 2, \"source\": \"linda.robertson\", \"target\": \"rebecca.cantrell\"}, {\"weight\": 12, \"source\": \"linda.robertson\", \"target\": \"rob.bradley\"}, {\"weight\": 2, \"source\": \"linda.robertson\", \"target\": \"robert.neustaedter\"}, {\"weight\": 8, \"source\": \"linda.robertson\", \"target\": \"sarah.novosel\"}, {\"weight\": 4, \"source\": \"linda.robertson\", \"target\": \"sharonda.stephens\"}, {\"weight\": 6, \"source\": \"linda.robertson\", \"target\": \"shelley.corman\"}, {\"weight\": 10, \"source\": \"linda.robertson\", \"target\": \"steffes\"}, {\"weight\": 4, \"source\": \"linda.robertson\", \"target\": \"vicki.sharp\"}, {\"weight\": 31, \"source\": \"louise.kitchen\", \"target\": \"britt.whitman\"}, {\"weight\": 2, \"source\": \"louise.kitchen\", \"target\": \"enron.cuttings\"}, {\"weight\": 39, \"source\": \"louise.kitchen\", \"target\": \"janette.elbertson\"}, {\"weight\": 231, \"source\": \"louise.kitchen\", \"target\": \"kristin.walsh\"}, {\"weight\": 5, \"source\": \"louise.kitchen\", \"target\": \"mark.haedicke\"}, {\"weight\": 23, \"source\": \"louise.kitchen\", \"target\": \"matthew.gockerman\"}, {\"weight\": 3, \"source\": \"louise.kitchen\", \"target\": \"richard.sanders\"}, {\"weight\": 3, \"source\": \"louise.kitchen\", \"target\": \"robert.frank\"}, {\"weight\": 16, \"source\": \"louise.kitchen\", \"target\": \"robert.johnston\"}, {\"weight\": 5, \"source\": \"louise.kitchen\", \"target\": \"sarah.novosel\"}, {\"weight\": 7, \"source\": \"louise.kitchen\", \"target\": \"steffes\"}, {\"weight\": 9, \"source\": \"louise.kitchen\", \"target\": \"steven.kean\"}, {\"weight\": 5, \"source\": \"louise.kitchen\", \"target\": \"susan.mara\"}, {\"weight\": 9, \"source\": \"louise.kitchen\", \"target\": \"twanda.sweet\"}, {\"weight\": 2, \"source\": \"louise.kitchen\", \"target\": \"vicki.sharp\"}, {\"weight\": 15, \"source\": \"louise.kitchen\", \"target\": \"walsh\"}, {\"weight\": 20, \"source\": \"marty.sunde\", \"target\": \"mary.hain\"}, {\"weight\": 2, \"source\": \"marty.sunde\", \"target\": \"michael.tribolet\"}, {\"weight\": 2, \"source\": \"marty.sunde\", \"target\": \"mike.smith\"}, {\"weight\": 2, \"source\": \"marty.sunde\", \"target\": \"robert.neustaedter\"}, {\"weight\": 4, \"source\": \"marty.sunde\", \"target\": \"robert.williams\"}, {\"weight\": 4, \"source\": \"marty.sunde\", \"target\": \"steffes\"}, {\"weight\": 6, \"source\": \"marty.sunde\", \"target\": \"steven.kean\"}, {\"weight\": 18, \"source\": \"marty.sunde\", \"target\": \"susan.mara\"}, {\"weight\": 4, \"source\": \"marty.sunde\", \"target\": \"vicki.sharp\"}, {\"weight\": 4, \"source\": \"marty.sunde\", \"target\": \"wanda.curry\"}, {\"weight\": 6, \"source\": \"marty.sunde\", \"target\": \"william.bradford\"}, {\"weight\": 6, \"source\": \"mary.hain\", \"target\": \"edgroup\"}, {\"weight\": 3, \"source\": \"mary.hain\", \"target\": \"david.delainey\"}, {\"weight\": 3, \"source\": \"mary.hain\", \"target\": \"janette.elbertson\"}, {\"weight\": 13, \"source\": \"mary.hain\", \"target\": \"jdasovic\"}, {\"weight\": 3, \"source\": \"mary.hain\", \"target\": \"kathryn.sheppard\"}, {\"weight\": 20, \"source\": \"mary.hain\", \"target\": \"mark.haedicke\"}, {\"weight\": 20, \"source\": \"mary.hain\", \"target\": \"mary.hain\"}, {\"weight\": 14, \"source\": \"mary.hain\", \"target\": \"maureen.mcvicker\"}, {\"weight\": 2, \"source\": \"mary.hain\", \"target\": \"michael.tribolet\"}, {\"weight\": 20, \"source\": \"mary.hain\", \"target\": \"mike.grigsby\"}, {\"weight\": 30, \"source\": \"mary.hain\", \"target\": \"mike.smith\"}, {\"weight\": 23, \"source\": \"mary.hain\", \"target\": \"mona.petrochko\"}, {\"weight\": 22, \"source\": \"mary.hain\", \"target\": \"phillip.allen\"}, {\"weight\": 42, \"source\": \"mary.hain\", \"target\": \"richard.sanders\"}, {\"weight\": 33, \"source\": \"mary.hain\", \"target\": \"robert.badeer\"}, {\"weight\": 20, \"source\": \"mary.hain\", \"target\": \"robert.frank\"}, {\"weight\": 20, \"source\": \"mary.hain\", \"target\": \"robert.johnston\"}, {\"weight\": 20, \"source\": \"mary.hain\", \"target\": \"robert.williams\"}, {\"weight\": 20, \"source\": \"mary.hain\", \"target\": \"roger.yang\"}, {\"weight\": 20, \"source\": \"mary.hain\", \"target\": \"sarah.novosel\"}, {\"weight\": 22, \"source\": \"mary.hain\", \"target\": \"steve.hall\"}, {\"weight\": 14, \"source\": \"mary.hain\", \"target\": \"steven.kean\"}, {\"weight\": 20, \"source\": \"mary.hain\", \"target\": \"susan.mara\"}, {\"weight\": 44, \"source\": \"mary.hain\", \"target\": \"tim.belden\"}, {\"weight\": 3, \"source\": \"mary.hain\", \"target\": \"tracy.ngo\"}, {\"weight\": 4, \"source\": \"mary.hain\", \"target\": \"twanda.sweet\"}, {\"weight\": 2, \"source\": \"mary.hain\", \"target\": \"vicki.sharp\"}, {\"weight\": 20, \"source\": \"mary.hain\", \"target\": \"wanda.curry\"}, {\"weight\": 20, \"source\": \"mary.hain\", \"target\": \"william.bradford\"}, {\"weight\": 5, \"source\": \"mary.hain\", \"target\": \"miyung.buster\"}, {\"weight\": 45, \"source\": \"mary.hain\", \"target\": \"rcarroll\"}, {\"weight\": 6, \"source\": \"mary.hain\", \"target\": \"rhonda.denton\"}, {\"weight\": 2, \"source\": \"mary.hain\", \"target\": \"rob.bradley\"}, {\"weight\": 2, \"source\": \"mary.hain\", \"target\": \"robert.neustaedter\"}, {\"weight\": 2, \"source\": \"mary.hain\", \"target\": \"seabron.adamson\"}, {\"weight\": 4, \"source\": \"mary.hain\", \"target\": \"steffes\"}, {\"weight\": 39, \"source\": \"michael.tribolet\", \"target\": \"janette.elbertson\"}, {\"weight\": 2, \"source\": \"michael.tribolet\", \"target\": \"mark.haedicke\"}, {\"weight\": 2, \"source\": \"michael.tribolet\", \"target\": \"michael.tribolet\"}, {\"weight\": 2, \"source\": \"michael.tribolet\", \"target\": \"mike.grigsby\"}, {\"weight\": 2, \"source\": \"michael.tribolet\", \"target\": \"mike.smith\"}, {\"weight\": 2, \"source\": \"michael.tribolet\", \"target\": \"phillip.allen\"}, {\"weight\": 3, \"source\": \"michael.tribolet\", \"target\": \"richard.sanders\"}, {\"weight\": 2, \"source\": \"michael.tribolet\", \"target\": \"robert.badeer\"}, {\"weight\": 2, \"source\": \"michael.tribolet\", \"target\": \"robert.johnston\"}, {\"weight\": 3, \"source\": \"michael.tribolet\", \"target\": \"robert.neustaedter\"}, {\"weight\": 2, \"source\": \"michael.tribolet\", \"target\": \"robert.williams\"}, {\"weight\": 2, \"source\": \"michael.tribolet\", \"target\": \"roger.yang\"}, {\"weight\": 2, \"source\": \"michael.tribolet\", \"target\": \"sarah.novosel\"}, {\"weight\": 6, \"source\": \"michael.tribolet\", \"target\": \"steve.hall\"}, {\"weight\": 6, \"source\": \"michael.tribolet\", \"target\": \"steven.kean\"}, {\"weight\": 24, \"source\": \"michael.tribolet\", \"target\": \"susan.mara\"}, {\"weight\": 2, \"source\": \"michael.tribolet\", \"target\": \"tim.belden\"}, {\"weight\": 4, \"source\": \"michael.tribolet\", \"target\": \"vicki.sharp\"}, {\"weight\": 1, \"source\": \"michael.tribolet\", \"target\": \"wanda.curry\"}, {\"weight\": 6, \"source\": \"michael.tribolet\", \"target\": \"william.bradford\"}, {\"weight\": 3, \"source\": \"michael.tribolet\", \"target\": \"robert.frank\"}, {\"weight\": 14, \"source\": \"michael.tribolet\", \"target\": \"steffes\"}, {\"weight\": 9, \"source\": \"michael.tribolet\", \"target\": \"twanda.sweet\"}, {\"weight\": 31, \"source\": \"mike.grigsby\", \"target\": \"britt.whitman\"}, {\"weight\": 2, \"source\": \"mike.grigsby\", \"target\": \"cantrell\"}, {\"weight\": 252, \"source\": \"mike.grigsby\", \"target\": \"kristin.walsh\"}, {\"weight\": 12, \"source\": \"mike.grigsby\", \"target\": \"phillip.allen\"}, {\"weight\": 2, \"source\": \"mike.grigsby\", \"target\": \"richard.sanders\"}, {\"weight\": 16, \"source\": \"mike.grigsby\", \"target\": \"robert.johnston\"}, {\"weight\": 2, \"source\": \"mike.grigsby\", \"target\": \"robert.neustaedter\"}, {\"weight\": 2, \"source\": \"mike.grigsby\", \"target\": \"steffes\"}, {\"weight\": 6, \"source\": \"mike.grigsby\", \"target\": \"steven.kean\"}, {\"weight\": 7, \"source\": \"mike.grigsby\", \"target\": \"twanda.sweet\"}, {\"weight\": 15, \"source\": \"mike.grigsby\", \"target\": \"walsh\"}, {\"weight\": 10, \"source\": \"mike.smith\", \"target\": \"janet.butler\"}, {\"weight\": 2, \"source\": \"mike.smith\", \"target\": \"janette.elbertson\"}, {\"weight\": 13, \"source\": \"mike.smith\", \"target\": \"maureen.mcvicker\"}, {\"weight\": 2, \"source\": \"mike.smith\", \"target\": \"peggy.mahoney\"}, {\"weight\": 2, \"source\": \"mike.smith\", \"target\": \"roger.yang\"}, {\"weight\": 3, \"source\": \"mike.smith\", \"target\": \"robert.frank\"}, {\"weight\": 2, \"source\": \"mike.smith\", \"target\": \"robert.neustaedter\"}, {\"weight\": 4, \"source\": \"mike.smith\", \"target\": \"steffes\"}, {\"weight\": 24, \"source\": \"mike.smith\", \"target\": \"susan.mara\"}, {\"weight\": 8, \"source\": \"mike.smith\", \"target\": \"vicki.sharp\"}, {\"weight\": 4, \"source\": \"mike.smith\", \"target\": \"wanda.curry\"}, {\"weight\": 3, \"source\": \"mollie.gustafson\", \"target\": \"mollie.gustafson\"}, {\"weight\": 1, \"source\": \"mollie.gustafson\", \"target\": \"tim.belden\"}, {\"weight\": 10, \"source\": \"mpalmer\", \"target\": \"sarah.novosel\"}, {\"weight\": 18, \"source\": \"mpalmer\", \"target\": \"susan.mara\"}, {\"weight\": 31, \"source\": \"peggy.mahoney\", \"target\": \"darran.binns\"}, {\"weight\": 5, \"source\": \"peggy.mahoney\", \"target\": \"maureen.mcvicker\"}, {\"weight\": 27, \"source\": \"peggy.mahoney\", \"target\": \"miyung.buster\"}, {\"weight\": 23, \"source\": \"peggy.mahoney\", \"target\": \"steven.kean\"}, {\"weight\": 2, \"source\": \"peggy.mahoney\", \"target\": \"vicki.sharp\"}, {\"weight\": 4, \"source\": \"peggy.mahoney\", \"target\": \"robert.williams\"}, {\"weight\": 4, \"source\": \"peggy.mahoney\", \"target\": \"sharonda.stephens\"}, {\"weight\": 3, \"source\": \"phillip.allen\", \"target\": \"britt.whitman\"}, {\"weight\": 5, \"source\": \"phillip.allen\", \"target\": \"john.shelk\"}, {\"weight\": 237, \"source\": \"phillip.allen\", \"target\": \"kristin.walsh\"}, {\"weight\": 13, \"source\": \"phillip.allen\", \"target\": \"maureen.mcvicker\"}, {\"weight\": 4, \"source\": \"phillip.allen\", \"target\": \"ray.alvarez\"}, {\"weight\": 17, \"source\": \"phillip.allen\", \"target\": \"rebecca.cantrell\"}, {\"weight\": 2, \"source\": \"phillip.allen\", \"target\": \"richard.sanders\"}, {\"weight\": 16, \"source\": \"phillip.allen\", \"target\": \"robert.johnston\"}, {\"weight\": 2, \"source\": \"phillip.allen\", \"target\": \"robert.neustaedter\"}, {\"weight\": 4, \"source\": \"phillip.allen\", \"target\": \"steffes\"}, {\"weight\": 6, \"source\": \"phillip.allen\", \"target\": \"steven.kean\"}, {\"weight\": 18, \"source\": \"phillip.allen\", \"target\": \"susan.mara\"}, {\"weight\": 7, \"source\": \"phillip.allen\", \"target\": \"twanda.sweet\"}, {\"weight\": 3, \"source\": \"ray.alvarez\", \"target\": \"britt.whitman\"}, {\"weight\": 4, \"source\": \"ray.alvarez\", \"target\": \"cantrell\"}, {\"weight\": 5, \"source\": \"ray.alvarez\", \"target\": \"janet.butler\"}, {\"weight\": 8, \"source\": \"ray.alvarez\", \"target\": \"john.shelk\"}, {\"weight\": 20, \"source\": \"ray.alvarez\", \"target\": \"kristin.walsh\"}, {\"weight\": 7, \"source\": \"ray.alvarez\", \"target\": \"maureen.mcvicker\"}, {\"weight\": 18, \"source\": \"ray.alvarez\", \"target\": \"rebecca.cantrell\"}, {\"weight\": 1, \"source\": \"ray.alvarez\", \"target\": \"robert.frank\"}, {\"weight\": 15, \"source\": \"ray.alvarez\", \"target\": \"susan.mara\"}, {\"weight\": 4, \"source\": \"ray.alvarez\", \"target\": \"tim.belden\"}, {\"weight\": 9, \"source\": \"ray.alvarez\", \"target\": \"rcarroll\"}, {\"weight\": 2, \"source\": \"ray.alvarez\", \"target\": \"richard.sanders\"}, {\"weight\": 12, \"source\": \"ray.alvarez\", \"target\": \"rob.bradley\"}, {\"weight\": 3, \"source\": \"ray.alvarez\", \"target\": \"robert.johnston\"}, {\"weight\": 2, \"source\": \"ray.alvarez\", \"target\": \"sarah.novosel\"}, {\"weight\": 6, \"source\": \"ray.alvarez\", \"target\": \"shelley.corman\"}, {\"weight\": 5, \"source\": \"ray.alvarez\", \"target\": \"steffes\"}, {\"weight\": 4, \"source\": \"ray.alvarez\", \"target\": \"steve.hall\"}, {\"weight\": 10, \"source\": \"ray.alvarez\", \"target\": \"steven.kean\"}, {\"weight\": 7, \"source\": \"ray.alvarez\", \"target\": \"twanda.sweet\"}, {\"weight\": 7, \"source\": \"rebecca.cantrell\", \"target\": \"maureen.mcvicker\"}, {\"weight\": 4, \"source\": \"rebecca.cantrell\", \"target\": \"richard.sanders\"}, {\"weight\": 14, \"source\": \"rebecca.cantrell\", \"target\": \"robert.frank\"}, {\"weight\": 6, \"source\": \"rebecca.cantrell\", \"target\": \"steven.kean\"}, {\"weight\": 20, \"source\": \"rebecca.cantrell\", \"target\": \"susan.mara\"}, {\"weight\": 2, \"source\": \"rebecca.cantrell\", \"target\": \"tim.belden\"}, {\"weight\": 2, \"source\": \"rebecca.cantrell\", \"target\": \"robert.neustaedter\"}, {\"weight\": 4, \"source\": \"rebecca.cantrell\", \"target\": \"steffes\"}, {\"weight\": 2, \"source\": \"richard.sanders\", \"target\": \"janette.elbertson\"}, {\"weight\": 19, \"source\": \"richard.sanders\", \"target\": \"kristin.walsh\"}, {\"weight\": 2, \"source\": \"richard.sanders\", \"target\": \"mark.haedicke\"}, {\"weight\": 23, \"source\": \"richard.sanders\", \"target\": \"matthew.gockerman\"}, {\"weight\": 13, \"source\": \"richard.sanders\", \"target\": \"maureen.mcvicker\"}, {\"weight\": 2, \"source\": \"richard.sanders\", \"target\": \"britt.whitman\"}, {\"weight\": 3, \"source\": \"richard.sanders\", \"target\": \"david.delainey\"}, {\"weight\": 2, \"source\": \"richard.sanders\", \"target\": \"lloyd.will\"}, {\"weight\": 1, \"source\": \"richard.sanders\", \"target\": \"richard.sanders\"}, {\"weight\": 6, \"source\": \"richard.sanders\", \"target\": \"robert.williams\"}, {\"weight\": 2, \"source\": \"richard.sanders\", \"target\": \"scott.tholan\"}, {\"weight\": 6, \"source\": \"richard.sanders\", \"target\": \"steve.hall\"}, {\"weight\": 6, \"source\": \"richard.sanders\", \"target\": \"steven.kean\"}, {\"weight\": 4, \"source\": \"richard.sanders\", \"target\": \"tim.belden\"}, {\"weight\": 9, \"source\": \"richard.sanders\", \"target\": \"twanda.sweet\"}, {\"weight\": 4, \"source\": \"richard.sanders\", \"target\": \"vicki.sharp\"}, {\"weight\": 2, \"source\": \"richard.sanders\", \"target\": \"vince.kaminski\"}, {\"weight\": 5, \"source\": \"richard.sanders\", \"target\": \"william.bradford\"}, {\"weight\": 2, \"source\": \"richard.sanders\", \"target\": \"robert.neustaedter\"}, {\"weight\": 4, \"source\": \"richard.sanders\", \"target\": \"steffes\"}, {\"weight\": 25, \"source\": \"richard.sanders\", \"target\": \"susan.mara\"}, {\"weight\": 18, \"source\": \"robert.badeer\", \"target\": \"denton\"}, {\"weight\": 1, \"source\": \"robert.badeer\", \"target\": \"kathryn.sheppard\"}, {\"weight\": 6, \"source\": \"robert.badeer\", \"target\": \"rhonda.denton\"}, {\"weight\": 2, \"source\": \"robert.badeer\", \"target\": \"robert.neustaedter\"}, {\"weight\": 4, \"source\": \"robert.badeer\", \"target\": \"steffes\"}, {\"weight\": 6, \"source\": \"robert.badeer\", \"target\": \"steve.hall\"}, {\"weight\": 6, \"source\": \"robert.badeer\", \"target\": \"steven.kean\"}, {\"weight\": 26, \"source\": \"robert.badeer\", \"target\": \"susan.mara\"}, {\"weight\": 5, \"source\": \"robert.badeer\", \"target\": \"tim.belden\"}, {\"weight\": 4, \"source\": \"robert.badeer\", \"target\": \"tracy.ngo\"}, {\"weight\": 2, \"source\": \"robert.badeer\", \"target\": \"vicki.sharp\"}, {\"weight\": 4, \"source\": \"robert.frank\", \"target\": \"cantrell\"}, {\"weight\": 3, \"source\": \"robert.frank\", \"target\": \"janette.elbertson\"}, {\"weight\": 12, \"source\": \"robert.frank\", \"target\": \"maureen.mcvicker\"}, {\"weight\": 3, \"source\": \"robert.frank\", \"target\": \"rcarroll\"}, {\"weight\": 3, \"source\": \"robert.frank\", \"target\": \"david.delainey\"}, {\"weight\": 3, \"source\": \"robert.frank\", \"target\": \"drew.fossum\"}, {\"weight\": 3, \"source\": \"robert.frank\", \"target\": \"tim.belden\"}, {\"weight\": 3, \"source\": \"robert.frank\", \"target\": \"twanda.sweet\"}, {\"weight\": 3, \"source\": \"robert.frank\", \"target\": \"vicki.sharp\"}, {\"weight\": 2, \"source\": \"robert.frank\", \"target\": \"robert.neustaedter\"}, {\"weight\": 2, \"source\": \"robert.frank\", \"target\": \"sarah.novosel\"}, {\"weight\": 11, \"source\": \"robert.frank\", \"target\": \"steffes\"}, {\"weight\": 5, \"source\": \"robert.frank\", \"target\": \"susan.mara\"}, {\"weight\": 14, \"source\": \"robert.williams\", \"target\": \"janette.elbertson\"}, {\"weight\": 6, \"source\": \"robert.williams\", \"target\": \"mark.haedicke\"}, {\"weight\": 2, \"source\": \"robert.williams\", \"target\": \"robert.neustaedter\"}, {\"weight\": 4, \"source\": \"robert.williams\", \"target\": \"david.delainey\"}, {\"weight\": 2, \"source\": \"robert.williams\", \"target\": \"robert.williams\"}, {\"weight\": 4, \"source\": \"robert.williams\", \"target\": \"vicki.sharp\"}, {\"weight\": 18, \"source\": \"robert.williams\", \"target\": \"susan.mara\"}, {\"weight\": 11, \"source\": \"robert.williams\", \"target\": \"twanda.sweet\"}, {\"weight\": 5, \"source\": \"roger.yang\", \"target\": \"miyung.buster\"}, {\"weight\": 10, \"source\": \"roger.yang\", \"target\": \"mona.petrochko\"}, {\"weight\": 2, \"source\": \"roger.yang\", \"target\": \"susan.mara\"}, {\"weight\": 6, \"source\": \"roger.yang\", \"target\": \"steven.kean\"}, {\"weight\": 2, \"source\": \"roger.yang\", \"target\": \"vicki.sharp\"}, {\"weight\": 10, \"source\": \"sarah.novosel\", \"target\": \"janet.butler\"}, {\"weight\": 1, \"source\": \"sarah.novosel\", \"target\": \"john.shelk\"}, {\"weight\": 12, \"source\": \"sarah.novosel\", \"target\": \"maureen.mcvicker\"}, {\"weight\": 4, \"source\": \"sarah.novosel\", \"target\": \"jdasovic\"}, {\"weight\": 16, \"source\": \"sarah.novosel\", \"target\": \"mona.petrochko\"}, {\"weight\": 12, \"source\": \"sarah.novosel\", \"target\": \"sarah.novosel\"}, {\"weight\": 6, \"source\": \"sarah.novosel\", \"target\": \"steven.kean\"}, {\"weight\": 26, \"source\": \"sarah.novosel\", \"target\": \"susan.mara\"}, {\"weight\": 7, \"source\": \"sarah.novosel\", \"target\": \"tim.belden\"}, {\"weight\": 4, \"source\": \"sarah.novosel\", \"target\": \"tom.briggs\"}, {\"weight\": 1, \"source\": \"sarah.novosel\", \"target\": \"steffes\"}, {\"weight\": 2, \"source\": \"sarah.novosel\", \"target\": \"vicki.sharp\"}, {\"weight\": 3, \"source\": \"steve.hall\", \"target\": \"britt.whitman\"}, {\"weight\": 59, \"source\": \"steve.hall\", \"target\": \"kristin.walsh\"}, {\"weight\": 3, \"source\": \"steve.hall\", \"target\": \"robert.johnston\"}, {\"weight\": 2, \"source\": \"steve.hall\", \"target\": \"robert.neustaedter\"}, {\"weight\": 3, \"source\": \"steve.hall\", \"target\": \"steffes\"}, {\"weight\": 4, \"source\": \"steve.hall\", \"target\": \"mark.haedicke\"}, {\"weight\": 2, \"source\": \"steve.hall\", \"target\": \"steven.kean\"}, {\"weight\": 18, \"source\": \"steve.hall\", \"target\": \"susan.mara\"}, {\"weight\": 12, \"source\": \"steve.hall\", \"target\": \"tim.belden\"}, {\"weight\": 4, \"source\": \"steve.hall\", \"target\": \"tracy.ngo\"}, {\"weight\": 2, \"source\": \"steve.hall\", \"target\": \"vicki.sharp\"}, {\"weight\": 2, \"source\": \"steve.hall\", \"target\": \"wanda.curry\"}, {\"weight\": 2, \"source\": \"steve.hall\", \"target\": \"william.bradford\"}, {\"weight\": 7, \"source\": \"steve.hall\", \"target\": \"twanda.sweet\"}, {\"weight\": 3, \"source\": \"steven.kean\", \"target\": \"britt.whitman\"}, {\"weight\": 21, \"source\": \"steven.kean\", \"target\": \"gavin.dillingham\"}, {\"weight\": 10, \"source\": \"steven.kean\", \"target\": \"janet.butler\"}, {\"weight\": 36, \"source\": \"steven.kean\", \"target\": \"janette.elbertson\"}, {\"weight\": 13, \"source\": \"steven.kean\", \"target\": \"john.shelk\"}, {\"weight\": 192, \"source\": \"steven.kean\", \"target\": \"kristin.walsh\"}, {\"weight\": 12, \"source\": \"steven.kean\", \"target\": \"mark.haedicke\"}, {\"weight\": 37, \"source\": \"steven.kean\", \"target\": \"matthew.gockerman\"}, {\"weight\": 41, \"source\": \"steven.kean\", \"target\": \"maureen.mcvicker\"}, {\"weight\": 68, \"source\": \"steven.kean\", \"target\": \"miyung.buster\"}, {\"weight\": 12, \"source\": \"steven.kean\", \"target\": \"park.account\"}, {\"weight\": 12, \"source\": \"steven.kean\", \"target\": \"rob.bradley\"}, {\"weight\": 6, \"source\": \"steven.kean\", \"target\": \"robert.johnston\"}, {\"weight\": 2, \"source\": \"steven.kean\", \"target\": \"robert.neustaedter\"}, {\"weight\": 5, \"source\": \"steven.kean\", \"target\": \"rosario.carbone\"}, {\"weight\": 4, \"source\": \"steven.kean\", \"target\": \"sharonda.stephens\"}, {\"weight\": 14, \"source\": \"steven.kean\", \"target\": \"shelley.corman\"}, {\"weight\": 4, \"source\": \"steven.kean\", \"target\": \"steffes\"}, {\"weight\": 6, \"source\": \"steven.kean\", \"target\": \"david.delainey\"}, {\"weight\": 7, \"source\": \"steven.kean\", \"target\": \"mona.petrochko\"}, {\"weight\": 9, \"source\": \"steven.kean\", \"target\": \"steven.kean\"}, {\"weight\": 6, \"source\": \"steven.kean\", \"target\": \"susan.mara\"}, {\"weight\": 6, \"source\": \"steven.kean\", \"target\": \"tim.belden\"}, {\"weight\": 6, \"source\": \"steven.kean\", \"target\": \"tom.briggs\"}, {\"weight\": 9, \"source\": \"steven.kean\", \"target\": \"vicki.sharp\"}, {\"weight\": 6, \"source\": \"steven.kean\", \"target\": \"wanda.curry\"}, {\"weight\": 12, \"source\": \"steven.kean\", \"target\": \"william.bradford\"}, {\"weight\": 16, \"source\": \"steven.kean\", \"target\": \"twanda.sweet\"}, {\"weight\": 15, \"source\": \"steven.kean\", \"target\": \"walsh\"}, {\"weight\": 5, \"source\": \"susan.mara\", \"target\": \"cantrell\"}, {\"weight\": 31, \"source\": \"susan.mara\", \"target\": \"darran.binns\"}, {\"weight\": 10, \"source\": \"susan.mara\", \"target\": \"janet.butler\"}, {\"weight\": 3, \"source\": \"susan.mara\", \"target\": \"john.shelk\"}, {\"weight\": 20, \"source\": \"susan.mara\", \"target\": \"maureen.mcvicker\"}, {\"weight\": 27, \"source\": \"susan.mara\", \"target\": \"miyung.buster\"}, {\"weight\": 2, \"source\": \"susan.mara\", \"target\": \"mona.petrochko\"}, {\"weight\": 2, \"source\": \"susan.mara\", \"target\": \"rob.bradley\"}, {\"weight\": 22, \"source\": \"susan.mara\", \"target\": \"robert.neustaedter\"}, {\"weight\": 4, \"source\": \"susan.mara\", \"target\": \"sharonda.stephens\"}, {\"weight\": 40, \"source\": \"susan.mara\", \"target\": \"steffes\"}, {\"weight\": 5, \"source\": \"susan.mara\", \"target\": \"david.delainey\"}, {\"weight\": 3, \"source\": \"susan.mara\", \"target\": \"kristin.walsh\"}, {\"weight\": 28, \"source\": \"susan.mara\", \"target\": \"susan.mara\"}, {\"weight\": 33, \"source\": \"susan.mara\", \"target\": \"tim.belden\"}, {\"weight\": 23, \"source\": \"susan.mara\", \"target\": \"tracy.ngo\"}, {\"weight\": 6, \"source\": \"susan.mara\", \"target\": \"vicki.sharp\"}, {\"weight\": 26, \"source\": \"susan.mara\", \"target\": \"wanda.curry\"}, {\"weight\": 18, \"source\": \"susan.mara\", \"target\": \"william.bradford\"}, {\"weight\": 2, \"source\": \"susan.mara\", \"target\": \"twanda.sweet\"}, {\"weight\": 31, \"source\": \"tim.belden\", \"target\": \"britt.whitman\"}, {\"weight\": 4, \"source\": \"tim.belden\", \"target\": \"david.delainey\"}, {\"weight\": 18, \"source\": \"tim.belden\", \"target\": \"denton\"}, {\"weight\": 38, \"source\": \"tim.belden\", \"target\": \"janette.elbertson\"}, {\"weight\": 13, \"source\": \"tim.belden\", \"target\": \"john.shelk\"}, {\"weight\": 223, \"source\": \"tim.belden\", \"target\": \"kristin.walsh\"}, {\"weight\": 3, \"source\": \"tim.belden\", \"target\": \"mark.haedicke\"}, {\"weight\": 6, \"source\": \"tim.belden\", \"target\": \"rhonda.denton\"}, {\"weight\": 2, \"source\": \"tim.belden\", \"target\": \"rob.bradley\"}, {\"weight\": 10, \"source\": \"tim.belden\", \"target\": \"robert.johnston\"}, {\"weight\": 2, \"source\": \"tim.belden\", \"target\": \"robert.neustaedter\"}, {\"weight\": 18, \"source\": \"tim.belden\", \"target\": \"steffes\"}, {\"weight\": 5, \"source\": \"tim.belden\", \"target\": \"tim.belden\"}, {\"weight\": 4, \"source\": \"tim.belden\", \"target\": \"tracy.ngo\"}, {\"weight\": 13, \"source\": \"tim.belden\", \"target\": \"twanda.sweet\"}, {\"weight\": 4, \"source\": \"tim.belden\", \"target\": \"vicki.sharp\"}, {\"weight\": 15, \"source\": \"tim.belden\", \"target\": \"walsh\"}, {\"weight\": 17, \"source\": \"tom.briggs\", \"target\": \"darran.binns\"}, {\"weight\": 10, \"source\": \"tom.briggs\", \"target\": \"janet.butler\"}, {\"weight\": 18, \"source\": \"tom.briggs\", \"target\": \"john.shelk\"}, {\"weight\": 12, \"source\": \"tom.briggs\", \"target\": \"maureen.mcvicker\"}, {\"weight\": 13, \"source\": \"tom.briggs\", \"target\": \"miyung.buster\"}, {\"weight\": 4, \"source\": \"tom.briggs\", \"target\": \"robert.neustaedter\"}, {\"weight\": 6, \"source\": \"tom.briggs\", \"target\": \"shelley.corman\"}, {\"weight\": 4, \"source\": \"tom.briggs\", \"target\": \"steffes\"}, {\"weight\": 18, \"source\": \"tracy.ngo\", \"target\": \"denton\"}, {\"weight\": 6, \"source\": \"tracy.ngo\", \"target\": \"rhonda.denton\"}, {\"weight\": 1, \"source\": \"tracy.ngo\", \"target\": \"steffes\"}, {\"weight\": 6, \"source\": \"tracy.ngo\", \"target\": \"william.bradford\"}, {\"weight\": 4, \"source\": \"vicki.sharp\", \"target\": \"david.delainey\"}, {\"weight\": 39, \"source\": \"vicki.sharp\", \"target\": \"janette.elbertson\"}, {\"weight\": 2, \"source\": \"vicki.sharp\", \"target\": \"mark.haedicke\"}, {\"weight\": 2, \"source\": \"vicki.sharp\", \"target\": \"maureen.mcvicker\"}, {\"weight\": 2, \"source\": \"vicki.sharp\", \"target\": \"robert.neustaedter\"}, {\"weight\": 13, \"source\": \"vicki.sharp\", \"target\": \"steffes\"}, {\"weight\": 2, \"source\": \"vicki.sharp\", \"target\": \"twanda.sweet\"}, {\"weight\": 2, \"source\": \"vicki.sharp\", \"target\": \"kathryn.sheppard\"}, {\"weight\": 4, \"source\": \"vicki.sharp\", \"target\": \"kristin.walsh\"}, {\"weight\": 2, \"source\": \"vicki.sharp\", \"target\": \"robert.johnston\"}, {\"weight\": 2, \"source\": \"vicki.sharp\", \"target\": \"shelley.corman\"}, {\"weight\": 4, \"source\": \"vicki.sharp\", \"target\": \"wanda.curry\"}, {\"weight\": 6, \"source\": \"vicki.sharp\", \"target\": \"william.bradford\"}, {\"weight\": 11, \"source\": \"wanda.curry\", \"target\": \"steffes\"}, {\"weight\": 1, \"source\": \"wanda.curry\", \"target\": \"wanda.curry\"}, {\"weight\": 6, \"source\": \"wanda.curry\", \"target\": \"william.bradford\"}, {\"weight\": 12, \"source\": \"william.bradford\", \"target\": \"david.delainey\"}, {\"weight\": 32, \"source\": \"william.bradford\", \"target\": \"janette.elbertson\"}, {\"weight\": 4, \"source\": \"william.bradford\", \"target\": \"mark.haedicke\"}, {\"weight\": 6, \"source\": \"william.bradford\", \"target\": \"rhonda.denton\"}, {\"weight\": 2, \"source\": \"william.bradford\", \"target\": \"robert.neustaedter\"}, {\"weight\": 9, \"source\": \"william.bradford\", \"target\": \"twanda.sweet\"}, {\"weight\": 235, \"source\": \"kristin.walsh\", \"target\": \"britt.whitman\"}, {\"weight\": 35, \"source\": \"kristin.walsh\", \"target\": \"david.delainey\"}, {\"weight\": 208, \"source\": \"kristin.walsh\", \"target\": \"lloyd.will\"}, {\"weight\": 40, \"source\": \"kristin.walsh\", \"target\": \"robert.johnston\"}, {\"weight\": 263, \"source\": \"kristin.walsh\", \"target\": \"scott.tholan\"}, {\"weight\": 235, \"source\": \"kristin.walsh\", \"target\": \"vince.kaminski\"}, {\"weight\": 2, \"source\": \"kristin.walsh\", \"target\": \"robert.neustaedter\"}, {\"weight\": 8, \"source\": \"kristin.walsh\", \"target\": \"steffes\"}, {\"weight\": 31, \"source\": \"mona.petrochko\", \"target\": \"maureen.mcvicker\"}, {\"weight\": 27, \"source\": \"mona.petrochko\", \"target\": \"miyung.buster\"}, {\"weight\": 6, \"source\": \"jdasovic\", \"target\": \"douglass\"}, {\"weight\": 2, \"source\": \"jdasovic\", \"target\": \"frl3\"}, {\"weight\": 4, \"source\": \"jdasovic\", \"target\": \"jlhawkins\"}, {\"weight\": 2, \"source\": \"jdasovic\", \"target\": \"jwu\"}, {\"weight\": 55, \"source\": \"jdasovic\", \"target\": \"rcarroll\"}, {\"weight\": 2, \"source\": \"jdasovic\", \"target\": \"seabron.adamson\"}, {\"weight\": 8, \"source\": \"jdasovic\", \"target\": \"steven\"}, {\"weight\": 31, \"source\": \"david.delainey\", \"target\": \"britt.whitman\"}, {\"weight\": 4, \"source\": \"david.delainey\", \"target\": \"mark.haedicke\"}, {\"weight\": 36, \"source\": \"david.delainey\", \"target\": \"janette.elbertson\"}, {\"weight\": 13, \"source\": \"david.delainey\", \"target\": \"maureen.mcvicker\"}, {\"weight\": 2, \"source\": \"david.delainey\", \"target\": \"robert.neustaedter\"}, {\"weight\": 10, \"source\": \"david.delainey\", \"target\": \"steffes\"}, {\"weight\": 9, \"source\": \"david.delainey\", \"target\": \"twanda.sweet\"}, {\"weight\": 3, \"source\": \"janette.elbertson\", \"target\": \"drew.fossum\"}, {\"weight\": 7, \"source\": \"janette.elbertson\", \"target\": \"mark.haedicke\"}, {\"weight\": 2, \"source\": \"janette.elbertson\", \"target\": \"twanda.sweet\"}, {\"weight\": 3, \"source\": \"mark.haedicke\", \"target\": \"twanda.sweet\"}, {\"weight\": 23, \"source\": \"mark.haedicke\", \"target\": \"matthew.gockerman\"}, {\"weight\": 13, \"source\": \"mark.haedicke\", \"target\": \"maureen.mcvicker\"}, {\"weight\": 10, \"source\": \"maureen.mcvicker\", \"target\": \"gavin.dillingham\"}, {\"weight\": 12, \"source\": \"maureen.mcvicker\", \"target\": \"maureen.mcvicker\"}, {\"weight\": 12, \"source\": \"maureen.mcvicker\", \"target\": \"miyung.buster\"}, {\"weight\": 5, \"source\": \"maureen.mcvicker\", \"target\": \"rob.bradley\"}, {\"weight\": 12, \"source\": \"maureen.mcvicker\", \"target\": \"robert.neustaedter\"}, {\"weight\": 12, \"source\": \"maureen.mcvicker\", \"target\": \"sharonda.stephens\"}, {\"weight\": 5, \"source\": \"maureen.mcvicker\", \"target\": \"rosario.carbone\"}, {\"weight\": 5, \"source\": \"robert.johnston\", \"target\": \"britt.whitman\"}, {\"weight\": 9, \"source\": \"robert.johnston\", \"target\": \"lloyd.will\"}, {\"weight\": 67, \"source\": \"robert.johnston\", \"target\": \"scott.tholan\"}, {\"weight\": 4, \"source\": \"robert.johnston\", \"target\": \"vince.kaminski\"}, {\"weight\": 2, \"source\": \"robert.johnston\", \"target\": \"robert.neustaedter\"}, {\"weight\": 3, \"source\": \"robert.johnston\", \"target\": \"steffes\"}, {\"weight\": 2, \"source\": \"robert.johnston\", \"target\": \"walsh\"}, {\"weight\": 31, \"source\": \"shelley.corman\", \"target\": \"darran.binns\"}, {\"weight\": 21, \"source\": \"shelley.corman\", \"target\": \"elizabeth.brown\"}, {\"weight\": 10, \"source\": \"shelley.corman\", \"target\": \"janet.butler\"}, {\"weight\": 8, \"source\": \"shelley.corman\", \"target\": \"jeffery.fawcett\"}, {\"weight\": 8, \"source\": \"shelley.corman\", \"target\": \"john.shelk\"}, {\"weight\": 3, \"source\": \"shelley.corman\", \"target\": \"lorna.brennan\"}, {\"weight\": 1, \"source\": \"shelley.corman\", \"target\": \"michael.norden\"}, {\"weight\": 27, \"source\": \"shelley.corman\", \"target\": \"miyung.buster\"}, {\"weight\": 2, \"source\": \"shelley.corman\", \"target\": \"robert.neustaedter\"}, {\"weight\": 9, \"source\": \"shelley.corman\", \"target\": \"drew.fossum\"}, {\"weight\": 3, \"source\": \"shelley.corman\", \"target\": \"steffes\"}, {\"weight\": 7, \"source\": \"twanda.sweet\", \"target\": \"britt.whitman\"}, {\"weight\": 7, \"source\": \"twanda.sweet\", \"target\": \"lloyd.will\"}, {\"weight\": 7, \"source\": \"twanda.sweet\", \"target\": \"scott.tholan\"}, {\"weight\": 7, \"source\": \"twanda.sweet\", \"target\": \"vince.kaminski\"}, {\"weight\": 10, \"source\": \"rod.hayslett\", \"target\": \"janet.butler\"}, {\"weight\": 5, \"source\": \"rod.hayslett\", \"target\": \"lindy.donoho\"}, {\"weight\": 1, \"source\": \"rod.hayslett\", \"target\": \"michael.norden\"}, {\"weight\": 31, \"source\": \"britt.whitman\", \"target\": \"britt.whitman\"}, {\"weight\": 31, \"source\": \"britt.whitman\", \"target\": \"lloyd.will\"}, {\"weight\": 31, \"source\": \"britt.whitman\", \"target\": \"scott.tholan\"}, {\"weight\": 3, \"source\": \"britt.whitman\", \"target\": \"vince.kaminski\"}, {\"weight\": 15, \"source\": \"britt.whitman\", \"target\": \"walsh\"}, {\"weight\": 18, \"source\": \"lloyd.will\", \"target\": \"denton\"}, {\"weight\": 6, \"source\": \"lloyd.will\", \"target\": \"rhonda.denton\"}, {\"weight\": 15, \"source\": \"lloyd.will\", \"target\": \"walsh\"}, {\"weight\": 15, \"source\": \"scott.tholan\", \"target\": \"walsh\"}, {\"weight\": 5, \"source\": \"vince.kaminski\", \"target\": \"vince.kaminski\"}, {\"weight\": 31, \"source\": \"darran.binns\", \"target\": \"janet.butler\"}, {\"weight\": 31, \"source\": \"darran.binns\", \"target\": \"john.shelk\"}, {\"weight\": 7, \"source\": \"darran.binns\", \"target\": \"rob.bradley\"}, {\"weight\": 31, \"source\": \"darran.binns\", \"target\": \"robert.neustaedter\"}, {\"weight\": 4, \"source\": \"darran.binns\", \"target\": \"sharonda.stephens\"}, {\"weight\": 10, \"source\": \"janet.butler\", \"target\": \"drew.fossum\"}, {\"weight\": 15, \"source\": \"janet.butler\", \"target\": \"janet.butler\"}, {\"weight\": 10, \"source\": \"janet.butler\", \"target\": \"lorna.brennan\"}, {\"weight\": 1, \"source\": \"janet.butler\", \"target\": \"michael.norden\"}, {\"weight\": 10, \"source\": \"janet.butler\", \"target\": \"rob.bradley\"}, {\"weight\": 10, \"source\": \"janet.butler\", \"target\": \"robert.neustaedter\"}, {\"weight\": 12, \"source\": \"janet.butler\", \"target\": \"miyung.buster\"}, {\"weight\": 2, \"source\": \"john.shelk\", \"target\": \"miyung.buster\"}, {\"weight\": 1, \"source\": \"john.shelk\", \"target\": \"steffes\"}, {\"weight\": 27, \"source\": \"rob.bradley\", \"target\": \"miyung.buster\"}, {\"weight\": 2, \"source\": \"rob.bradley\", \"target\": \"robert.neustaedter\"}, {\"weight\": 4, \"source\": \"rob.bradley\", \"target\": \"steffes\"}, {\"weight\": 2, \"source\": \"robert.neustaedter\", \"target\": \"douglass\"}, {\"weight\": 2, \"source\": \"robert.neustaedter\", \"target\": \"miyung.buster\"}, {\"weight\": 4, \"source\": \"robert.neustaedter\", \"target\": \"steffes\"}, {\"weight\": 4, \"source\": \"elizabeth.brown\", \"target\": \"lindy.donoho\"}, {\"weight\": 1, \"source\": \"elizabeth.brown\", \"target\": \"tk.lohman\"}, {\"weight\": 2, \"source\": \"drew.fossum\", \"target\": \"jeffery.fawcett\"}, {\"weight\": 3, \"source\": \"drew.fossum\", \"target\": \"lindy.donoho\"}, {\"weight\": 4, \"source\": \"drew.fossum\", \"target\": \"lorna.brennan\"}, {\"weight\": 3, \"source\": \"drew.fossum\", \"target\": \"lorraine.lindberg\"}, {\"weight\": 3, \"source\": \"drew.fossum\", \"target\": \"tk.lohman\"}, {\"weight\": 1, \"source\": \"drew.fossum\", \"target\": \"michael.norden\"}, {\"weight\": 8, \"source\": \"jeffery.fawcett\", \"target\": \"lindy.donoho\"}, {\"weight\": 30, \"source\": \"jeffery.fawcett\", \"target\": \"lorna.brennan\"}, {\"weight\": 15, \"source\": \"jeffery.fawcett\", \"target\": \"lorraine.lindberg\"}, {\"weight\": 35, \"source\": \"jeffery.fawcett\", \"target\": \"michelle.lokay\"}, {\"weight\": 15, \"source\": \"jeffery.fawcett\", \"target\": \"tk.lohman\"}, {\"weight\": 2, \"source\": \"lindy.donoho\", \"target\": \"lorraine.lindberg\"}, {\"weight\": 161, \"source\": \"lindy.donoho\", \"target\": \"michelle.lokay\"}, {\"weight\": 2, \"source\": \"lindy.donoho\", \"target\": \"tk.lohman\"}, {\"weight\": 33, \"source\": \"lindy.donoho\", \"target\": \"lorna.brennan\"}, {\"weight\": 36, \"source\": \"lorna.brennan\", \"target\": \"lorraine.lindberg\"}, {\"weight\": 33, \"source\": \"lorna.brennan\", \"target\": \"michelle.lokay\"}, {\"weight\": 36, \"source\": \"lorna.brennan\", \"target\": \"tk.lohman\"}, {\"weight\": 161, \"source\": \"lorraine.lindberg\", \"target\": \"michelle.lokay\"}, {\"weight\": 161, \"source\": \"tk.lohman\", \"target\": \"michelle.lokay\"}, {\"weight\": 149, \"source\": \"michelle.lokay\", \"target\": \"michelle.lokay\"}, {\"weight\": 4, \"source\": \"sharonda.stephens\", \"target\": \"sharonda.stephens\"}]}, 1000, 600);\n",
       "    });\n",
       "  })(element);\n",
       "  "
      ],
      "text/plain": [
       "<IPython.core.display.Javascript object>"
      ]
     },
     "metadata": {},
     "output_type": "display_data"
    }
   ],
   "source": [
    "# this is needed to draw the d3 graph previously.\n",
    "display(Javascript(filename=\"include/js/d3draw.js\"))\n",
    "display(Javascript(\"\"\"(function(element){\n",
    "    require(['d3draw'], function(drawgraph) {          \n",
    "      drawgraph(\"#d3target\", %s, %d, %d);\n",
    "    });\n",
    "  })(element);\n",
    "  \"\"\" % (json.dumps(nx.node_link_data(G)), 1000, 600))\n",
    ")\n"
   ]
  },
  {
   "cell_type": "code",
   "execution_count": 25,
   "metadata": {
    "slideshow": {
     "slide_type": "skip"
    }
   },
   "outputs": [],
   "source": [
    "# to read/write graph data:\n",
    "#with open('data/G.json', 'w') as outfile:\n",
    "#    json.dump(nx.node_link_data(G), outfile)\n",
    "#with open('data/G.json') as data_file:\n",
    "#    G = nx.node_link_graph(json.load(data_file))"
   ]
  },
  {
   "cell_type": "code",
   "execution_count": null,
   "metadata": {
    "slideshow": {
     "slide_type": "skip"
    }
   },
   "outputs": [],
   "source": []
  }
 ],
 "metadata": {
  "celltoolbar": "Slideshow",
  "kernelspec": {
   "display_name": "Python 3",
   "language": "python",
   "name": "python3"
  },
  "language_info": {
   "codemirror_mode": {
    "name": "ipython",
    "version": 3
   },
   "file_extension": ".py",
   "mimetype": "text/x-python",
   "name": "python",
   "nbconvert_exporter": "python",
   "pygments_lexer": "ipython3",
   "version": "3.6.6"
  },
  "livereveal": {
   "overlay": "<div class='myheader'></div>"
  }
 },
 "nbformat": 4,
 "nbformat_minor": 2
}
