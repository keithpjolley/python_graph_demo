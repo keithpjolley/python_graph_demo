{
 "cells": [
  {
   "cell_type": "code",
   "execution_count": null,
   "metadata": {
    "slideshow": {
     "slide_type": "skip"
    }
   },
   "outputs": [],
   "source": [
    "import pandas as pd\n",
    "import numpy as np\n",
    "import scipy\n",
    "import networkx as nx\n",
    "import matplotlib.pyplot as plt\n",
    "import heapq\n",
    "import colorsys\n",
    "from sklearn.preprocessing import minmax_scale\n",
    "import json\n",
    "import sys\n",
    "from IPython.display import display, Javascript, HTML\n",
    "\n",
    "%matplotlib inline\n",
    "\n",
    "color = lambda c,n : \"#%02x%02x%02x\" % tuple(int(255*c) for c in colorsys.hsv_to_rgb(c/(n+1),1,1))\n",
    "updt = lambda d1,attr,d2 : [d1[k].update({attr:v}) for k,v in d2.items()]\n",
    "min_s, max_s = 100,700 # moon units?\n",
    "min_r, max_r = 6,20    # radius in pixels\n",
    "plt.ioff()             # have to use 'plt.show()'\n",
    "\n",
    "def plt2x2(G, beta):\n",
    "    f, (ax1, ax2) = plt.subplots(1, 2, num=None, figsize=(14, 8), dpi=72, facecolor='w', edgecolor='k')\n",
    "    Gplt = nx.draw_kamada_kawai(G, ax=ax1,\n",
    "        node_color=list(nx.get_node_attributes(G, 'color').values()),\n",
    "        node_size=list(nx.get_node_attributes(G, 'size').values()))\n",
    "    agaig = plt.imread(beta)\n",
    "    ax2.imshow(agaig)\n",
    "    ax2.set_title(\"What if this is as good as it gets?\")\n",
    "    return f\n",
    "\n",
    "def get_size(obj, seen=None):\n",
    "    \"\"\"Recursively finds size of objects\"\"\"\n",
    "    size = sys.getsizeof(obj)\n",
    "    if seen is None:\n",
    "        seen = set()\n",
    "    obj_id = id(obj)\n",
    "    if obj_id in seen:\n",
    "        return 0\n",
    "    # Important mark as seen *before* entering recursion to gracefully handle\n",
    "    # self-referential objects\n",
    "    seen.add(obj_id)\n",
    "    if isinstance(obj, dict):\n",
    "        size += sum([get_size(v, seen) for v in obj.values()])\n",
    "        size += sum([get_size(k, seen) for k in obj.keys()])\n",
    "    elif hasattr(obj, '__dict__'):\n",
    "        size += get_size(obj.__dict__, seen)\n",
    "    elif hasattr(obj, '__iter__') and not isinstance(obj, (str, bytes, bytearray)):\n",
    "        size += sum([get_size(i, seen) for i in obj])\n",
    "    return size"
   ]
  },
  {
   "cell_type": "code",
   "execution_count": null,
   "metadata": {
    "slideshow": {
     "slide_type": "skip"
    }
   },
   "outputs": [],
   "source": [
    "%%html\n",
    "<link rel=\"stylesheet\" href=\"/notebooks/include/css/style.css\" type=\"text/css\">"
   ]
  },
  {
   "cell_type": "code",
   "execution_count": null,
   "metadata": {},
   "outputs": [],
   "source": [
    "display(Javascript(\"require.config({paths: {d3: '/notebooks/include/js/d3.v4.min'}});\"))\n",
    "display(Javascript(filename=\"include/js/bg.js\"))\n",
    "display(Javascript(\"\"\"\n",
    "        (function(element){\n",
    "            require(['bg'], function(dobg) {          \n",
    "                dobg();\n",
    "            });\n",
    "        })(element);\n",
    "    \"\"\"))"
   ]
  },
  {
   "cell_type": "markdown",
   "metadata": {
    "slideshow": {
     "slide_type": "slide"
    }
   },
   "source": [
    "# Python & Graphs\n",
    "### Keith P Jolley"
   ]
  },
  {
   "cell_type": "markdown",
   "metadata": {
    "slideshow": {
     "slide_type": "slide"
    }
   },
   "source": [
    "# What's This Talk About?\n",
    "\n",
    "### 1. What is a graph?\n",
    "### 2. What can graphs be used for?\n",
    "### 3. A couple things to keep in mind when working with graphs.\n",
    "### 4. How to create graph in a handful of different python packages.\n",
    "### 5. A simple analysis using `networkx`.\n",
    "### 6. Visualizing the graphs."
   ]
  },
  {
   "cell_type": "markdown",
   "metadata": {
    "slideshow": {
     "slide_type": "slide"
    }
   },
   "source": [
    "## Keith P Jolley\n",
    "\n",
    "### Experience:\n",
    "- Jamul Heavy Industries - Owner\n",
    "- Technical Account Manager - NetApp\n",
    "- Senior Director, IT - Qualcomm\n",
    "\n",
    "### Education:\n",
    "- MS Analytics, 2020, Georgia Tech\n",
    "- MS Computational Science, 2013, SDSU\n",
    "- BS Aerospace Engineering, 1992, SDSU"
   ]
  },
  {
   "cell_type": "markdown",
   "metadata": {
    "slideshow": {
     "slide_type": "slide"
    }
   },
   "source": [
    "# What's a Graph or Network?\n",
    "\n",
    "A visual representation of **Nodes** and **Edges** that show how things are **connected**.\n",
    "\n",
    "**Nodes**, also called **vertices**, are the \"things\" in the network.\n",
    "\n",
    "**Edges**, also called **arcs**, are the \"connections\" in the network.\n",
    "\n",
    "Edges can have **weight**. An edge with weight shows the relative magnitude of the connectivity between two nodes.\n",
    "\n",
    "Edges can also have **direction**."
   ]
  },
  {
   "cell_type": "markdown",
   "metadata": {
    "slideshow": {
     "slide_type": "slide"
    }
   },
   "source": [
    "# Graph Examples\n",
    "\n",
    "- Social Network (LinkedIn: People, Companies, Jobs are nodes, edges are the connections)\n",
    "- Email Networks (Google Mail: People, Emails are nodes, sending/receiving emails are the edges)\n",
    "- Websites (Google: Pages are nodes, hyperlinks are the edges)\n",
    "- Roads (Waze: Intersections are vertices, roads are the edges, \"traffic\" is the weight)\n",
    "- [Oracle of Bacon](https://oracleofbacon.org/movielinks.php) (Actors are the nodes, \"credits\" are the edges)"
   ]
  },
  {
   "cell_type": "markdown",
   "metadata": {
    "slideshow": {
     "slide_type": "slide"
    }
   },
   "source": [
    "# You Should Know\n",
    "\n",
    "## Graphs become large quickly\n",
    "\n",
    "Worst case: $N^2$ where N is the number of nodes.\n",
    "\n",
    "A social network of all 2.1M Walmart employees is big.\n",
    "\n",
    "The graph of all ~2B Facebook users is really big.\n",
    "\n",
    "Google's graph \"every page google knows about\" is huge.\n",
    "\n",
    "If your graph has tens of millions or billions of nodes Python, and in particular `numpy` or `networkx`, may not be a good choice."
   ]
  },
  {
   "cell_type": "markdown",
   "metadata": {
    "slideshow": {
     "slide_type": "skip"
    }
   },
   "source": [
    "# You Should Know...\n",
    "\n",
    "## Specialized tools\n",
    "\n",
    "There are tools that are made for graphs that may be more appropriate as your graphs increase in size. For example:\n",
    "\n",
    "- [Neo4j](https://neo4j.com/) - Graph database\n",
    "- [Gephi](https://gephi.org/)\n",
    "- [Cytoscape](https://cytoscape.org/)\n",
    "- R (igraph - still supported?)\n",
    "- [Linkurious](https://linkurio.us/)\n",
    "\n",
    "Relational databases are a terrible choice for managing relationships!"
   ]
  },
  {
   "cell_type": "markdown",
   "metadata": {
    "slideshow": {
     "slide_type": "slide"
    }
   },
   "source": [
    "# You Should Know...\n",
    "\n",
    "## Visualization...\n",
    "\n",
    "Visualizing large graphs is hard. There are no good network visualization tools in Python as of late 2018. From the [authors](https://networkx.github.io/documentation/latest/reference/drawing.html) of `networkx`:\n",
    "\n",
    "> ## Drawing\n",
    "> In the future, graph visualization functionality may be removed from NetworkX or only available as an add-on package.\n",
    ">\n",
    "> Proper graph visualization is hard, and we highly recommend that people visualize their graphs with tools dedicated to that task.\n",
    ">"
   ]
  },
  {
   "cell_type": "markdown",
   "metadata": {
    "slideshow": {
     "slide_type": "slide"
    }
   },
   "source": [
    "# You Should Know...\n",
    "\n",
    "## Visualization...\n",
    "\n",
    "Hairball. Please don't do this. And I'm not blaming Python for this!\n",
    "![terrible graph visualization that looks like a hairball](include/images/hairball.png)"
   ]
  },
  {
   "cell_type": "markdown",
   "metadata": {
    "slideshow": {
     "slide_type": "slide"
    }
   },
   "source": [
    "# Let's Build A (directed, weighted) Network Already!"
   ]
  },
  {
   "cell_type": "markdown",
   "metadata": {
    "slideshow": {
     "slide_type": "slide"
    }
   },
   "source": [
    "### 0. Alice sends an email\n",
    "\n",
    "*Edge notation:* Alice -> (Bob, Carol, Dan)  \n",
    "*Matrix notation:*  \n",
    "<p></p>\n",
    "<div class=\"box\">\n",
    "    <div class=\"matrix\">\n",
    "$\\left[ \\begin{array}{cccc}\n",
    "      & A & B & C & D & E & F \\\\\n",
    "    A & {\\color{grey}0} & 1 & 1 & 1 & {\\color{grey}0} & {\\color{grey}0} \\\\\n",
    "    B & {\\color{grey}0} & {\\color{grey}0} & {\\color{grey}0} & {\\color{grey}0} & {\\color{grey}0} & {\\color{grey}0} \\\\\n",
    "    C & {\\color{grey}0} & {\\color{grey}0} & {\\color{grey}0} & {\\color{grey}0} & {\\color{grey}0} & {\\color{grey}0} \\\\\n",
    "    D & {\\color{grey}0} & {\\color{grey}0} & {\\color{grey}0} & {\\color{grey}0} & {\\color{grey}0} & {\\color{grey}0} \\\\\n",
    "    E & {\\color{grey}0} & {\\color{grey}0} & {\\color{grey}0} & {\\color{grey}0} & {\\color{grey}0} & {\\color{grey}0} \\\\\n",
    "    F & {\\color{grey}0} & {\\color{grey}0} & {\\color{grey}0} & {\\color{grey}0} & {\\color{grey}0} & {\\color{grey}0} \\\\\n",
    "  \\end{array}\n",
    "\\right] $\n",
    "    </div>\n",
    "    <div class=\"graph\">\n",
    "\n",
    "![step 1 graph](include/images/graphs.000.png)\n",
    "    </div>\n",
    "</div>\n",
    "\n",
    "*numpy:*"
   ]
  },
  {
   "cell_type": "code",
   "execution_count": null,
   "metadata": {
    "slideshow": {
     "slide_type": "fragment"
    }
   },
   "outputs": [],
   "source": [
    "Gnp = np.array([[0,1,1,1,0,0],\n",
    "                           [0,0,0,0,0,0],\n",
    "                           [0,0,0,0,0,0],\n",
    "                           [0,0,0,0,0,0],\n",
    "                           [0,0,0,0,0,0],\n",
    "                           [0,0,0,0,0,0]])"
   ]
  },
  {
   "cell_type": "markdown",
   "metadata": {
    "slideshow": {
     "slide_type": "slide"
    }
   },
   "source": [
    "### 1. Carol sends an email\n",
    "\n",
    "*Edge Notatation:* Carol -> (Alice, Bob, Dan)  \n",
    "*Matrix notation:*  \n",
    "<p></p>\n",
    "<div class=\"box\">\n",
    "    <div class=\"matrix\">\n",
    "$\\left[ \\begin{array}{cccc}\n",
    "      & A & B & C & D & E & F \\\\\n",
    "    A & {\\color{grey}0} & 1 & 1 & 1 & {\\color{grey}0} & {\\color{grey}0} \\\\\n",
    "    B & {\\color{grey}0} & {\\color{grey}0} & {\\color{grey}0} & {\\color{grey}0} & {\\color{grey}0} & {\\color{grey}0} \\\\\n",
    "    C & {\\color{blue} 1} & {\\color{blue} 1} & {\\color{grey}0} & {\\color{blue} 1} & {\\color{grey}0} & {\\color{grey}0} \\\\\n",
    "    D & {\\color{grey}0} & {\\color{grey}0} & {\\color{grey}0} & {\\color{grey}0} & {\\color{grey}0} & {\\color{grey}0} \\\\\n",
    "    E & {\\color{grey}0} & {\\color{grey}0} & {\\color{grey}0} & {\\color{grey}0} & {\\color{grey}0} & {\\color{grey}0} \\\\\n",
    "    F & {\\color{grey}0} & {\\color{grey}0} & {\\color{grey}0} & {\\color{grey}0} & {\\color{grey}0} & {\\color{grey}0} \\\\\n",
    "  \\end{array}\n",
    "\\right] $\n",
    "    </div>\n",
    "    <div class=\"graph\">\n",
    "\n",
    "![step 1 graph](include/images/graphs.001.png)\n",
    "    </div>\n",
    "</div>\n",
    "\n",
    "*numpy:*"
   ]
  },
  {
   "cell_type": "code",
   "execution_count": null,
   "metadata": {
    "slideshow": {
     "slide_type": "fragment"
    }
   },
   "outputs": [],
   "source": [
    "Gnp += np.array([[0,0,0,0,0,0],\n",
    "                             [0,0,0,0,0,0],\n",
    "                             [1,1,0,1,0,0],\n",
    "                             [0,0,0,0,0,0],\n",
    "                             [0,0,0,0,0,0],\n",
    "                             [0,0,0,0,0,0]])"
   ]
  },
  {
   "cell_type": "markdown",
   "metadata": {
    "slideshow": {
     "slide_type": "slide"
    }
   },
   "source": [
    "### 2. Carol sends another email\n",
    "\n",
    "*Edge Notation:* Carol -> (Erin, Frank)  \n",
    "*Matrix notation:*  \n",
    "<p></p>\n",
    "<div class=\"box\">\n",
    "    <div class=\"matrix\">\n",
    "$\\left[ \\begin{array}{cccc}\n",
    "      & A & B & C & D & E & F \\\\\n",
    "    A & {\\color{grey}0} & 1 & 1 & 1 & {\\color{grey}0} & {\\color{grey}0} \\\\\n",
    "    B & {\\color{grey}0} & {\\color{grey}0} & {\\color{grey}0} & {\\color{grey}0} & {\\color{grey}0} & {\\color{grey}0} \\\\\n",
    "     C & {\\color{blue}1} & {\\color{blue}1} & {\\color{grey}0} & {\\color{blue}1} & {\\color{green}1} & {\\color{green}1} \\\\\n",
    "    D & {\\color{grey}0} & {\\color{grey}0} & {\\color{grey}0} & {\\color{grey}0} & {\\color{grey}0} & {\\color{grey}0} \\\\\n",
    "    E & {\\color{grey}0} & {\\color{grey}0} & {\\color{grey}0} & {\\color{grey}0} & {\\color{grey}0} & {\\color{grey}0} \\\\\n",
    "    F & {\\color{grey}0} & {\\color{grey}0} & {\\color{grey}0} & {\\color{grey}0} & {\\color{grey}0} & {\\color{grey}0} \\\\\n",
    "  \\end{array}\n",
    "\\right] $\n",
    "    </div>\n",
    "    <div class=\"graph\">\n",
    "        \n",
    "![step 2 graph](include/images/graphs.002.png)\n",
    "    </div>\n",
    "</div>\n",
    "\n",
    "*numpy:*"
   ]
  },
  {
   "cell_type": "code",
   "execution_count": null,
   "metadata": {
    "slideshow": {
     "slide_type": "fragment"
    }
   },
   "outputs": [],
   "source": [
    "Gnp += np.array([[0,0,0,0,0,0], \n",
    "                             [0,0,0,0,0,0],\n",
    "                             [0,0,0,0,1,1],\n",
    "                             [0,0,0,0,0,0],\n",
    "                             [0,0,0,0,0,0],\n",
    "                             [0,0,0,0,0,0]])"
   ]
  },
  {
   "cell_type": "markdown",
   "metadata": {
    "slideshow": {
     "slide_type": "slide"
    }
   },
   "source": [
    "## With Sparse Matrix\n",
    "### 0. Alice sends an email\n",
    "\n",
    "*Edge notation:* Alice -> (Bob, Carol, Dan)  \n",
    "\n",
    "![step 1 graph](include/images/graphs.000.png)"
   ]
  },
  {
   "cell_type": "code",
   "execution_count": null,
   "metadata": {
    "slideshow": {
     "slide_type": "fragment"
    }
   },
   "outputs": [],
   "source": [
    "i2n = [\"Alice\", \"Bob\", \"Carol\", \"Dan\", \"Erin\", \"Frank\"]\n",
    "n2i = { n:i for i,n in enumerate(i2n) }\n",
    "weight = [1,1,1]\n",
    "frm = [n2i[\"Alice\"], n2i[\"Alice\"], n2i[\"Alice\"]]\n",
    "to_ = [n2i[\"Bob\"],   n2i[\"Carol\"], n2i[\"Dan\"]]\n",
    "Gsm = scipy.sparse.coo_matrix((weight, (frm, to_)), shape=(6,6))"
   ]
  },
  {
   "cell_type": "markdown",
   "metadata": {
    "slideshow": {
     "slide_type": "slide"
    }
   },
   "source": [
    "### 1. Carol sends an email\n",
    "\n",
    "*Edge Notatation:* Carol -> (Alice, Bob, Dan)  \n",
    "\n",
    "![step 1 graph](include/images/graphs.001.png)"
   ]
  },
  {
   "cell_type": "code",
   "execution_count": null,
   "metadata": {
    "slideshow": {
     "slide_type": "fragment"
    }
   },
   "outputs": [],
   "source": [
    "Gsm += scipy.sparse.coo_matrix(([1,1,1], ([2,2,2], [0,1,3])), shape=(6,6))  # no broadcasting w/ sparse matrix"
   ]
  },
  {
   "cell_type": "markdown",
   "metadata": {
    "slideshow": {
     "slide_type": "slide"
    }
   },
   "source": [
    "### 2. Carol sends another email\n",
    "\n",
    "*Edge Notation:* Carol -> (Erin, Frank)  \n",
    "        \n",
    "![step 2 graph](include/images/graphs.002.png)"
   ]
  },
  {
   "cell_type": "code",
   "execution_count": null,
   "metadata": {
    "slideshow": {
     "slide_type": "fragment"
    }
   },
   "outputs": [],
   "source": [
    "Gsm += scipy.sparse.coo_matrix(([1,1], ([2,2], [4,5])), shape=(6,6))\n",
    "display(Gsm.toarray())"
   ]
  },
  {
   "cell_type": "markdown",
   "metadata": {
    "slideshow": {
     "slide_type": "slide"
    }
   },
   "source": [
    "# With networkx"
   ]
  },
  {
   "cell_type": "code",
   "execution_count": null,
   "metadata": {
    "slideshow": {
     "slide_type": "fragment"
    }
   },
   "outputs": [],
   "source": [
    "import networkx as nx\n",
    "Gnx = nx.DiGraph()\n",
    "# Alice -> Bob, Carol, Dan\n",
    "Gnx.add_edge(\"Alice\", \"Bob\",   weight=1)\n",
    "Gnx.add_edge(\"Alice\", \"Carol\", weight=1)\n",
    "Gnx.add_edge(\"Alice\", \"Dan\",   weight=1)\n",
    "# Carol -> Alice, Bob, Dan\n",
    "Gnx.add_edge(\"Carol\", \"Alice\", weight=1)\n",
    "Gnx.add_edge(\"Carol\", \"Bob\",   weight=1)\n",
    "Gnx.add_edge(\"Carol\", \"Dan\",   weight=1)\n",
    "# Carol -> Erin, Frank\n",
    "Gnx.add_edge(\"Carol\", \"Erin\",  weight=1)\n",
    "Gnx.add_edge(\"Carol\", \"Frank\", weight=1)\n",
    "\n",
    "display(Gnx.edges(data=True))"
   ]
  },
  {
   "cell_type": "markdown",
   "metadata": {
    "slideshow": {
     "slide_type": "slide"
    }
   },
   "source": [
    "# Equivalence"
   ]
  },
  {
   "cell_type": "code",
   "execution_count": null,
   "metadata": {
    "slideshow": {
     "slide_type": "skip"
    }
   },
   "outputs": [],
   "source": [
    "print('Sparse Matrix:')\n",
    "print(Gsm)\n",
    "print(Gsm.toarray())"
   ]
  },
  {
   "cell_type": "markdown",
   "metadata": {
    "slideshow": {
     "slide_type": "skip"
    }
   },
   "source": [
    "# Equivalence (cont...)"
   ]
  },
  {
   "cell_type": "code",
   "execution_count": null,
   "metadata": {
    "slideshow": {
     "slide_type": "fragment"
    }
   },
   "outputs": [],
   "source": [
    "print(\"Is the numpy graph equal to the sparse matrix graph: {}\".format((Gnp == Gsm.toarray()).all()))\n",
    "print(\"Is the numpy graph equal to the networkx graph: {}\".format((Gnp == np.int64(nx.to_numpy_array(Gnx))).all()))"
   ]
  },
  {
   "cell_type": "markdown",
   "metadata": {
    "slideshow": {
     "slide_type": "fragment"
    }
   },
   "source": [
    "## The point is...\n",
    "There are different ways of approaching graph problems. Choose what works best for your situation."
   ]
  },
  {
   "cell_type": "markdown",
   "metadata": {
    "slideshow": {
     "slide_type": "slide"
    }
   },
   "source": [
    "# Show me something practical!\n",
    "## Hands-on with `networkx`"
   ]
  },
  {
   "cell_type": "markdown",
   "metadata": {
    "slideshow": {
     "slide_type": "slide"
    }
   },
   "source": [
    "# Enron Email Database\n",
    "- Available online.\n",
    "- Has complete text and headers of 3715057 emails.\n",
    "- I've parsed the database into a csv file.\n",
    "- Also dumped into `elasticsearch` but not used for this demo."
   ]
  },
  {
   "cell_type": "code",
   "execution_count": null,
   "metadata": {
    "slideshow": {
     "slide_type": "fragment"
    }
   },
   "outputs": [],
   "source": [
    "# NOTE! I gzipped this csv file to be nice w/ github. I recommend\n",
    "# uncompressing it for better performance. (Or not using a csv at all!)\n",
    "df = pd.read_csv(\"./data/enronmails.csv.gz\", compression='gzip', sep=\"\\t\") # there are better ways of doing this!\n",
    "print(\"total edges: \", df.shape[0])\n",
    "print(\"nodes: \", len(pd.unique(df[['to', 'from']].values.ravel('F'))), \"(This number squared is large!)\")\n",
    "print(\"sample data:\")\n",
    "display(df.head(n=5))"
   ]
  },
  {
   "cell_type": "markdown",
   "metadata": {
    "slideshow": {
     "slide_type": "slide"
    }
   },
   "source": [
    "## Create a directed, weighted Graph\n",
    "- **to:/from:** will be the nodes.\n",
    "- An edge represents an **email** was received.\n",
    "- ~40k **self loops**, e.g. (alice -> alice). These would show up on a matrix diagonal.\n",
    "- Create a 'weight' of `1` for each email received.\n",
    "- A handful of nodes do all the work."
   ]
  },
  {
   "cell_type": "code",
   "execution_count": null,
   "metadata": {
    "slideshow": {
     "slide_type": "-"
    }
   },
   "outputs": [],
   "source": [
    "# df_all is the complete network. Create edge weights in pandas.\n",
    "df_all = df.groupby(['from','to'], as_index=False).size().reset_index().rename(columns={0:'weight'})\n",
    "G = nx.from_pandas_edgelist(df_all, 'to', 'from', ['weight'])\n",
    "# multiple ways of finding the most 'connected' nodes\n",
    "# use 'pagerank'...\n",
    "pr = sorted(nx.pagerank_scipy(G, weight='weight').values(), key=lambda v: -v)\n",
    "plt.plot(pr)\n",
    "plt.title(\"Enron\")\n",
    "plt.ylabel(\"pagerank\")\n",
    "del df_all"
   ]
  },
  {
   "cell_type": "markdown",
   "metadata": {
    "slideshow": {
     "slide_type": "-"
    }
   },
   "source": [
    "The point is: typically only a few nodes do all the heavy lifting and the rest take up space."
   ]
  },
  {
   "cell_type": "markdown",
   "metadata": {
    "slideshow": {
     "slide_type": "slide"
    }
   },
   "source": [
    "# Find the graph of something interesting\n",
    "- Search for \"California\" in the *'subject:'* line.  \n",
    "> \"For most popular subjects, a simple text matching search that is restricted to web page titles performs admirably when PageRank prioritizes the results.\"  \n",
    "> – *Sergey Brin and Lawrence Page*, Stanford University\n",
    "- Warning - lots of code about to come at you.\n",
    "- Remember - much of the heavy lifting is done by only a few nodes\n",
    "- Interesting things happen when you combine graphs/searches."
   ]
  },
  {
   "cell_type": "code",
   "execution_count": null,
   "metadata": {
    "slideshow": {
     "slide_type": "slide"
    }
   },
   "outputs": [],
   "source": [
    "import community\n",
    "# Create a df of just the 'california' rows (elasticsearch is your friend!)\n",
    "df_cal = df[df.subject.str.contains(r'california', case=False)]\n",
    "df_cal = df_cal.groupby(['from','to'], as_index=False).size().reset_index().rename(columns={0:'weight'})\n",
    "G = nx.from_pandas_edgelist(df_cal, 'to', 'from', ['weight'])\n",
    "\n",
    "# Create a 'pagerank' dict and delete all but the 5% most relevant nodes.\n",
    "pagerank = nx.pagerank_scipy(G, weight='weight')\n",
    "eicentrality = nx.eigenvector_centrality_numpy(G)\n",
    "smalls = heapq.nsmallest(round(len(pagerank)*0.95), pagerank, key=pagerank.get)\n",
    "for k in smalls:\n",
    "    pagerank.pop(k, None)  # Trim the pagerank/eigenvector lists\n",
    "    eicentrality.pop(k, None)\n",
    "    G.remove_node(k)        # remove nodes (and edges) from graph\n",
    "# This can lead to nodes no longer connected to the main graph. Keep only largest graph.\n",
    "G = list(nx.connected_component_subgraphs(G))[0]\n",
    "\n",
    "# Louvain algorithm^H heuristic for community detection\n",
    "communities = community.best_partition(G)\n",
    "\n",
    "# dict of dicts: attributes for each node. Node size ~ 'pagerank', color on 'community'\n",
    "attrs = {k:{'pr':v} for k,v in pagerank.items()}\n",
    "updt(attrs, 'community', communities)\n",
    "updt(attrs, 'ei', eicentrality)\n",
    "updt(attrs, 'color', {k:color(v, max(communities.values())) for k,v in communities.items()})\n",
    "updt(attrs, 'size',   dict(zip(pagerank.keys(), minmax_scale(list(pagerank.values()),feature_range=(min_s,max_s)))))\n",
    "updt(attrs, 'radius', dict(zip(pagerank.keys(), minmax_scale(list(pagerank.values()),feature_range=(min_r,max_r)))))\n",
    "nx.set_node_attributes(G, attrs)"
   ]
  },
  {
   "cell_type": "code",
   "execution_count": null,
   "metadata": {
    "slideshow": {
     "slide_type": "skip"
    }
   },
   "outputs": [],
   "source": [
    "del attrs, pagerank, communities, smalls, df_cal, eicentrality"
   ]
  },
  {
   "cell_type": "markdown",
   "metadata": {
    "slideshow": {
     "slide_type": "slide"
    }
   },
   "source": [
    "# Using `matplotlib`"
   ]
  },
  {
   "cell_type": "code",
   "execution_count": null,
   "metadata": {
    "slideshow": {
     "slide_type": "-"
    }
   },
   "outputs": [],
   "source": [
    "_=plt2x2(G, 'include/images/agaig.jpg' )"
   ]
  },
  {
   "cell_type": "markdown",
   "metadata": {
    "slideshow": {
     "slide_type": "slide"
    }
   },
   "source": [
    "# Using `plotly`\n"
   ]
  },
  {
   "cell_type": "code",
   "execution_count": null,
   "metadata": {
    "slideshow": {
     "slide_type": "skip"
    }
   },
   "outputs": [],
   "source": [
    "import plotly.plotly as py\n",
    "import plotly.graph_objs as go"
   ]
  },
  {
   "cell_type": "code",
   "execution_count": null,
   "metadata": {
    "slideshow": {
     "slide_type": "skip"
    }
   },
   "outputs": [],
   "source": [
    "pos = nx.kamada_kawai_layout(G)\n",
    "edge_trace = go.Scatter(\n",
    "    x=[],\n",
    "    y=[],\n",
    "    line=dict(width=0.5,color='#888'),\n",
    "    hoverinfo='none',\n",
    "    mode='lines')\n",
    "\n",
    "for edge in G.edges():\n",
    "    x0, y0 = pos[edge[0]]\n",
    "    x1, y1 = pos[edge[1]]\n",
    "    edge_trace['x'] += tuple([x0, x1, None])\n",
    "    edge_trace['y'] += tuple([y0, y1, None])"
   ]
  },
  {
   "cell_type": "code",
   "execution_count": null,
   "metadata": {
    "slideshow": {
     "slide_type": "skip"
    }
   },
   "outputs": [],
   "source": [
    "node_trace = go.Scatter(\n",
    "    x=[],\n",
    "    y=[],\n",
    "    text=[],\n",
    "    mode='markers',\n",
    "    hoverinfo='text',\n",
    "    marker=dict(\n",
    "         color=[],\n",
    "         size=[]\n",
    "    )\n",
    ")\n",
    "\n",
    "def htext(node):\n",
    "    ret  = '<b>' + node + '</b><br>'\n",
    "    ret += '  pagerank: ' + str(G.nodes()[node]['pr']) + '<br>'\n",
    "    ret += 'eigen_cent: ' + str(G.nodes()[node]['ei']) + '<br>'\n",
    "    ret += ' community: ' + str(G.nodes()[node]['community'])\n",
    "    return ret\n",
    "\n",
    "for node in G.nodes():\n",
    "    #print(node)\n",
    "    x, y = pos[node]\n",
    "    node_trace['x'] += tuple([x])\n",
    "    node_trace['y'] += tuple([y])\n",
    "    node_trace['marker']['color'] += tuple([G.nodes()[node]['color']])\n",
    "    node_trace['marker']['size']  += tuple([2*G.nodes()[node]['radius']])\n",
    "    node_trace['text'] += tuple([htext(node)])"
   ]
  },
  {
   "cell_type": "code",
   "execution_count": null,
   "metadata": {
    "slideshow": {
     "slide_type": "skip"
    }
   },
   "outputs": [],
   "source": [
    "fig = go.Figure(data=[edge_trace, node_trace],\n",
    "             layout=go.Layout(\n",
    "                title='Network graph made with Python/plotly',\n",
    "                titlefont=dict(size=16),\n",
    "                showlegend=False,\n",
    "                hovermode='closest',\n",
    "                margin=dict(b=20,l=5,r=5,t=40),\n",
    "                annotations=[ dict(\n",
    "                    showarrow=False,\n",
    "                    xref=\"paper\", yref=\"paper\",\n",
    "                    x=0.005, y=-0.002 ) ],\n",
    "                xaxis=dict(showgrid=False, zeroline=False, showticklabels=False),\n",
    "                yaxis=dict(showgrid=False, zeroline=False, showticklabels=False)))"
   ]
  },
  {
   "cell_type": "code",
   "execution_count": null,
   "metadata": {
    "slideshow": {
     "slide_type": "-"
    }
   },
   "outputs": [],
   "source": [
    "py.iplot(fig, filename='networkx')"
   ]
  },
  {
   "cell_type": "markdown",
   "metadata": {
    "slideshow": {
     "slide_type": "slide"
    }
   },
   "source": [
    "# Using `d3`\n"
   ]
  },
  {
   "cell_type": "code",
   "execution_count": null,
   "metadata": {
    "slideshow": {
     "slide_type": "slide"
    }
   },
   "outputs": [],
   "source": [
    "HTML(\"<div id='d3target'></div>\")"
   ]
  },
  {
   "cell_type": "markdown",
   "metadata": {},
   "source": [
    "# Take-aways\n",
    "\n",
    "- Graph operations show up in quite a few areas.\n",
    "- Python has a number of tools to help you out.\n",
    "- As your graph grows you need to be more judicious in your tool selection.\n",
    "- Visualizing large graphs is difficult. Judiciously edit.\n",
    "- Graphs are a dessert topping and a floor wax."
   ]
  },
  {
   "cell_type": "markdown",
   "metadata": {
    "slideshow": {
     "slide_type": "slide"
    }
   },
   "source": [
    "# Fin"
   ]
  },
  {
   "cell_type": "code",
   "execution_count": null,
   "metadata": {
    "slideshow": {
     "slide_type": "skip"
    }
   },
   "outputs": [],
   "source": [
    "# this is needed to draw the d3 graph previously.\n",
    "display(Javascript(filename=\"include/js/d3draw.js\"))\n",
    "display(Javascript(\"\"\"(function(element){\n",
    "    require(['d3draw'], function(drawgraph) {          \n",
    "      drawgraph(\"#d3target\", %s, %d, %d);\n",
    "    });\n",
    "  })(element);\n",
    "  \"\"\" % (json.dumps(nx.node_link_data(G)), 1000, 600))\n",
    ")\n"
   ]
  },
  {
   "cell_type": "code",
   "execution_count": null,
   "metadata": {
    "slideshow": {
     "slide_type": "skip"
    }
   },
   "outputs": [],
   "source": [
    "# to read/write graph data:\n",
    "#with open('data/G.json', 'w') as outfile:\n",
    "#    json.dump(nx.node_link_data(G), outfile)\n",
    "#with open('data/G.json') as data_file:\n",
    "#    G = nx.node_link_graph(json.load(data_file))"
   ]
  },
  {
   "cell_type": "code",
   "execution_count": null,
   "metadata": {
    "slideshow": {
     "slide_type": "skip"
    }
   },
   "outputs": [],
   "source": []
  }
 ],
 "metadata": {
  "celltoolbar": "Slideshow",
  "kernelspec": {
   "display_name": "Python 3",
   "language": "python",
   "name": "python3"
  },
  "language_info": {
   "codemirror_mode": {
    "name": "ipython",
    "version": 3
   },
   "file_extension": ".py",
   "mimetype": "text/x-python",
   "name": "python",
   "nbconvert_exporter": "python",
   "pygments_lexer": "ipython3",
   "version": "3.6.6"
  },
  "livereveal": {
   "overlay": "<div class='myheader'></div>"
  }
 },
 "nbformat": 4,
 "nbformat_minor": 2
}
